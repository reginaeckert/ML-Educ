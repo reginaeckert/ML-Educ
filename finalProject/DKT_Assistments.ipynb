{
 "cells": [
  {
   "cell_type": "code",
   "execution_count": 1,
   "metadata": {
    "collapsed": false
   },
   "outputs": [
    {
     "name": "stderr",
     "output_type": "stream",
     "text": [
      "Using TensorFlow backend.\n"
     ]
    }
   ],
   "source": [
    "%matplotlib inline\n",
    "import pandas as pd\n",
    "import numpy as np\n",
    "import matplotlib.pyplot as plt\n",
    "import json\n",
    "from gensim.models import Word2Vec\n",
    "from sklearn.manifold import TSNE \n",
    "from IPython.core.debugger import set_trace\n",
    "from sklearn import cluster"
   ]
  },
  {
   "cell_type": "code",
   "execution_count": 2,
   "metadata": {
    "collapsed": true
   },
   "outputs": [],
   "source": [
    "response_df = pd.read_csv('correct.tsv', sep='\\t').drop('Unnamed: 0', axis=1)\n",
    "skill_df = pd.read_csv('skill.tsv', sep='\\t').drop('Unnamed: 0', axis=1)\n",
    "assistment_df = pd.read_csv('assistment_id.tsv', sep='\\t').drop('Unnamed: 0', axis=1)\n",
    "skill_dict = {}\n",
    "with open('skill_dict.json', 'r', encoding='utf-8') as f:\n",
    "    loaded = json.load(f)\n",
    "    for k, v in loaded.items():\n",
    "        skill_dict[k] = int(v)\n",
    "\n",
    "skill_num = len(skill_dict) + 1 # including 0\n",
    "#skill_num=len(np.unique(skill_df.iloc[:,2:51]))\n",
    "#Need to deal with having unequal number of problems for each student. Is this allowable in DKT?\n",
    "skill_df100=skill_df[skill_df.num_resp>100].copy()\n",
    "assistment_df100=assistment_df[assistment_df.num_resp>100].copy()\n",
    "response_df100=response_df[response_df.num_resp>100].copy()"
   ]
  },
  {
   "cell_type": "code",
   "execution_count": 3,
   "metadata": {
    "collapsed": false
   },
   "outputs": [],
   "source": [
    "#Create assistment encoding\n",
    "assistment_re_df100=assistment_df100.copy()\n",
    "assistment_enc_mat=assistment_df100.iloc[:,2:103].values.astype(int)\n",
    "assistment_enc=np.reshape(assistment_enc_mat,assistment_enc_mat.shape[0]*assistment_enc_mat.shape[1])\n",
    "assistment_enc2=np.unique(assistment_enc)\n",
    "\n",
    "num_assist=len(assistment_enc2)\n",
    "assistment_label=np.arange(num_assist)\n",
    "for ii in range(num_assist):\n",
    "    assistment_enc_mat[assistment_enc_mat==assistment_enc2[ii]]=ii\n",
    "    \n",
    "    \n",
    "#for ii in range(assistment_enc_mat.shape[0]):\n",
    "#    for jj in range(assistment_enc_mat.shape[1]):\n",
    "#        temp=assistment_enc_mat[ii,jj]\n",
    "#        assistment_enc_mat[ii,jj]=assistment_label[assistment_enc2==temp]\n",
    "        \n",
    "assistment_re_df100.iloc[:,2:103]=assistment_enc_mat"
   ]
  },
  {
   "cell_type": "code",
   "execution_count": 92,
   "metadata": {
    "collapsed": false
   },
   "outputs": [
    {
     "data": {
      "text/plain": [
       "0"
      ]
     },
     "execution_count": 92,
     "metadata": {},
     "output_type": "execute_result"
    }
   ],
   "source": []
  },
  {
   "cell_type": "code",
   "execution_count": 70,
   "metadata": {
    "collapsed": false
   },
   "outputs": [],
   "source": [
    "temp=assistment_enc_mat==assistment_enc2[ii]"
   ]
  },
  {
   "cell_type": "code",
   "execution_count": 82,
   "metadata": {
    "collapsed": false
   },
   "outputs": [
    {
     "data": {
      "text/plain": [
       "0"
      ]
     },
     "execution_count": 82,
     "metadata": {},
     "output_type": "execute_result"
    }
   ],
   "source": [
    "ii"
   ]
  },
  {
   "cell_type": "code",
   "execution_count": 72,
   "metadata": {
    "collapsed": false
   },
   "outputs": [
    {
     "data": {
      "text/plain": [
       "(584, 101)"
      ]
     },
     "execution_count": 72,
     "metadata": {},
     "output_type": "execute_result"
    }
   ],
   "source": [
    "assistment_enc_mat.shape"
   ]
  },
  {
   "cell_type": "code",
   "execution_count": null,
   "metadata": {
    "collapsed": true
   },
   "outputs": [],
   "source": []
  },
  {
   "cell_type": "code",
   "execution_count": 4,
   "metadata": {
    "collapsed": false
   },
   "outputs": [],
   "source": [
    "def one_hot(skill_matrix, vocab_size):\n",
    "    '''\n",
    "    params:\n",
    "        skill_matrix: 2-D matrix (student, skills)\n",
    "        vocal_size: size of the vocabulary\n",
    "    returns:\n",
    "        a ndarray with a shape like (student, sequence_len, vocab_size)\n",
    "    '''\n",
    "    seq_len = skill_matrix.shape[1] #Number of exercises (sequence length)\n",
    "    #Initialize result (student, sequence, one-hot skill) to zeros\n",
    "    result = np.zeros((skill_matrix.shape[0], seq_len, vocab_size)) \n",
    "    #For each student\n",
    "    for i in range(skill_matrix.shape[0]):\n",
    "        #Select the student, all sequences, and the related skill; set to 1\n",
    "        result[i, np.arange(seq_len), skill_matrix[i]] = 1.\n",
    "    return result\n",
    "\n",
    "def dkt_one_hot(skill_matrix, response_matrix, vocab_size):\n",
    "    #Number of exercises/skills\n",
    "    seq_len = skill_matrix.shape[1]\n",
    "    #Initialize output (student, sequence, 2 * vocab size) to zeros\n",
    "    skill_response_array = np.zeros((skill_matrix.shape[0], seq_len, 2 * vocab_size))\n",
    "    #For each student\n",
    "    for i in range(skill_matrix.shape[0]):\n",
    "        #Set to 1 the (student, all sequences, skill location + [0 1] if correct and + [1 0] if incorrect)\n",
    "        skill_response_array[i, np.arange(seq_len), 2 * skill_matrix[i] + response_matrix[i]] = 1.\n",
    "    return skill_response_array\n",
    "\n",
    "\n",
    "#Function to preprocess the data\n",
    "def preprocess(skill_df, response_df, skill_num):\n",
    "    skill_matrix = skill_df.iloc[:, 2:].values.astype(int) #Select values (excluding first column, which is index)\n",
    "    response_array = response_df.iloc[:, 2:].values.astype(int)\n",
    "    #Get the one-hots associated with each (student, sequence, skill one-hot)\n",
    "    skill_array = one_hot(skill_matrix, skill_num)\n",
    "    #Get the one-hots associated with (student, sequence, response one-hot)\n",
    "    #and (student, sequence, skill one-hot)\n",
    "    #skill_response_array, masking_array = dkt_one_hot(skill_matrix, response_array, skill_num)\n",
    "    skill_response_array = dkt_one_hot(skill_matrix, response_array, skill_num)\n",
    "    return skill_array, response_array, skill_response_array\n",
    "    \n",
    "\n",
    "assist_array, response_array, assist_response_array = preprocess(assistment_re_df100.iloc[:,0:103], response_df100.iloc[:,0:103], num_assist)"
   ]
  },
  {
   "cell_type": "code",
   "execution_count": 5,
   "metadata": {
    "collapsed": true
   },
   "outputs": [],
   "source": [
    "import keras\n",
    "from keras.layers import Input, Dense, LSTM, TimeDistributed, Lambda, multiply\n",
    "from keras.models import Model\n",
    "from keras.optimizers import RMSprop, Adam\n",
    "from keras.preprocessing.sequence import pad_sequences\n",
    "from keras import backend as K\n",
    "from keras.callbacks import EarlyStopping\n",
    "\n",
    "#Function to set up skill to skill model (input skills, output skill prediction)\n",
    "def build_skill2skill_model(input_shape, lstm_dim=32, dropout=0.0):\n",
    "    input = Input(shape=input_shape, name='input_skills')\n",
    "    lstm = LSTM(lstm_dim, \n",
    "                return_sequences=True, \n",
    "                dropout=dropout,\n",
    "                name='lstm_layer')(input)\n",
    "    output = TimeDistributed(Dense(input_shape[-1], activation='softmax'), name='probability')(lstm)\n",
    "    model = Model(inputs=[input], outputs=[output])\n",
    "    adam = Adam(lr=0.001, beta_1=0.9, beta_2=0.999, epsilon=1e-07, decay=0.0)\n",
    "    model.compile(optimizer=adam, loss='categorical_crossentropy', metrics=['accuracy'])\n",
    "    model.summary()\n",
    "    return model\n",
    "\n",
    "def reduce_dim(x):\n",
    "    x = K.max(x, axis=-1, keepdims=True)\n",
    "    return x\n",
    "\n",
    "#Skill and response\n",
    "def build_dkt_model(input_shape, lstm_dim=32, dropout=0.0):\n",
    "    input_skills = Input(shape=input_shape, name='input_skills') #A, input, [skill(identified) correctness]\n",
    "    #LSTM hidden layer, processing input_skills\n",
    "    lstm = LSTM(lstm_dim, \n",
    "                return_sequences=True, \n",
    "                dropout=dropout,\n",
    "                name='lstm_layer')(input_skills)\n",
    "    \n",
    "    #Output layer, acting on outputs of LSTM\n",
    "    #Probability of each skill being correct upon the next question\n",
    "    dense = TimeDistributed(Dense(int(input_shape[-1]/2), activation='sigmoid'), name='probability_for_each')(lstm)\n",
    " \n",
    "    #b, input, [actual next skill (identified)]\n",
    "    skill_next = Input(shape=(input_shape[0], int(input_shape[1]/2)), name='next_skill_tested')\n",
    "    #Select the actual next skill's probability\n",
    "    merged = multiply([dense, skill_next], name='multiply')\n",
    "    #Get only that result --> this is the output\n",
    "    reduced = Lambda(reduce_dim, output_shape=(input_shape[0], 1), name='reduce_dim')(merged)\n",
    "    \n",
    "    #Optimize using Adam\n",
    "    model = Model(inputs=[input_skills, skill_next], outputs=[reduced])\n",
    "    model2 = Model(inputs=[input_skills], outputs=[dense])\n",
    "    \n",
    "    adam = Adam(lr=0.001, beta_1=0.9, beta_2=0.999, epsilon=1e-07, decay=0.0)\n",
    "    model.compile(optimizer=adam, loss='binary_crossentropy', metrics=['accuracy'])\n",
    "    model.summary()\n",
    "    return model, model2"
   ]
  },
  {
   "cell_type": "code",
   "execution_count": 6,
   "metadata": {
    "collapsed": false
   },
   "outputs": [
    {
     "name": "stdout",
     "output_type": "stream",
     "text": [
      "dkt\n",
      "____________________________________________________________________________________________________\n",
      "Layer (type)                     Output Shape          Param #     Connected to                     \n",
      "====================================================================================================\n",
      "input_skills (InputLayer)        (None, 100, 19066)    0                                            \n",
      "____________________________________________________________________________________________________\n",
      "lstm_layer (LSTM)                (None, 100, 64)       4897536     input_skills[0][0]               \n",
      "____________________________________________________________________________________________________\n",
      "probability_for_each (TimeDistri (None, 100, 9533)     619645      lstm_layer[0][0]                 \n",
      "____________________________________________________________________________________________________\n",
      "next_skill_tested (InputLayer)   (None, 100, 9533)     0                                            \n",
      "____________________________________________________________________________________________________\n",
      "multiply (Multiply)              (None, 100, 9533)     0           probability_for_each[0][0]       \n",
      "                                                                   next_skill_tested[0][0]          \n",
      "____________________________________________________________________________________________________\n",
      "reduce_dim (Lambda)              (None, 100, 1)        0           multiply[0][0]                   \n",
      "====================================================================================================\n",
      "Total params: 5,517,181\n",
      "Trainable params: 5,517,181\n",
      "Non-trainable params: 0\n",
      "____________________________________________________________________________________________________\n",
      "Train on 467 samples, validate on 117 samples\n",
      "Epoch 1/20\n",
      "467/467 [==============================] - 57s - loss: 0.6920 - acc: 0.7342 - val_loss: 0.6914 - val_acc: 0.7428\n",
      "Epoch 2/20\n",
      "467/467 [==============================] - 64s - loss: 0.6744 - acc: 0.8516 - val_loss: 0.6565 - val_acc: 0.7419\n",
      "Epoch 3/20\n",
      "467/467 [==============================] - 82s - loss: 0.5464 - acc: 0.8660 - val_loss: 0.5750 - val_acc: 0.7553\n",
      "Epoch 4/20\n",
      "467/467 [==============================] - 82s - loss: 0.4107 - acc: 0.8728 - val_loss: 0.5298 - val_acc: 0.7538\n",
      "Epoch 5/20\n",
      "467/467 [==============================] - 65s - loss: 0.3514 - acc: 0.8739 - val_loss: 0.5202 - val_acc: 0.7544\n",
      "Epoch 6/20\n",
      "467/467 [==============================] - 55s - loss: 0.3263 - acc: 0.8739 - val_loss: 0.5183 - val_acc: 0.7539\n",
      "Epoch 7/20\n",
      "467/467 [==============================] - 55s - loss: 0.3119 - acc: 0.8740 - val_loss: 0.5211 - val_acc: 0.7523\n",
      "Epoch 8/20\n",
      "467/467 [==============================] - 54s - loss: 0.3025 - acc: 0.8736 - val_loss: 0.5250 - val_acc: 0.7560\n",
      "Epoch 9/20\n",
      "467/467 [==============================] - 52s - loss: 0.2961 - acc: 0.8733 - val_loss: 0.5303 - val_acc: 0.7532\n",
      "Epoch 10/20\n",
      "467/467 [==============================] - 53s - loss: 0.2911 - acc: 0.8734 - val_loss: 0.5359 - val_acc: 0.7553\n",
      "Epoch 11/20\n",
      "467/467 [==============================] - 52s - loss: 0.2873 - acc: 0.8745 - val_loss: 0.5414 - val_acc: 0.7531\n",
      "Epoch 12/20\n",
      "467/467 [==============================] - 54s - loss: 0.2844 - acc: 0.8736 - val_loss: 0.5476 - val_acc: 0.7509\n",
      "Epoch 13/20\n",
      "467/467 [==============================] - 53s - loss: 0.2819 - acc: 0.8735 - val_loss: 0.5532 - val_acc: 0.7520\n",
      "Epoch 14/20\n",
      "467/467 [==============================] - 53s - loss: 0.2797 - acc: 0.8733 - val_loss: 0.5588 - val_acc: 0.7507\n",
      "Epoch 15/20\n",
      "467/467 [==============================] - 53s - loss: 0.2780 - acc: 0.8735 - val_loss: 0.5634 - val_acc: 0.7540\n",
      "Epoch 16/20\n",
      "467/467 [==============================] - 53s - loss: 0.2767 - acc: 0.8728 - val_loss: 0.5692 - val_acc: 0.7528\n",
      "Epoch 17/20\n",
      "467/467 [==============================] - 53s - loss: 0.2752 - acc: 0.8733 - val_loss: 0.5737 - val_acc: 0.7564\n",
      "Epoch 18/20\n",
      "467/467 [==============================] - 53s - loss: 0.2740 - acc: 0.8740 - val_loss: 0.5783 - val_acc: 0.7541\n",
      "Epoch 19/20\n",
      "467/467 [==============================] - 52s - loss: 0.2730 - acc: 0.8737 - val_loss: 0.5831 - val_acc: 0.7534\n",
      "Epoch 20/20\n",
      "467/467 [==============================] - 53s - loss: 0.2721 - acc: 0.8738 - val_loss: 0.5881 - val_acc: 0.7521\n"
     ]
    },
    {
     "data": {
      "text/plain": [
       "<keras.callbacks.History at 0x123630b70>"
      ]
     },
     "execution_count": 6,
     "metadata": {},
     "output_type": "execute_result"
    }
   ],
   "source": [
    "print('dkt')\n",
    "dkt_model, dkt_model2 = build_dkt_model((100, 2 * num_assist), lstm_dim=64)\n",
    "\n",
    "dkt_model.fit([assist_response_array[:, 0:-1], assist_array[:, 1:]],\n",
    "              response_array[:, 1:, np.newaxis],\n",
    "              epochs=20, \n",
    "              batch_size=32, \n",
    "              shuffle=True,\n",
    "              validation_split=0.2)"
   ]
  },
  {
   "cell_type": "code",
   "execution_count": null,
   "metadata": {
    "collapsed": false
   },
   "outputs": [],
   "source": [
    "#Associate assistment with skill\n",
    "\n",
    "assistment_enc_mat2=assistment_df100.iloc[:,2:103].values.astype(int)\n",
    "skill_enc_mat=skill_df100.iloc[:,2:103].values.astype(int)\n",
    "skill_enc2=np.zeros(num_assist,dtype=int)\n",
    "\n",
    "for ii in range(num_assist):\n",
    "    skill_enc=skill_enc_mat[assistment_enc_mat2==assistment_enc2[ii]]\n",
    "    set_trace()\n",
    "    skill_enc2[ii]=skill_enc[0]\n",
    "    "
   ]
  },
  {
   "cell_type": "code",
   "execution_count": 99,
   "metadata": {
    "collapsed": false
   },
   "outputs": [],
   "source": [
    "#Create input to generate influence matrix\n",
    "#Input: each skill, correct\n",
    "response_test=np.ones((1,num_assist)).astype('int')\n",
    "assist_test=np.cumsum(response_test)-1\n",
    "assist_test=assist_test.reshape((1,num_assist)).astype('int')\n",
    "\n",
    "#Get the one-hots associated with each (student, sequence, skill one-hot)\n",
    "assist_test_array = one_hot(assist_test, num_assist)\n",
    "    #Get the one-hots associated with (student, sequence, response one-hot)\n",
    "    #and (student, sequence, skill one-hot)\n",
    "assist_response_test_array = dkt_one_hot(assist_test, response_test, num_assist)"
   ]
  },
  {
   "cell_type": "code",
   "execution_count": null,
   "metadata": {
    "collapsed": true
   },
   "outputs": [],
   "source": []
  },
  {
   "cell_type": "code",
   "execution_count": 100,
   "metadata": {
    "collapsed": true
   },
   "outputs": [],
   "source": [
    "q_matrix=np.zeros((num_assist,num_assist))\n",
    "seq_len=100\n",
    "for i in range(num_assist):\n",
    "    assist_response_array2 = np.zeros((1,seq_len,2 * num_assist))\n",
    "    assist_response_array2[0, np.arange(seq_len), 2 * i + 1] = 1.\n",
    "    #set_trace()\n",
    "    temp=dkt_model2.predict(assist_response_array2)\n",
    "    q_matrix[i,:]=temp[0,0,:]\n",
    "\n",
    "#q_matrix=q_matrix[0:-1,0:-1]"
   ]
  },
  {
   "cell_type": "code",
   "execution_count": 101,
   "metadata": {
    "collapsed": false
   },
   "outputs": [
    {
     "data": {
      "text/plain": [
       "<matplotlib.image.AxesImage at 0x481548630>"
      ]
     },
     "execution_count": 101,
     "metadata": {},
     "output_type": "execute_result"
    },
    {
     "data": {
      "image/png": "[encoded data removed]",
      "text/plain": [
       "<matplotlib.figure.Figure at 0x455271710>"
      ]
     },
     "metadata": {},
     "output_type": "display_data"
    }
   ],
   "source": [
    "plt.imshow(q_matrix)"
   ]
  },
  {
   "cell_type": "code",
   "execution_count": 103,
   "metadata": {
    "collapsed": false
   },
   "outputs": [
    {
     "data": {
      "image/png": "[encoded data removed]",
      "text/plain": [
       "<matplotlib.figure.Figure at 0x4816b90f0>"
      ]
     },
     "metadata": {},
     "output_type": "display_data"
    }
   ],
   "source": [
    "q_matrix_sum=np.sum(q_matrix,axis=0)\n",
    "q_matrix_n=q_matrix/np.tile(q_matrix_sum,[num_assist, 1])\n",
    "plt.imshow(q_matrix_n)\n",
    "q_matrix_sym=np.add(q_matrix_n,q_matrix_n.transpose())/2"
   ]
  },
  {
   "cell_type": "code",
   "execution_count": null,
   "metadata": {
    "collapsed": false
   },
   "outputs": [],
   "source": [
    "import networkx as nx\n",
    "G=nx.from_numpy_matrix(q_matrix_sym)\n",
    "L1 = nx.linalg.laplacian_matrix(G)\n",
    "L1_nd=L1.toarray()\n",
    "S1 = nx.linalg.laplacian_spectrum(G)\n",
    "eigVal,eigVec = np.linalg.eig(L1_nd)"
   ]
  },
  {
   "cell_type": "code",
   "execution_count": null,
   "metadata": {
    "collapsed": true
   },
   "outputs": [],
   "source": [
    "featureLen=50;\n",
    "featureVec=eigVec[:,0:featureLen]\n",
    "\n",
    "NCr = 64\n",
    "sse = np.zeros(NCr)\n",
    "for NC in range(NCr): # number of clusters for K-means\n",
    "    kmeanse = cluster.KMeans(n_clusters=(NC+1)).fit(featureVec)\n",
    "    labels = kmeanse.labels_\n",
    "    centers = kmeanse.cluster_centers_\n",
    "    for i in range(NC+1):\n",
    "        sse[NC] += np.sum((featureVec[np.where(labels==i)]-centers[i])**2)\n",
    "        \n",
    "plt.plot(np.arange(NCr)+1,sse)"
   ]
  },
  {
   "cell_type": "code",
   "execution_count": 106,
   "metadata": {
    "collapsed": false
   },
   "outputs": [],
   "source": [
    "spectral = cluster.SpectralClustering(n_clusters=32,affinity='precomputed')\n",
    "#temp=spectral.fit(q_matrix_n)#q_matrix_sym)#\n",
    "temp2=spectral.fit(q_matrix_sym)#\n",
    "#dkt_clusters=spectral.fit_predict(q_matrix_n)#q_matrix_n)\n",
    "dkt_clusters2=spectral.fit_predict(q_matrix_sym)#q_matrix_n)"
   ]
  },
  {
   "cell_type": "code",
   "execution_count": 107,
   "metadata": {
    "collapsed": false
   },
   "outputs": [
    {
     "data": {
      "text/plain": [
       "24    334\n",
       "13    332\n",
       "11    329\n",
       "3     323\n",
       "31    321\n",
       "6     318\n",
       "21    318\n",
       "5     318\n",
       "1     318\n",
       "28    315\n",
       "19    307\n",
       "18    306\n",
       "29    304\n",
       "9     302\n",
       "15    302\n",
       "12    301\n",
       "10    298\n",
       "23    296\n",
       "25    295\n",
       "22    293\n",
       "14    293\n",
       "0     291\n",
       "17    290\n",
       "27    288\n",
       "20    286\n",
       "8     286\n",
       "26    281\n",
       "4     280\n",
       "16    270\n",
       "30    254\n",
       "2     249\n",
       "7     235\n",
       "dtype: int64"
      ]
     },
     "execution_count": 107,
     "metadata": {},
     "output_type": "execute_result"
    }
   ],
   "source": [
    "pd.Series(dkt_clusters2).value_counts()"
   ]
  },
  {
   "cell_type": "code",
   "execution_count": null,
   "metadata": {
    "collapsed": true
   },
   "outputs": [],
   "source": [
    "assistment_enc_mat2=assistment_df100.iloc[:,2:103].values.astype(int)\n",
    "skill_enc_mat=skill_df100.iloc[:,2:103].values.astype(int)\n",
    "\n",
    "for ii in range(num_assist):\n",
    "    skill_enc2=skill_enc_mat"
   ]
  }
 ],
 "metadata": {
  "anaconda-cloud": {},
  "kernelspec": {
   "display_name": "Python [pythonEnv]",
   "language": "python",
   "name": "Python [pythonEnv]"
  },
  "language_info": {
   "codemirror_mode": {
    "name": "ipython",
    "version": 3
   },
   "file_extension": ".py",
   "mimetype": "text/x-python",
   "name": "python",
   "nbconvert_exporter": "python",
   "pygments_lexer": "ipython3",
   "version": "3.5.3"
  }
 },
 "nbformat": 4,
 "nbformat_minor": 0
}
