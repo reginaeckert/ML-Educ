{
 "cells": [
  {
   "cell_type": "code",
   "execution_count": null,
   "metadata": {
    "collapsed": false
   },
   "outputs": [],
   "source": [
    "%matplotlib inline\n",
    "import pandas as pd\n",
    "import numpy as np\n",
    "import matplotlib.pyplot as plt\n",
    "import json\n",
    "from gensim.models import Word2Vec\n",
    "from sklearn.manifold import TSNE "
   ]
  },
  {
   "cell_type": "code",
   "execution_count": null,
   "metadata": {
    "collapsed": true
   },
   "outputs": [],
   "source": [
    "from IPython.core.debugger import set_trace\n",
    "from sklearn import cluster"
   ]
  },
  {
   "cell_type": "code",
   "execution_count": null,
   "metadata": {
    "collapsed": true
   },
   "outputs": [],
   "source": [
    "#Read in skill builder dataset\n",
    "filename = 'skill_builder_data_corrected.csv'\n",
    "df = pd.read_csv(filename, encoding='ISO-8859-1', low_memory=False)\n",
    "df = df[(df['original'] == 1) & (df['attempt_count'] == 1) & ~(df['skill_name'].isnull())]\n",
    "#Get rid of scaffolding problems (hints) and problems attempted more than once, as well as those without skills"
   ]
  },
  {
   "cell_type": "code",
   "execution_count": null,
   "metadata": {
    "collapsed": false
   },
   "outputs": [],
   "source": [
    "df[df['assistment_id']==df['assistment_id'][1]][['base_sequence_id','assistment_id','user_id','skill_id','original']]\n",
    "gpb=df[df['assistment_id']==df['assistment_id'][1]].groupby('user_id')\n",
    "#gpb.assignment_id.value_counts()\n",
    "#gpb.skill_id.value_counts()\n",
    "#Skills are repeated"
   ]
  },
  {
   "cell_type": "code",
   "execution_count": null,
   "metadata": {
    "collapsed": false
   },
   "outputs": [],
   "source": [
    "#Read in problem text dataset\n",
    "filename2='../data/problems.csv'\n",
    "problems=pd.read_csv(filename2, encoding='ISO-8859-1', low_memory=False)"
   ]
  },
  {
   "cell_type": "code",
   "execution_count": null,
   "metadata": {
    "collapsed": false
   },
   "outputs": [],
   "source": [
    "#Select students that have attempted more than n problems \n",
    "students_list=df.groupby('user_id').problem_id.count()\n",
    "students_id=students_list[students_list>50].index #Get the associated user_id\n",
    "df2=df[df['user_id'].isin(students_id)] #Select only the rows containing those students"
   ]
  },
  {
   "cell_type": "code",
   "execution_count": null,
   "metadata": {
    "collapsed": false
   },
   "outputs": [],
   "source": [
    "#Merge the two datasets based on the problem_id and assistment_id\n",
    "#Each assistment_id can have multiple problem_id's\n",
    "#But each problem_id appears to only be associated with 1 assistment_id\n",
    "df3=pd.merge(df2,problems,on=['assistment_id','problem_id'],how='left',indicator=True)\n",
    "#Will still include rows where there is no corresponding problem description for the problem_id\n",
    "df3.shape\n",
    "df3.assistment_id.nunique()"
   ]
  },
  {
   "cell_type": "code",
   "execution_count": null,
   "metadata": {
    "collapsed": false
   },
   "outputs": [],
   "source": [
    "#Different way to merge\n",
    "df4=pd.merge(df2,problems,on=['assistment_id','problem_id'],how='inner')\n",
    "#Will cut out rows where there is no corresponding problem description for the problem_id\n",
    "#(This amounts to 120 rows and 23 unique problem_id's.)\n",
    "df4.shape"
   ]
  },
  {
   "cell_type": "code",
   "execution_count": null,
   "metadata": {
    "collapsed": false
   },
   "outputs": [],
   "source": [
    "#Count the ones without problem text\n",
    "nondescript=df3[df3['_merge']=='left_only']['problem_id']\n",
    "print('Number of rows without description: ', nondescript.size)\n",
    "print('Number of unique problems without description: ', nondescript.nunique())"
   ]
  },
  {
   "cell_type": "code",
   "execution_count": null,
   "metadata": {
    "collapsed": false
   },
   "outputs": [],
   "source": [
    "#Make sure each problem_id is only associated with 1 unique assistment_id\n",
    "any(df3.groupby('problem_id').assistment_id.nunique()>1)\n",
    "#Woo! No problem is associated with more than one assistment_id"
   ]
  },
  {
   "cell_type": "code",
   "execution_count": null,
   "metadata": {
    "collapsed": false
   },
   "outputs": [],
   "source": [
    "df3[df3['assistment_id']==df3['assistment_id'][1]][['base_sequence_id','assistment_id','user_id','skill_id','original']]\n",
    "gpb=df3[df3['assistment_id']==df3['assistment_id'][1]].groupby('user_id')\n",
    "gpb.assignment_id.value_counts()\n",
    "gpb.skill_id.value_counts()"
   ]
  },
  {
   "cell_type": "code",
   "execution_count": null,
   "metadata": {
    "collapsed": true
   },
   "outputs": [],
   "source": [
    "#List multiple skills per problem"
   ]
  },
  {
   "cell_type": "markdown",
   "metadata": {},
   "source": [
    "## Generate data"
   ]
  },
  {
   "cell_type": "code",
   "execution_count": null,
   "metadata": {
    "collapsed": false
   },
   "outputs": [],
   "source": [
    "#Define\n",
    "def generate_datasets(df):\n",
    "    users_list = df['user_id'].unique() #List of unique user ids\n",
    "    skill_list = df['skill_name'].unique() #List of unique skills\n",
    "    \n",
    "    #Create skill dict object\n",
    "    skill_dict = dict(zip(skill_list, np.arange(len(skill_list), dtype='int32') + 1))\n",
    "    \n",
    "    #Initialize response, skill, and assistment list\n",
    "    response_list = []\n",
    "    skill_list = []\n",
    "    assistment_list = []\n",
    "    \n",
    "    max_resp=0\n",
    "    counter = 0\n",
    "    #For each user\n",
    "    for user in users_list:\n",
    "        #Select all the data for that user\n",
    "        sub_df = df[df['user_id'] == user]\n",
    "        num_resp=len(sub_df)\n",
    "        #number of responses for that user\n",
    "        #If that user has more than 100 responses\n",
    "        if num_resp > 50:\n",
    "\n",
    "            #Create the dataframe spaces to hold the data\n",
    "            response_df = pd.DataFrame(index=[counter], columns=['student_id']+['num_resp']+['r'+str(i) for i in range(num_resp)])\n",
    "            skill_df = pd.DataFrame(index=[counter], columns=['student_id']+['num_resp']+['s'+str(i) for i in range(num_resp)])\n",
    "            assistment_df = pd.DataFrame(index=[counter], columns=['student_id']+['num_resp']+['a'+str(i) for i in range(num_resp)])\n",
    "            \n",
    "            #Copy over the user id info\n",
    "            response_df.iloc[0, 0] = sub_df.iloc[0]['user_id']\n",
    "            skill_df.iloc[0, 0] = sub_df.iloc[0]['user_id']\n",
    "            assistment_df.iloc[0, 0] = sub_df.iloc[0]['user_id']\n",
    "            \n",
    "            #Store number of responses\n",
    "            response_df.iloc[0, 1] = num_resp\n",
    "            skill_df.iloc[0, 1] = num_resp\n",
    "            assistment_df.iloc[0, 1] = num_resp\n",
    "            \n",
    "            #fill in the responses, skills, and assistments\n",
    "            for i in range(num_resp):\n",
    "                response_df.iloc[0, i+2] = sub_df.iloc[i]['correct']\n",
    "                skill_df.iloc[0, i+2] = skill_dict[sub_df.iloc[i]['skill_name']]\n",
    "                assistment_df.iloc[0, i+2] = sub_df.iloc[i]['assistment_id']\n",
    "            counter += 1\n",
    "            #Add to the overall list\n",
    "            response_list.append(response_df)\n",
    "            skill_list.append(skill_df)\n",
    "            assistment_list.append(assistment_df)\n",
    "            \n",
    "            #Record the columns for the max number of entries so can reorder after merge\n",
    "            if num_resp>max_resp:\n",
    "                max_resp=num_resp\n",
    "                col_order_r=response_df.columns\n",
    "                col_order_s=skill_df.columns\n",
    "                col_order_a=assistment_df.columns\n",
    "    \n",
    "    #Convert to a dataframe\n",
    "    response_df = pd.concat(response_list)\n",
    "    skill_df = pd.concat(skill_list)\n",
    "    assistment_df = pd.concat(assistment_list)\n",
    "    \n",
    "    #Reorder\n",
    "    response_df=response_df[col_order_r]\n",
    "    skill_df=skill_df[col_order_s]\n",
    "    assistment_df=assistment_df[col_order_a]\n",
    "    #set_trace()\n",
    "    \n",
    "    #Return\n",
    "    return skill_dict, response_df, skill_df, assistment_df\n",
    "    \n",
    "#Use function to generate the dataset as required\n",
    "skill_dict, response_df, skill_df, assistment_df = generate_datasets(df3)\n",
    "    "
   ]
  },
  {
   "cell_type": "code",
   "execution_count": null,
   "metadata": {
    "collapsed": false
   },
   "outputs": [],
   "source": [
    "#Save the data files\n",
    "with open('skill_dict.json', 'w', encoding='utf-8') as f:\n",
    "    to_dump_dict = {}\n",
    "    for key, value in skill_dict.items():\n",
    "        to_dump_dict[key] = str(value)\n",
    "    json.dump(to_dump_dict, f)\n",
    "response_df.to_csv('correct.tsv', sep='\\t')\n",
    "skill_df.to_csv('skill.tsv', sep='\\t')\n",
    "assistment_df.to_csv('assistment_id.tsv', sep='\\t')\n",
    "print('Done')"
   ]
  },
  {
   "cell_type": "markdown",
   "metadata": {},
   "source": [
    "# Word2Vec"
   ]
  },
  {
   "cell_type": "markdown",
   "metadata": {},
   "source": [
    "## Read in data"
   ]
  },
  {
   "cell_type": "code",
   "execution_count": null,
   "metadata": {
    "collapsed": true
   },
   "outputs": [],
   "source": [
    "assistment_df = pd.read_csv('assistment_id.tsv', sep='\\t').drop('Unnamed: 0', axis=1)"
   ]
  },
  {
   "cell_type": "code",
   "execution_count": null,
   "metadata": {
    "collapsed": false
   },
   "outputs": [],
   "source": [
    "assistments=assistment_df.iloc[:,2:].values.astype(str) #Get rid of user_id\n",
    "user_list=assistment_df.iloc[:,0].values.astype(int) #Get user_id\n",
    "sentence_len=assistment_df.iloc[:,1].values.astype(int) #Extract number of responses\n",
    "sentences=[]\n",
    "#Copy only the ones that aren't nan\n",
    "for i in range(len(sentence_len)):\n",
    "    sentence=assistments[i,0:sentence_len[i]].tolist()\n",
    "    sentences.append(sentence)"
   ]
  },
  {
   "cell_type": "code",
   "execution_count": null,
   "metadata": {
    "collapsed": false
   },
   "outputs": [],
   "source": [
    "assistment_list=assistment_df.iloc[:,2:].values.astype(str)\n",
    "assistment_list=assistment_list.reshape((1006*1024,1))"
   ]
  },
  {
   "cell_type": "code",
   "execution_count": null,
   "metadata": {
    "collapsed": false
   },
   "outputs": [],
   "source": [
    "temp=np.unique(assistment_list)\n",
    "temp.shape"
   ]
  },
  {
   "cell_type": "markdown",
   "metadata": {},
   "source": [
    "## Run model"
   ]
  },
  {
   "cell_type": "code",
   "execution_count": null,
   "metadata": {
    "collapsed": false
   },
   "outputs": [],
   "source": [
    "#Each student is a \"sentence\", each skill is a \"word\"\n",
    "#size = dimensionality of feature vectors\n",
    "#window = max distance between current and predicted word within a sentence\n",
    "#min_count = minimum number of occurrences within dataset\n",
    "#workers = number of threads used\n",
    "#sg = 0 (CBOW, default); = 1 (skip-gram)\n",
    "model = Word2Vec(sentences, size=200, window=10, min_count=1, workers=4, sg=1, iter=30)\n",
    "\n",
    "assist_num=model.wv.vocab; #Names of the words (numbers)\n",
    "assist_vec=model[assist_num] #Access the vectors"
   ]
  },
  {
   "cell_type": "code",
   "execution_count": null,
   "metadata": {
    "collapsed": false
   },
   "outputs": [],
   "source": [
    "#Need to process to associate assistment with multiple skills\n",
    "assist_vec.shape"
   ]
  },
  {
   "cell_type": "markdown",
   "metadata": {},
   "source": [
    "## TSNE"
   ]
  },
  {
   "cell_type": "code",
   "execution_count": null,
   "metadata": {
    "collapsed": false
   },
   "outputs": [],
   "source": [
    "tsne=TSNE(perplexity=30) #Instantiate the TSNE model (can change params here)\n",
    "assist_tsne=tsne.fit_transform(assist_vec.astype(float)) #Run tsne\n",
    "\n",
    "assist_skill=list()\n",
    "\n",
    "for k,v in assist_num.items():\n",
    "    skill = df[df['assistment_id'] == int(k)]['skill_name'].iloc[0] # get the first skill associated with the assistment\n",
    "    assist_skill.append(skill)\n",
    "\n",
    "    #Save as a tsv file for d3-scatterplot\n",
    "# d={'x': skill_tsne[:,0],\n",
    "#   'y': skill_tsne[:,1],\n",
    "#   'skill' : skill_name}\n",
    "tsne_save=pd.DataFrame({'x': assist_tsne[:,0],\n",
    "  'y': assist_tsne[:,1],\n",
    "  'skill' : assist_skill})\n",
    "tsne_save.to_csv('../d3-scatterplot/tsne_assist.tsv',sep='\\t',index=False,columns=['x','y','skill'])"
   ]
  },
  {
   "cell_type": "markdown",
   "metadata": {},
   "source": [
    "# DKT"
   ]
  },
  {
   "cell_type": "markdown",
   "metadata": {},
   "source": [
    "## Read in data"
   ]
  },
  {
   "cell_type": "code",
   "execution_count": null,
   "metadata": {
    "collapsed": true
   },
   "outputs": [],
   "source": [
    "response_df = pd.read_csv('correct.tsv', sep='\\t').drop('Unnamed: 0', axis=1)\n",
    "skill_df = pd.read_csv('skill.tsv', sep='\\t').drop('Unnamed: 0', axis=1)\n",
    "assistment_df = pd.read_csv('assistment_id.tsv', sep='\\t').drop('Unnamed: 0', axis=1)\n",
    "skill_dict = {}\n",
    "with open('skill_dict.json', 'r', encoding='utf-8') as f:\n",
    "    loaded = json.load(f)\n",
    "    for k, v in loaded.items():\n",
    "        skill_dict[k] = int(v)\n",
    "\n",
    "skill_num = len(skill_dict) + 1 # including 0\n",
    "#skill_num=len(np.unique(skill_df.iloc[:,2:51]))\n",
    "#Need to deal with having unequal number of problems for each student. Is this allowable in DKT?"
   ]
  },
  {
   "cell_type": "code",
   "execution_count": null,
   "metadata": {
    "collapsed": false
   },
   "outputs": [],
   "source": [
    "skill_df100=skill_df[skill_df.num_resp>100].copy()\n",
    "assistment_df100=assistment_df[assistment_df.num_resp>100].copy()\n",
    "response_df100=response_df[response_df.num_resp>100].copy()\n"
   ]
  },
  {
   "cell_type": "code",
   "execution_count": null,
   "metadata": {
    "collapsed": false
   },
   "outputs": [],
   "source": [
    "skill_df100.iloc[:,0:103].isnull().any().any()\n"
   ]
  },
  {
   "cell_type": "code",
   "execution_count": null,
   "metadata": {
    "collapsed": false
   },
   "outputs": [],
   "source": [
    "#Are assistments with multiple skills listed more than once?\n",
    "skill_np=skill_df.iloc[:,2:].values.astype(float)\n",
    "assistment_np=assistment_df.iloc[:,2:].values.astype(float)\n",
    "np.unique(skill_np[assistment_np==assistment_np[3]])\n",
    "#Answer: Yes, they are.\n",
    "#Do we just take the first listed skill...? Or include them multiple times...?"
   ]
  },
  {
   "cell_type": "markdown",
   "metadata": {},
   "source": [
    "## DKT functions"
   ]
  },
  {
   "cell_type": "code",
   "execution_count": null,
   "metadata": {
    "collapsed": false
   },
   "outputs": [],
   "source": [
    "def one_hot(skill_matrix, vocab_size):\n",
    "    '''\n",
    "    params:\n",
    "        skill_matrix: 2-D matrix (student, skills)\n",
    "        vocal_size: size of the vocabulary\n",
    "    returns:\n",
    "        a ndarray with a shape like (student, sequence_len, vocab_size)\n",
    "    '''\n",
    "    seq_len = skill_matrix.shape[1] #Number of exercises (sequence length)\n",
    "    #Initialize result (student, sequence, one-hot skill) to zeros\n",
    "    result = np.zeros((skill_matrix.shape[0], seq_len, vocab_size)) \n",
    "    #For each student\n",
    "    for i in range(skill_matrix.shape[0]):\n",
    "        #Select the student, all sequences, and the related skill; set to 1\n",
    "        result[i, np.arange(seq_len), skill_matrix[i]] = 1.\n",
    "    return result\n",
    "\n",
    "def dkt_one_hot(skill_matrix, response_matrix, vocab_size):\n",
    "    #Number of exercises/skills\n",
    "    seq_len = skill_matrix.shape[1]\n",
    "    #Initialize output (student, sequence, 2 * vocab size) to zeros\n",
    "    skill_response_array = np.zeros((skill_matrix.shape[0], seq_len, 2 * vocab_size))\n",
    "    #For each student\n",
    "    for i in range(skill_matrix.shape[0]):\n",
    "        #Set to 1 the (student, all sequences, skill location + [0 1] if correct and + [1 0] if incorrect)\n",
    "        skill_response_array[i, np.arange(seq_len), 2 * skill_matrix[i] + response_matrix[i]] = 1.\n",
    "    return skill_response_array\n",
    "\n",
    "\n",
    "#Function to preprocess the data\n",
    "def preprocess(skill_df, response_df, skill_num):\n",
    "    skill_matrix = skill_df.iloc[:, 2:].values.astype(int) #Select values (excluding first column, which is index)\n",
    "    response_array = response_df.iloc[:, 2:].values.astype(int)\n",
    "    #Get the one-hots associated with each (student, sequence, skill one-hot)\n",
    "    skill_array = one_hot(skill_matrix, skill_num)\n",
    "    #Get the one-hots associated with (student, sequence, response one-hot)\n",
    "    #and (student, sequence, skill one-hot)\n",
    "    #skill_response_array, masking_array = dkt_one_hot(skill_matrix, response_array, skill_num)\n",
    "    skill_response_array = dkt_one_hot(skill_matrix, response_array, skill_num)\n",
    "    return skill_array, response_array, skill_response_array\n",
    "    \n",
    "\n",
    "skill_array, response_array, skill_response_array = preprocess(skill_df100.iloc[:,0:103], response_df100.iloc[:,0:103], skill_num)"
   ]
  },
  {
   "cell_type": "code",
   "execution_count": null,
   "metadata": {
    "collapsed": true
   },
   "outputs": [],
   "source": [
    "import keras\n",
    "from keras.layers import Input, Dense, LSTM, TimeDistributed, Lambda, multiply\n",
    "from keras.models import Model\n",
    "from keras.optimizers import RMSprop, Adam\n",
    "from keras.preprocessing.sequence import pad_sequences\n",
    "from keras import backend as K\n",
    "from keras.callbacks import EarlyStopping\n",
    "\n",
    "#Function to set up skill to skill model (input skills, output skill prediction)\n",
    "def build_skill2skill_model(input_shape, lstm_dim=32, dropout=0.0):\n",
    "    input = Input(shape=input_shape, name='input_skills')\n",
    "    lstm = LSTM(lstm_dim, \n",
    "                return_sequences=True, \n",
    "                dropout=dropout,\n",
    "                name='lstm_layer')(input)\n",
    "    output = TimeDistributed(Dense(input_shape[-1], activation='softmax'), name='probability')(lstm)\n",
    "    model = Model(inputs=[input], outputs=[output])\n",
    "    adam = Adam(lr=0.001, beta_1=0.9, beta_2=0.999, epsilon=1e-07, decay=0.0)\n",
    "    model.compile(optimizer=adam, loss='categorical_crossentropy', metrics=['accuracy'])\n",
    "    model.summary()\n",
    "    return model\n",
    "\n",
    "def reduce_dim(x):\n",
    "    x = K.max(x, axis=-1, keepdims=True)\n",
    "    return x\n",
    "\n",
    "#Skill and response\n",
    "def build_dkt_model(input_shape, lstm_dim=32, dropout=0.0):\n",
    "    input_skills = Input(shape=input_shape, name='input_skills') #A, input, [skill(identified) correctness]\n",
    "    #LSTM hidden layer, processing input_skills\n",
    "    lstm = LSTM(lstm_dim, \n",
    "                return_sequences=True, \n",
    "                dropout=dropout,\n",
    "                name='lstm_layer')(input_skills)\n",
    "    \n",
    "    #Output layer, acting on outputs of LSTM\n",
    "    #Probability of each skill being correct upon the next question\n",
    "    dense = TimeDistributed(Dense(int(input_shape[-1]/2), activation='sigmoid'), name='probability_for_each')(lstm)\n",
    " \n",
    "    #b, input, [actual next skill (identified)]\n",
    "    skill_next = Input(shape=(input_shape[0], int(input_shape[1]/2)), name='next_skill_tested')\n",
    "    #Select the actual next skill's probability\n",
    "    merged = multiply([dense, skill_next], name='multiply')\n",
    "    #Get only that result --> this is the output\n",
    "    reduced = Lambda(reduce_dim, output_shape=(input_shape[0], 1), name='reduce_dim')(merged)\n",
    "    \n",
    "    #Optimize using Adam\n",
    "    model = Model(inputs=[input_skills, skill_next], outputs=[reduced])\n",
    "    model2 = Model(inputs=[input_skills], outputs=[dense])\n",
    "    \n",
    "    adam = Adam(lr=0.001, beta_1=0.9, beta_2=0.999, epsilon=1e-07, decay=0.0)\n",
    "    model.compile(optimizer=adam, loss='binary_crossentropy', metrics=['accuracy'])\n",
    "    model.summary()\n",
    "    return model, model2"
   ]
  },
  {
   "cell_type": "code",
   "execution_count": null,
   "metadata": {
    "collapsed": true
   },
   "outputs": [],
   "source": [
    "print('skill2skill')\n",
    "skill2skill_model = build_skill2skill_model((99, skill_num), lstm_dim=64)\n",
    "\n",
    "# train skill2skill\n",
    "skill2skill_model.fit(skill_array[:, 0:-1], \n",
    "                      skill_array[:, 1:],\n",
    "                      epochs=20, \n",
    "                      batch_size=32, \n",
    "                      shuffle=True,\n",
    "                      validation_split=0.2)"
   ]
  },
  {
   "cell_type": "code",
   "execution_count": null,
   "metadata": {
    "collapsed": false
   },
   "outputs": [],
   "source": [
    "print('dkt')\n",
    "dkt_model, dkt_model2 = build_dkt_model((100, 2 * skill_num), lstm_dim=64)\n",
    "\n",
    "dkt_model.fit([skill_response_array[:, 0:-1], skill_array[:, 1:]],\n",
    "              response_array[:, 1:, np.newaxis],\n",
    "              epochs=20, \n",
    "              batch_size=32, \n",
    "              shuffle=True,\n",
    "              validation_split=0.2)"
   ]
  },
  {
   "cell_type": "code",
   "execution_count": null,
   "metadata": {
    "collapsed": false
   },
   "outputs": [],
   "source": [
    "#Create input to generate influence matrix\n",
    "#Input: each skill, correct\n",
    "response_test=np.ones((1,skill_num)).astype('int')\n",
    "skill_test=np.cumsum(response_test)-1\n",
    "skill_test=skill_test.reshape((1,107)).astype('int')\n",
    "\n",
    "#Get the one-hots associated with each (student, sequence, skill one-hot)\n",
    "skill_test_array = one_hot(skill_test, skill_num)\n",
    "    #Get the one-hots associated with (student, sequence, response one-hot)\n",
    "    #and (student, sequence, skill one-hot)\n",
    "skill_response_test_array = dkt_one_hot(skill_test, response_test, skill_num)\n",
    "    \n",
    "#Output: probability of correctness for each skill at next step\n"
   ]
  },
  {
   "cell_type": "code",
   "execution_count": null,
   "metadata": {
    "collapsed": false
   },
   "outputs": [],
   "source": [
    "skill_response_test_array.shape"
   ]
  },
  {
   "cell_type": "code",
   "execution_count": null,
   "metadata": {
    "collapsed": false
   },
   "outputs": [],
   "source": [
    "q_matrix=np.zeros((skill_num,skill_num))\n",
    "seq_len=100\n",
    "for i in range(skill_num):\n",
    "    skill_response_array2 = np.zeros((1,seq_len,2 * skill_num))\n",
    "    skill_response_array2[0, np.arange(seq_len), 2 * i + 1] = 1.\n",
    "    #set_trace()\n",
    "    temp=dkt_model2.predict(skill_response_array2)\n",
    "    q_matrix[i,:]=temp[0,0,:]\n",
    "\n",
    "q_matrix=q_matrix[0:-1,0:-1]"
   ]
  },
  {
   "cell_type": "code",
   "execution_count": null,
   "metadata": {
    "collapsed": false
   },
   "outputs": [],
   "source": [
    "plt.imshow(q_matrix)"
   ]
  },
  {
   "cell_type": "code",
   "execution_count": null,
   "metadata": {
    "collapsed": false
   },
   "outputs": [],
   "source": [
    "q_matrix_sum=np.sum(q_matrix,axis=0)\n",
    "q_matrix_n=q_matrix/np.tile(q_matrix_sum,[skill_num-1, 1])\n",
    "plt.imshow(q_matrix_n)"
   ]
  },
  {
   "cell_type": "markdown",
   "metadata": {},
   "source": [
    "## Spectral Clustering"
   ]
  },
  {
   "cell_type": "code",
   "execution_count": null,
   "metadata": {
    "collapsed": false
   },
   "outputs": [],
   "source": [
    "spectral = cluster.SpectralClustering(n_clusters=10,affinity='precomputed')\n",
    "dkt_clusters=spectral.fit_predict(q_matrix_n)"
   ]
  },
  {
   "cell_type": "code",
   "execution_count": null,
   "metadata": {
    "collapsed": false
   },
   "outputs": [],
   "source": [
    "d2={value:key for key, value in skill_dict.items()}\n",
    "skill_list_dkt=list(range(106))\n",
    "for key, value in d2.items():\n",
    "    skill_list_dkt[int(key)-1]=value\n",
    "    \n",
    "skill_list_dkt=np.array(skill_list_dkt)"
   ]
  },
  {
   "cell_type": "code",
   "execution_count": null,
   "metadata": {
    "collapsed": false
   },
   "outputs": [],
   "source": [
    "skill_list_dkt[dkt_clusters==6]"
   ]
  },
  {
   "cell_type": "code",
   "execution_count": null,
   "metadata": {
    "collapsed": false
   },
   "outputs": [],
   "source": [
    "pd.Series(dkt_clusters).value_counts()"
   ]
  },
  {
   "cell_type": "code",
   "execution_count": null,
   "metadata": {
    "collapsed": false
   },
   "outputs": [],
   "source": [
    "import networkx as nx\n",
    "\n",
    "q_matrix_sym=np.add(q_matrix_n,q_matrix_n.transpose())/2\n",
    "G=nx.from_numpy_matrix(q_matrix_sym)\n",
    "L1 = nx.linalg.laplacian_matrix(G)\n",
    "L1_nd=L1.toarray()\n",
    "S1 = nx.linalg.laplacian_spectrum(G)\n",
    "eigVal,eigVec = np.linalg.eig(L1_nd)"
   ]
  },
  {
   "cell_type": "code",
   "execution_count": null,
   "metadata": {
    "collapsed": false
   },
   "outputs": [],
   "source": [
    "type(q_matrix_n.transpose())"
   ]
  },
  {
   "cell_type": "code",
   "execution_count": null,
   "metadata": {
    "collapsed": false
   },
   "outputs": [],
   "source": [
    "eigVec"
   ]
  },
  {
   "cell_type": "code",
   "execution_count": null,
   "metadata": {
    "collapsed": false
   },
   "outputs": [],
   "source": [
    "S1"
   ]
  },
  {
   "cell_type": "code",
   "execution_count": null,
   "metadata": {
    "collapsed": false
   },
   "outputs": [],
   "source": [
    "plt.imshow(q_matrix_sym)\n",
    "plt.imshow(q_matrix_n)"
   ]
  },
  {
   "cell_type": "code",
   "execution_count": null,
   "metadata": {
    "collapsed": true
   },
   "outputs": [],
   "source": []
  }
 ],
 "metadata": {
  "anaconda-cloud": {},
  "kernelspec": {
   "display_name": "Python [pythonEnv]",
   "language": "python",
   "name": "Python [pythonEnv]"
  },
  "language_info": {
   "codemirror_mode": {
    "name": "ipython",
    "version": 3
   },
   "file_extension": ".py",
   "mimetype": "text/x-python",
   "name": "python",
   "nbconvert_exporter": "python",
   "pygments_lexer": "ipython3",
   "version": "3.5.3"
  }
 },
 "nbformat": 4,
 "nbformat_minor": 0
}
