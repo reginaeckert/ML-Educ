{
 "cells": [
  {
   "cell_type": "code",
   "execution_count": 1,
   "metadata": {
    "collapsed": false
   },
   "outputs": [
    {
     "name": "stderr",
     "output_type": "stream",
     "text": [
      "Using TensorFlow backend.\n"
     ]
    }
   ],
   "source": [
    "%matplotlib inline\n",
    "import pandas as pd\n",
    "import numpy as np\n",
    "import matplotlib.pyplot as plt\n",
    "import json\n",
    "from gensim.models import Word2Vec\n",
    "from sklearn.manifold import TSNE "
   ]
  },
  {
   "cell_type": "code",
   "execution_count": 239,
   "metadata": {
    "collapsed": true
   },
   "outputs": [],
   "source": [
    "from IPython.core.debugger import set_trace\n",
    "from sklearn import cluster"
   ]
  },
  {
   "cell_type": "code",
   "execution_count": 52,
   "metadata": {
    "collapsed": true
   },
   "outputs": [],
   "source": [
    "#Read in skill builder dataset\n",
    "filename = 'skill_builder_data_corrected.csv'\n",
    "df = pd.read_csv(filename, encoding='ISO-8859-1', low_memory=False)\n",
    "df = df[(df['original'] == 1) & (df['attempt_count'] == 1) & ~(df['skill_name'].isnull())]\n",
    "#Get rid of scaffolding problems (hints) and problems attempted more than once, as well as those without skills"
   ]
  },
  {
   "cell_type": "code",
   "execution_count": 184,
   "metadata": {
    "collapsed": false
   },
   "outputs": [],
   "source": [
    "df[df['assistment_id']==df['assistment_id'][1]][['base_sequence_id','assistment_id','user_id','skill_id','original']]\n",
    "gpb=df[df['assistment_id']==df['assistment_id'][1]].groupby('user_id')\n",
    "#gpb.assignment_id.value_counts()\n",
    "#gpb.skill_id.value_counts()\n",
    "#Skills are repeated"
   ]
  },
  {
   "cell_type": "code",
   "execution_count": 60,
   "metadata": {
    "collapsed": false
   },
   "outputs": [],
   "source": [
    "#Read in problem text dataset\n",
    "filename2='../data/problems.csv'\n",
    "problems=pd.read_csv(filename2, encoding='ISO-8859-1', low_memory=False)"
   ]
  },
  {
   "cell_type": "code",
   "execution_count": 61,
   "metadata": {
    "collapsed": false
   },
   "outputs": [],
   "source": [
    "#Select students that have attempted more than n problems \n",
    "students_list=df.groupby('user_id').problem_id.count()\n",
    "students_id=students_list[students_list>50].index #Get the associated user_id\n",
    "df2=df[df['user_id'].isin(students_id)] #Select only the rows containing those students"
   ]
  },
  {
   "cell_type": "code",
   "execution_count": 185,
   "metadata": {
    "collapsed": false
   },
   "outputs": [
    {
     "data": {
      "text/plain": [
       "14107"
      ]
     },
     "execution_count": 185,
     "metadata": {},
     "output_type": "execute_result"
    }
   ],
   "source": [
    "#Merge the two datasets based on the problem_id and assistment_id\n",
    "#Each assistment_id can have multiple problem_id's\n",
    "#But each problem_id appears to only be associated with 1 assistment_id\n",
    "df3=pd.merge(df2,problems,on=['assistment_id','problem_id'],how='left',indicator=True)\n",
    "#Will still include rows where there is no corresponding problem description for the problem_id\n",
    "df3.shape\n",
    "df3.assistment_id.nunique()"
   ]
  },
  {
   "cell_type": "code",
   "execution_count": null,
   "metadata": {
    "collapsed": false
   },
   "outputs": [],
   "source": [
    "#Different way to merge\n",
    "df4=pd.merge(df2,problems,on=['assistment_id','problem_id'],how='inner')\n",
    "#Will cut out rows where there is no corresponding problem description for the problem_id\n",
    "#(This amounts to 120 rows and 23 unique problem_id's.)\n",
    "df4.shape"
   ]
  },
  {
   "cell_type": "code",
   "execution_count": null,
   "metadata": {
    "collapsed": false
   },
   "outputs": [],
   "source": [
    "#Count the ones without problem text\n",
    "nondescript=df3[df3['_merge']=='left_only']['problem_id']\n",
    "print('Number of rows without description: ', nondescript.size)\n",
    "print('Number of unique problems without description: ', nondescript.nunique())"
   ]
  },
  {
   "cell_type": "code",
   "execution_count": null,
   "metadata": {
    "collapsed": false
   },
   "outputs": [],
   "source": [
    "#Make sure each problem_id is only associated with 1 unique assistment_id\n",
    "any(df3.groupby('problem_id').assistment_id.nunique()>1)\n",
    "#Woo! No problem is associated with more than one assistment_id"
   ]
  },
  {
   "cell_type": "code",
   "execution_count": null,
   "metadata": {
    "collapsed": false
   },
   "outputs": [],
   "source": [
    "df3[df3['assistment_id']==df3['assistment_id'][1]][['base_sequence_id','assistment_id','user_id','skill_id','original']]\n",
    "gpb=df3[df3['assistment_id']==df3['assistment_id'][1]].groupby('user_id')\n",
    "gpb.assignment_id.value_counts()\n",
    "gpb.skill_id.value_counts()"
   ]
  },
  {
   "cell_type": "code",
   "execution_count": null,
   "metadata": {
    "collapsed": true
   },
   "outputs": [],
   "source": [
    "#List multiple skills per problem"
   ]
  },
  {
   "cell_type": "markdown",
   "metadata": {},
   "source": [
    "## Generate data"
   ]
  },
  {
   "cell_type": "code",
   "execution_count": null,
   "metadata": {
    "collapsed": false
   },
   "outputs": [],
   "source": [
    "#Define\n",
    "def generate_datasets(df):\n",
    "    users_list = df['user_id'].unique() #List of unique user ids\n",
    "    skill_list = df['skill_name'].unique() #List of unique skills\n",
    "    \n",
    "    #Create skill dict object\n",
    "    skill_dict = dict(zip(skill_list, np.arange(len(skill_list), dtype='int32') + 1))\n",
    "    \n",
    "    #Initialize response, skill, and assistment list\n",
    "    response_list = []\n",
    "    skill_list = []\n",
    "    assistment_list = []\n",
    "    \n",
    "    max_resp=0\n",
    "    counter = 0\n",
    "    #For each user\n",
    "    for user in users_list:\n",
    "        #Select all the data for that user\n",
    "        sub_df = df[df['user_id'] == user]\n",
    "        num_resp=len(sub_df)\n",
    "        #number of responses for that user\n",
    "        #If that user has more than 100 responses\n",
    "        if num_resp > 50:\n",
    "\n",
    "            #Create the dataframe spaces to hold the data\n",
    "            response_df = pd.DataFrame(index=[counter], columns=['student_id']+['num_resp']+['r'+str(i) for i in range(num_resp)])\n",
    "            skill_df = pd.DataFrame(index=[counter], columns=['student_id']+['num_resp']+['s'+str(i) for i in range(num_resp)])\n",
    "            assistment_df = pd.DataFrame(index=[counter], columns=['student_id']+['num_resp']+['a'+str(i) for i in range(num_resp)])\n",
    "            \n",
    "            #Copy over the user id info\n",
    "            response_df.iloc[0, 0] = sub_df.iloc[0]['user_id']\n",
    "            skill_df.iloc[0, 0] = sub_df.iloc[0]['user_id']\n",
    "            assistment_df.iloc[0, 0] = sub_df.iloc[0]['user_id']\n",
    "            \n",
    "            #Store number of responses\n",
    "            response_df.iloc[0, 1] = num_resp\n",
    "            skill_df.iloc[0, 1] = num_resp\n",
    "            assistment_df.iloc[0, 1] = num_resp\n",
    "            \n",
    "            #fill in the responses, skills, and assistments\n",
    "            for i in range(num_resp):\n",
    "                response_df.iloc[0, i+2] = sub_df.iloc[i]['correct']\n",
    "                skill_df.iloc[0, i+2] = skill_dict[sub_df.iloc[i]['skill_name']]\n",
    "                assistment_df.iloc[0, i+2] = sub_df.iloc[i]['assistment_id']\n",
    "            counter += 1\n",
    "            #Add to the overall list\n",
    "            response_list.append(response_df)\n",
    "            skill_list.append(skill_df)\n",
    "            assistment_list.append(assistment_df)\n",
    "            \n",
    "            #Record the columns for the max number of entries so can reorder after merge\n",
    "            if num_resp>max_resp:\n",
    "                max_resp=num_resp\n",
    "                col_order_r=response_df.columns\n",
    "                col_order_s=skill_df.columns\n",
    "                col_order_a=assistment_df.columns\n",
    "    \n",
    "    #Convert to a dataframe\n",
    "    response_df = pd.concat(response_list)\n",
    "    skill_df = pd.concat(skill_list)\n",
    "    assistment_df = pd.concat(assistment_list)\n",
    "    \n",
    "    #Reorder\n",
    "    response_df=response_df[col_order_r]\n",
    "    skill_df=skill_df[col_order_s]\n",
    "    assistment_df=assistment_df[col_order_a]\n",
    "    #set_trace()\n",
    "    \n",
    "    #Return\n",
    "    return skill_dict, response_df, skill_df, assistment_df\n",
    "    \n",
    "#Use function to generate the dataset as required\n",
    "skill_dict, response_df, skill_df, assistment_df = generate_datasets(df3)\n",
    "    "
   ]
  },
  {
   "cell_type": "code",
   "execution_count": null,
   "metadata": {
    "collapsed": false
   },
   "outputs": [],
   "source": [
    "#Save the data files\n",
    "with open('skill_dict.json', 'w', encoding='utf-8') as f:\n",
    "    to_dump_dict = {}\n",
    "    for key, value in skill_dict.items():\n",
    "        to_dump_dict[key] = str(value)\n",
    "    json.dump(to_dump_dict, f)\n",
    "response_df.to_csv('correct.tsv', sep='\\t')\n",
    "skill_df.to_csv('skill.tsv', sep='\\t')\n",
    "assistment_df.to_csv('assistment_id.tsv', sep='\\t')\n",
    "print('Done')"
   ]
  },
  {
   "cell_type": "markdown",
   "metadata": {},
   "source": [
    "# Word2Vec"
   ]
  },
  {
   "cell_type": "markdown",
   "metadata": {},
   "source": [
    "## Read in data"
   ]
  },
  {
   "cell_type": "code",
   "execution_count": 188,
   "metadata": {
    "collapsed": true
   },
   "outputs": [],
   "source": [
    "assistment_df = pd.read_csv('assistment_id.tsv', sep='\\t').drop('Unnamed: 0', axis=1)"
   ]
  },
  {
   "cell_type": "code",
   "execution_count": 187,
   "metadata": {
    "collapsed": false
   },
   "outputs": [],
   "source": [
    "assistments=assistment_df.iloc[:,2:].values.astype(str) #Get rid of user_id\n",
    "user_list=assistment_df.iloc[:,0].values.astype(int) #Get user_id\n",
    "sentence_len=assistment_df.iloc[:,1].values.astype(int) #Extract number of responses\n",
    "sentences=[]\n",
    "#Copy only the ones that aren't nan\n",
    "for i in range(len(sentence_len)):\n",
    "    sentence=assistments[i,0:sentence_len[i]].tolist()\n",
    "    sentences.append(sentence)"
   ]
  },
  {
   "cell_type": "code",
   "execution_count": 209,
   "metadata": {
    "collapsed": false
   },
   "outputs": [],
   "source": [
    "assistment_list=assistment_df.iloc[:,2:].values.astype(str)\n",
    "assistment_list=assistment_list.reshape((1006*1024,1))"
   ]
  },
  {
   "cell_type": "code",
   "execution_count": 211,
   "metadata": {
    "collapsed": false
   },
   "outputs": [
    {
     "data": {
      "text/plain": [
       "(14108,)"
      ]
     },
     "execution_count": 211,
     "metadata": {},
     "output_type": "execute_result"
    }
   ],
   "source": [
    "temp=np.unique(assistment_list)\n",
    "temp.shape"
   ]
  },
  {
   "cell_type": "markdown",
   "metadata": {},
   "source": [
    "## Run model"
   ]
  },
  {
   "cell_type": "code",
   "execution_count": 214,
   "metadata": {
    "collapsed": false
   },
   "outputs": [],
   "source": [
    "#Each student is a \"sentence\", each skill is a \"word\"\n",
    "#size = dimensionality of feature vectors\n",
    "#window = max distance between current and predicted word within a sentence\n",
    "#min_count = minimum number of occurrences within dataset\n",
    "#workers = number of threads used\n",
    "#sg = 0 (CBOW, default); = 1 (skip-gram)\n",
    "model = Word2Vec(sentences, size=200, window=10, min_count=1, workers=4, sg=1, iter=30)\n",
    "\n",
    "assist_num=model.wv.vocab; #Names of the words (numbers)\n",
    "assist_vec=model[assist_num] #Access the vectors"
   ]
  },
  {
   "cell_type": "code",
   "execution_count": 215,
   "metadata": {
    "collapsed": false
   },
   "outputs": [
    {
     "data": {
      "text/plain": [
       "(14107, 200)"
      ]
     },
     "execution_count": 215,
     "metadata": {},
     "output_type": "execute_result"
    }
   ],
   "source": [
    "#Need to process to associate assistment with multiple skills\n",
    "assist_vec.shape"
   ]
  },
  {
   "cell_type": "markdown",
   "metadata": {},
   "source": [
    "## TSNE"
   ]
  },
  {
   "cell_type": "code",
   "execution_count": null,
   "metadata": {
    "collapsed": false
   },
   "outputs": [],
   "source": [
    "tsne=TSNE(perplexity=30) #Instantiate the TSNE model (can change params here)\n",
    "assist_tsne=tsne.fit_transform(assist_vec.astype(float)) #Run tsne\n",
    "\n",
    "assist_skill=list()\n",
    "\n",
    "for k,v in assist_num.items():\n",
    "    skill = df[df['assistment_id'] == int(k)]['skill_name'].iloc[0] # get the first skill associated with the assistment\n",
    "    assist_skill.append(skill)\n",
    "\n",
    "    #Save as a tsv file for d3-scatterplot\n",
    "# d={'x': skill_tsne[:,0],\n",
    "#   'y': skill_tsne[:,1],\n",
    "#   'skill' : skill_name}\n",
    "tsne_save=pd.DataFrame({'x': assist_tsne[:,0],\n",
    "  'y': assist_tsne[:,1],\n",
    "  'skill' : assist_skill})\n",
    "tsne_save.to_csv('../d3-scatterplot/tsne_assist.tsv',sep='\\t',index=False,columns=['x','y','skill'])"
   ]
  },
  {
   "cell_type": "markdown",
   "metadata": {},
   "source": [
    "# DKT"
   ]
  },
  {
   "cell_type": "markdown",
   "metadata": {},
   "source": [
    "## Read in data"
   ]
  },
  {
   "cell_type": "code",
   "execution_count": 91,
   "metadata": {
    "collapsed": true
   },
   "outputs": [],
   "source": [
    "response_df = pd.read_csv('correct.tsv', sep='\\t').drop('Unnamed: 0', axis=1)\n",
    "skill_df = pd.read_csv('skill.tsv', sep='\\t').drop('Unnamed: 0', axis=1)\n",
    "assistment_df = pd.read_csv('assistment_id.tsv', sep='\\t').drop('Unnamed: 0', axis=1)\n",
    "skill_dict = {}\n",
    "with open('skill_dict.json', 'r', encoding='utf-8') as f:\n",
    "    loaded = json.load(f)\n",
    "    for k, v in loaded.items():\n",
    "        skill_dict[k] = int(v)\n",
    "\n",
    "skill_num = len(skill_dict) + 1 # including 0\n",
    "#skill_num=len(np.unique(skill_df.iloc[:,2:51]))\n",
    "#Need to deal with having unequal number of problems for each student. Is this allowable in DKT?"
   ]
  },
  {
   "cell_type": "code",
   "execution_count": 88,
   "metadata": {
    "collapsed": false
   },
   "outputs": [
    {
     "data": {
      "text/plain": [
       "(84,)"
      ]
     },
     "execution_count": 88,
     "metadata": {},
     "output_type": "execute_result"
    }
   ],
   "source": [
    "#Are assistments with multiple skills listed more than once?\n",
    "skill_np=skill_df.iloc[:,2:].values.astype(float)\n",
    "assistment_np=assistment_df.iloc[:,2:].values.astype(float)\n",
    "np.unique(skill_np[assistment_np==assistment_np[3]])\n",
    "#Answer: Yes, they are.\n",
    "#Do we just take the first listed skill...? Or include them multiple times...?"
   ]
  },
  {
   "cell_type": "markdown",
   "metadata": {},
   "source": [
    "## DKT functions"
   ]
  },
  {
   "cell_type": "code",
   "execution_count": 148,
   "metadata": {
    "collapsed": false
   },
   "outputs": [],
   "source": [
    "def one_hot(skill_matrix, vocab_size):\n",
    "    '''\n",
    "    params:\n",
    "        skill_matrix: 2-D matrix (student, skills)\n",
    "        vocal_size: size of the vocabulary\n",
    "    returns:\n",
    "        a ndarray with a shape like (student, sequence_len, vocab_size)\n",
    "    '''\n",
    "    seq_len = skill_matrix.shape[1] #Number of exercises (sequence length)\n",
    "    #Initialize result (student, sequence, one-hot skill) to zeros\n",
    "    result = np.zeros((skill_matrix.shape[0], seq_len, vocab_size)) \n",
    "    #For each student\n",
    "    for i in range(skill_matrix.shape[0]):\n",
    "        #Select the student, all sequences, and the related skill; set to 1\n",
    "        result[i, np.arange(seq_len), skill_matrix[i]] = 1.\n",
    "    return result\n",
    "\n",
    "def dkt_one_hot(skill_matrix, response_matrix, vocab_size):\n",
    "    #Number of exercises/skills\n",
    "    seq_len = skill_matrix.shape[1]\n",
    "    #Initialize output (student, sequence, 2 * vocab size) to zeros\n",
    "    skill_response_array = np.zeros((skill_matrix.shape[0], seq_len, 2 * vocab_size))\n",
    "    #For each student\n",
    "    for i in range(skill_matrix.shape[0]):\n",
    "        #Set to 1 the (student, all sequences, skill location + [0 1] if correct and + [1 0] if incorrect)\n",
    "        skill_response_array[i, np.arange(seq_len), 2 * skill_matrix[i] + response_matrix[i]] = 1.\n",
    "    return skill_response_array\n",
    "\n",
    "\n",
    "#Function to preprocess the data\n",
    "def preprocess(skill_df, response_df, skill_num):\n",
    "    skill_matrix = skill_df.iloc[:, 2:].values #Select values (excluding first column, which is index)\n",
    "    response_array = response_df.iloc[:, 2:].values\n",
    "    #Get the one-hots associated with each (student, sequence, skill one-hot)\n",
    "    skill_array = one_hot(skill_matrix, skill_num)\n",
    "    #Get the one-hots associated with (student, sequence, response one-hot)\n",
    "    #and (student, sequence, skill one-hot)\n",
    "    #skill_response_array, masking_array = dkt_one_hot(skill_matrix, response_array, skill_num)\n",
    "    skill_response_array = dkt_one_hot(skill_matrix, response_array, skill_num)\n",
    "    return skill_array, response_array, skill_response_array\n",
    "    \n",
    "\n",
    "skill_array, response_array, skill_response_array = preprocess(skill_df.iloc[:,0:51], response_df.iloc[:,0:51], skill_num)"
   ]
  },
  {
   "cell_type": "code",
   "execution_count": 166,
   "metadata": {
    "collapsed": true
   },
   "outputs": [],
   "source": [
    "import keras\n",
    "from keras.layers import Input, Dense, LSTM, TimeDistributed, Lambda, multiply\n",
    "from keras.models import Model\n",
    "from keras.optimizers import RMSprop, Adam\n",
    "from keras.preprocessing.sequence import pad_sequences\n",
    "from keras import backend as K\n",
    "from keras.callbacks import EarlyStopping\n",
    "\n",
    "#Function to set up skill to skill model (input skills, output skill prediction)\n",
    "def build_skill2skill_model(input_shape, lstm_dim=32, dropout=0.0):\n",
    "    input = Input(shape=input_shape, name='input_skills')\n",
    "    lstm = LSTM(lstm_dim, \n",
    "                return_sequences=True, \n",
    "                dropout=dropout,\n",
    "                name='lstm_layer')(input)\n",
    "    output = TimeDistributed(Dense(input_shape[-1], activation='softmax'), name='probability')(lstm)\n",
    "    model = Model(inputs=[input], outputs=[output])\n",
    "    adam = Adam(lr=0.001, beta_1=0.9, beta_2=0.999, epsilon=1e-07, decay=0.0)\n",
    "    model.compile(optimizer=adam, loss='categorical_crossentropy', metrics=['accuracy'])\n",
    "    model.summary()\n",
    "    return model\n",
    "\n",
    "def reduce_dim(x):\n",
    "    x = K.max(x, axis=-1, keepdims=True)\n",
    "    return x\n",
    "\n",
    "#Skill and response\n",
    "def build_dkt_model(input_shape, lstm_dim=32, dropout=0.0):\n",
    "    input_skills = Input(shape=input_shape, name='input_skills') #A, input, [skill(identified) correctness]\n",
    "    #LSTM hidden layer, processing input_skills\n",
    "    lstm = LSTM(lstm_dim, \n",
    "                return_sequences=True, \n",
    "                dropout=dropout,\n",
    "                name='lstm_layer')(input_skills)\n",
    "    \n",
    "    #Output layer, acting on outputs of LSTM\n",
    "    #Probability of each skill being correct upon the next question\n",
    "    dense = TimeDistributed(Dense(int(input_shape[-1]/2), activation='sigmoid'), name='probability_for_each')(lstm)\n",
    " \n",
    "    #b, input, [actual next skill (identified)]\n",
    "    skill_next = Input(shape=(input_shape[0], int(input_shape[1]/2)), name='next_skill_tested')\n",
    "    #Select the actual next skill's probability\n",
    "    merged = multiply([dense, skill_next], name='multiply')\n",
    "    #Get only that result --> this is the output\n",
    "    reduced = Lambda(reduce_dim, output_shape=(input_shape[0], 1), name='reduce_dim')(merged)\n",
    "    \n",
    "    #Optimize using Adam\n",
    "    model = Model(inputs=[input_skills, skill_next], outputs=[reduced])\n",
    "    model2 = Model(inputs=[input_skills], outputs=[dense])\n",
    "    \n",
    "    adam = Adam(lr=0.001, beta_1=0.9, beta_2=0.999, epsilon=1e-07, decay=0.0)\n",
    "    model.compile(optimizer=adam, loss='binary_crossentropy', metrics=['accuracy'])\n",
    "    model.summary()\n",
    "    return model, model2"
   ]
  },
  {
   "cell_type": "code",
   "execution_count": null,
   "metadata": {
    "collapsed": true
   },
   "outputs": [],
   "source": [
    "print('skill2skill')\n",
    "skill2skill_model = build_skill2skill_model((99, skill_num), lstm_dim=64)\n",
    "\n",
    "# train skill2skill\n",
    "skill2skill_model.fit(skill_array[:, 0:-1], \n",
    "                      skill_array[:, 1:],\n",
    "                      epochs=20, \n",
    "                      batch_size=32, \n",
    "                      shuffle=True,\n",
    "                      validation_split=0.2)"
   ]
  },
  {
   "cell_type": "code",
   "execution_count": 167,
   "metadata": {
    "collapsed": false
   },
   "outputs": [
    {
     "name": "stdout",
     "output_type": "stream",
     "text": [
      "dkt\n",
      "____________________________________________________________________________________________________\n",
      "Layer (type)                     Output Shape          Param #     Connected to                     \n",
      "====================================================================================================\n",
      "input_skills (InputLayer)        (None, 48, 214)       0                                            \n",
      "____________________________________________________________________________________________________\n",
      "lstm_layer (LSTM)                (None, 48, 64)        71424       input_skills[0][0]               \n",
      "____________________________________________________________________________________________________\n",
      "probability_for_each (TimeDistri (None, 48, 107)       6955        lstm_layer[0][0]                 \n",
      "____________________________________________________________________________________________________\n",
      "next_skill_tested (InputLayer)   (None, 48, 107)       0                                            \n",
      "____________________________________________________________________________________________________\n",
      "multiply (Multiply)              (None, 48, 107)       0           probability_for_each[0][0]       \n",
      "                                                                   next_skill_tested[0][0]          \n",
      "____________________________________________________________________________________________________\n",
      "reduce_dim (Lambda)              (None, 48, 1)         0           multiply[0][0]                   \n",
      "====================================================================================================\n",
      "Total params: 78,379\n",
      "Trainable params: 78,379\n",
      "Non-trainable params: 0\n",
      "____________________________________________________________________________________________________\n",
      "Train on 804 samples, validate on 202 samples\n",
      "Epoch 1/20\n",
      "804/804 [==============================] - 3s - loss: 0.6640 - acc: 0.7435 - val_loss: 0.6329 - val_acc: 0.8256\n",
      "Epoch 2/20\n",
      "804/804 [==============================] - 2s - loss: 0.5210 - acc: 0.8041 - val_loss: 0.4913 - val_acc: 0.8212\n",
      "Epoch 3/20\n",
      "804/804 [==============================] - 2s - loss: 0.4512 - acc: 0.8165 - val_loss: 0.4596 - val_acc: 0.8293\n",
      "Epoch 4/20\n",
      "804/804 [==============================] - 2s - loss: 0.4344 - acc: 0.8237 - val_loss: 0.4494 - val_acc: 0.8321\n",
      "Epoch 5/20\n",
      "804/804 [==============================] - 2s - loss: 0.4240 - acc: 0.8252 - val_loss: 0.4460 - val_acc: 0.8369\n",
      "Epoch 6/20\n",
      "804/804 [==============================] - 3s - loss: 0.4159 - acc: 0.8272 - val_loss: 0.4300 - val_acc: 0.8420\n",
      "Epoch 7/20\n",
      "804/804 [==============================] - 2s - loss: 0.4087 - acc: 0.8306 - val_loss: 0.4181 - val_acc: 0.8417\n",
      "Epoch 8/20\n",
      "804/804 [==============================] - 2s - loss: 0.4020 - acc: 0.8330 - val_loss: 0.4123 - val_acc: 0.8433\n",
      "Epoch 9/20\n",
      "804/804 [==============================] - 2s - loss: 0.3959 - acc: 0.8366 - val_loss: 0.4071 - val_acc: 0.8427\n",
      "Epoch 10/20\n",
      "804/804 [==============================] - 2s - loss: 0.3920 - acc: 0.8369 - val_loss: 0.3966 - val_acc: 0.8445\n",
      "Epoch 11/20\n",
      "804/804 [==============================] - 2s - loss: 0.3892 - acc: 0.8385 - val_loss: 0.3945 - val_acc: 0.8458\n",
      "Epoch 12/20\n",
      "804/804 [==============================] - 2s - loss: 0.3852 - acc: 0.8402 - val_loss: 0.4022 - val_acc: 0.8454\n",
      "Epoch 13/20\n",
      "804/804 [==============================] - 2s - loss: 0.3878 - acc: 0.8397 - val_loss: 0.3883 - val_acc: 0.8460\n",
      "Epoch 14/20\n",
      "804/804 [==============================] - 3s - loss: 0.3850 - acc: 0.8407 - val_loss: 0.3862 - val_acc: 0.8477\n",
      "Epoch 15/20\n",
      "804/804 [==============================] - 2s - loss: 0.3795 - acc: 0.8417 - val_loss: 0.3847 - val_acc: 0.8474\n",
      "Epoch 16/20\n",
      "804/804 [==============================] - 2s - loss: 0.3768 - acc: 0.8426 - val_loss: 0.3820 - val_acc: 0.8479\n",
      "Epoch 17/20\n",
      "804/804 [==============================] - 2s - loss: 0.3780 - acc: 0.8427 - val_loss: 0.3823 - val_acc: 0.8496\n",
      "Epoch 18/20\n",
      "804/804 [==============================] - 2s - loss: 0.3735 - acc: 0.8437 - val_loss: 0.3781 - val_acc: 0.8489\n",
      "Epoch 19/20\n",
      "804/804 [==============================] - 2s - loss: 0.3720 - acc: 0.8440 - val_loss: 0.3784 - val_acc: 0.8502\n",
      "Epoch 20/20\n",
      "804/804 [==============================] - 2s - loss: 0.3703 - acc: 0.8445 - val_loss: 0.3736 - val_acc: 0.8492\n"
     ]
    },
    {
     "data": {
      "text/plain": [
       "<keras.callbacks.History at 0x158103f60>"
      ]
     },
     "execution_count": 167,
     "metadata": {},
     "output_type": "execute_result"
    }
   ],
   "source": [
    "print('dkt')\n",
    "dkt_model, dkt_model2 = build_dkt_model((48, 2 * skill_num), lstm_dim=64)\n",
    "\n",
    "dkt_model.fit([skill_response_array[:, 0:-1], skill_array[:, 1:]],\n",
    "              response_array[:, 1:, np.newaxis],\n",
    "              epochs=5, \n",
    "              batch_size=32, \n",
    "              shuffle=True,\n",
    "              validation_split=0.2)"
   ]
  },
  {
   "cell_type": "code",
   "execution_count": 136,
   "metadata": {
    "collapsed": false
   },
   "outputs": [],
   "source": [
    "#Create input to generate influence matrix\n",
    "#Input: each skill, correct\n",
    "response_test=np.ones((1,skill_num)).astype('int')\n",
    "skill_test=np.cumsum(response_test)-1\n",
    "skill_test=skill_test.reshape((1,107)).astype('int')\n",
    "\n",
    "#Get the one-hots associated with each (student, sequence, skill one-hot)\n",
    "skill_test_array = one_hot(skill_test, skill_num)\n",
    "    #Get the one-hots associated with (student, sequence, response one-hot)\n",
    "    #and (student, sequence, skill one-hot)\n",
    "skill_response_test_array = dkt_one_hot(skill_test, response_test, skill_num)\n",
    "    \n",
    "#Output: probability of correctness for each skill at next step\n"
   ]
  },
  {
   "cell_type": "code",
   "execution_count": 140,
   "metadata": {
    "collapsed": false
   },
   "outputs": [
    {
     "data": {
      "text/plain": [
       "(1, 107, 214)"
      ]
     },
     "execution_count": 140,
     "metadata": {},
     "output_type": "execute_result"
    }
   ],
   "source": [
    "skill_response_test_array.shape"
   ]
  },
  {
   "cell_type": "code",
   "execution_count": 297,
   "metadata": {
    "collapsed": false
   },
   "outputs": [],
   "source": [
    "q_matrix=np.zeros((skill_num,skill_num))\n",
    "seq_len=48\n",
    "for i in range(skill_num):\n",
    "    skill_response_array2 = np.zeros((1,seq_len,2 * skill_num))\n",
    "    skill_response_array2[0, np.arange(seq_len), 2 * i + 1] = 1.\n",
    "    #set_trace()\n",
    "    temp=dkt_model2.predict(skill_response_array2)\n",
    "    q_matrix[i,:]=temp[0,0,:]\n",
    "\n",
    "q_matrix=q_matrix[0:-1,0:-1]"
   ]
  },
  {
   "cell_type": "code",
   "execution_count": 298,
   "metadata": {
    "collapsed": false
   },
   "outputs": [
    {
     "data": {
      "text/plain": [
       "<matplotlib.image.AxesImage at 0x158fed860>"
      ]
     },
     "execution_count": 298,
     "metadata": {},
     "output_type": "execute_result"
    },
    {
     "data": {
      "image/png": "[encoded data removed]",
      "text/plain": [
       "<matplotlib.figure.Figure at 0x1594f12e8>"
      ]
     },
     "metadata": {},
     "output_type": "display_data"
    }
   ],
   "source": [
    "plt.imshow(q_matrix)"
   ]
  },
  {
   "cell_type": "code",
   "execution_count": 300,
   "metadata": {
    "collapsed": false
   },
   "outputs": [
    {
     "data": {
      "text/plain": [
       "<matplotlib.image.AxesImage at 0x15906b6a0>"
      ]
     },
     "execution_count": 300,
     "metadata": {},
     "output_type": "execute_result"
    },
    {
     "data": {
      "image/png": "[encoded data removed]",
      "text/plain": [
       "<matplotlib.figure.Figure at 0x159001710>"
      ]
     },
     "metadata": {},
     "output_type": "display_data"
    }
   ],
   "source": [
    "q_matrix_sum=np.sum(q_matrix,axis=0)\n",
    "q_matrix_n=q_matrix/np.tile(q_matrix_sum,[skill_num-1, 1])\n",
    "plt.imshow(q_matrix_n)"
   ]
  },
  {
   "cell_type": "markdown",
   "metadata": {},
   "source": [
    "## Spectral Clustering"
   ]
  },
  {
   "cell_type": "code",
   "execution_count": 310,
   "metadata": {
    "collapsed": false
   },
   "outputs": [
    {
     "name": "stderr",
     "output_type": "stream",
     "text": [
      "//anaconda/envs/pythonEnv/lib/python3.5/site-packages/sklearn/utils/validation.py:640: UserWarning: Array is not symmetric, and will be converted to symmetric by average with its transpose.\n",
      "  warnings.warn(\"Array is not symmetric, and will be converted \"\n"
     ]
    }
   ],
   "source": [
    "spectral = cluster.SpectralClustering(n_clusters=32,affinity='precomputed',eigen_solver='arpack')\n",
    "dkt_clusters=spectral.fit_predict(q_matrix_n)"
   ]
  },
  {
   "cell_type": "code",
   "execution_count": 302,
   "metadata": {
    "collapsed": false
   },
   "outputs": [],
   "source": [
    "d2={value:key for key, value in skill_dict.items()}\n",
    "skill_list_dkt=list(range(106))\n",
    "for key, value in d2.items():\n",
    "    skill_list_dkt[int(key)-1]=value\n",
    "    \n",
    "skill_list_dkt=np.array(skill_list_dkt)"
   ]
  },
  {
   "cell_type": "code",
   "execution_count": 313,
   "metadata": {
    "collapsed": false
   },
   "outputs": [
    {
     "data": {
      "text/plain": [
       "array(['Exponents', 'Pattern Finding ', 'Algebraic Simplification'],\n",
       "      dtype='<U70')"
      ]
     },
     "execution_count": 313,
     "metadata": {},
     "output_type": "execute_result"
    }
   ],
   "source": [
    "skill_list_dkt[dkt_clusters==0]"
   ]
  },
  {
   "cell_type": "code",
   "execution_count": 312,
   "metadata": {
    "collapsed": false
   },
   "outputs": [
    {
     "data": {
      "text/plain": [
       "array([13,  4, 29, 16,  5,  6, 24, 15,  8, 20, 20,  4, 13, 13,  2, 20, 19,\n",
       "        4, 10, 25, 16, 28, 18,  7, 28,  3, 13,  2,  5, 10,  8,  3, 11, 12,\n",
       "       16, 16, 18, 22,  4,  5, 11,  3, 23, 23, 16, 10, 26,  9, 13,  9,  4,\n",
       "        3, 16,  0,  0, 30,  0, 14, 13,  1, 28,  5, 17,  2, 17, 29, 31,  6,\n",
       "       17, 16, 20, 15,  1, 27, 12, 11,  4,  8, 22, 13, 22,  4, 25, 28, 13,\n",
       "       21, 27, 26, 18,  2, 11, 15,  2, 13, 13, 20, 13, 15, 28,  2, 28, 13,\n",
       "        2,  1, 13, 13], dtype=int32)"
      ]
     },
     "execution_count": 312,
     "metadata": {},
     "output_type": "execute_result"
    }
   ],
   "source": [
    "dkt_clusters"
   ]
  },
  {
   "cell_type": "code",
   "execution_count": 288,
   "metadata": {
    "collapsed": false
   },
   "outputs": [
    {
     "data": {
      "text/plain": [
       "{'Absolute Value': 53,\n",
       " 'Addition Whole Numbers': 36,\n",
       " 'Addition and Subtraction Fractions': 70,\n",
       " 'Addition and Subtraction Integers': 67,\n",
       " 'Addition and Subtraction Positive Decimals': 68,\n",
       " 'Algebraic Simplification': 57,\n",
       " 'Algebraic Solving': 58,\n",
       " 'Angles - Obtuse, Acute, and Right': 88,\n",
       " 'Angles on Parallel Lines Cut by a Transversal': 20,\n",
       " 'Area Circle': 25,\n",
       " 'Area Irregular Figure': 74,\n",
       " 'Area Parallelogram': 75,\n",
       " 'Area Rectangle': 76,\n",
       " 'Area Trapezoid': 77,\n",
       " 'Area Triangle': 78,\n",
       " 'Box and Whisker': 1,\n",
       " 'Calculations with Similar Figures': 28,\n",
       " 'Choose an Equation from Given Information': 59,\n",
       " 'Circle Graph': 2,\n",
       " 'Circumference ': 26,\n",
       " 'Complementary and Supplementary Angles': 19,\n",
       " 'Computation with Real Numbers': 90,\n",
       " 'Congruence': 18,\n",
       " 'Conversion of Fraction Decimals Percents': 29,\n",
       " 'Counting Methods': 13,\n",
       " 'D.4.8-understanding-concept-of-probabilities': 56,\n",
       " 'Distributive Property': 96,\n",
       " 'Divisibility Rules': 51,\n",
       " 'Division Fractions': 37,\n",
       " 'Effect of Changing Dimensions of a Shape Prportionally': 24,\n",
       " 'Equation Solving More Than Two Steps': 87,\n",
       " 'Equation Solving Two or Fewer Steps': 86,\n",
       " 'Equivalent Fractions': 30,\n",
       " 'Estimation': 38,\n",
       " 'Exponents': 54,\n",
       " 'Finding Percents': 46,\n",
       " 'Finding Slope From Equation': 95,\n",
       " 'Fraction Of': 39,\n",
       " 'Greatest Common Factor': 89,\n",
       " 'Histogram as Table or Graph': 3,\n",
       " 'Intercept': 60,\n",
       " 'Interior Angles Figures with More than 3 Sides': 16,\n",
       " 'Interior Angles Triangle': 17,\n",
       " 'Interpreting Coordinate Graphs ': 102,\n",
       " 'Least Common Multiple': 40,\n",
       " 'Linear Equations': 61,\n",
       " 'Mean': 9,\n",
       " 'Median': 10,\n",
       " 'Midpoint': 97,\n",
       " 'Mode': 11,\n",
       " 'Multiplication Fractions': 41,\n",
       " 'Multiplication Whole Numbers': 42,\n",
       " 'Multiplication and Division Integers': 69,\n",
       " 'Multiplication and Division Positive Decimals': 66,\n",
       " 'Nets of 3D Figures': 22,\n",
       " 'Number Line': 4,\n",
       " 'Order of Operations +,-,/,* () positive reals': 84,\n",
       " 'Order of Operations All': 85,\n",
       " 'Ordering Fractions': 32,\n",
       " 'Ordering Integers': 33,\n",
       " 'Ordering Positive Decimals': 31,\n",
       " 'Ordering Real Numbers': 34,\n",
       " 'Parts of a Polyomial, Terms, Coefficient, Monomial, Exponent, Variable': 101,\n",
       " 'Pattern Finding ': 55,\n",
       " 'Percent Discount': 62,\n",
       " 'Percent Of': 43,\n",
       " 'Percents': 63,\n",
       " 'Perimeter of a Polygon': 27,\n",
       " 'Polynomial Factors': 98,\n",
       " 'Prime Number': 52,\n",
       " 'Probability of Two Distinct Events': 14,\n",
       " 'Probability of a Single Event': 15,\n",
       " 'Proportion': 47,\n",
       " 'Pythagorean Theorem': 21,\n",
       " 'Range': 12,\n",
       " 'Rate': 64,\n",
       " 'Recognize Linear Pattern': 93,\n",
       " 'Recognize Quadratic Pattern': 99,\n",
       " 'Reflection': 71,\n",
       " 'Rotations': 72,\n",
       " 'Rounding': 35,\n",
       " 'Scale Factor': 48,\n",
       " 'Scatter Plot': 5,\n",
       " 'Scientific Notation': 50,\n",
       " 'Simplifying Expressions positive exponents': 104,\n",
       " 'Slope': 65,\n",
       " 'Solving Inequalities': 105,\n",
       " 'Solving Systems of Linear Equations': 100,\n",
       " 'Solving Systems of Linear Equations by Graphing': 106,\n",
       " 'Solving for a variable': 103,\n",
       " 'Square Root': 45,\n",
       " 'Stem and Leaf Plot': 6,\n",
       " 'Subtraction Whole Numbers': 44,\n",
       " 'Surface Area Cylinder': 79,\n",
       " 'Surface Area Rectangular Prism': 80,\n",
       " 'Table': 7,\n",
       " 'Translations': 73,\n",
       " 'Unit Conversion Within a System': 23,\n",
       " 'Unit Rate': 49,\n",
       " 'Venn Diagram': 8,\n",
       " 'Volume Cylinder': 81,\n",
       " 'Volume Rectangular Prism': 82,\n",
       " 'Volume Sphere': 83,\n",
       " 'Write Linear Equation from Graph': 94,\n",
       " 'Write Linear Equation from Ordered Pairs': 91,\n",
       " 'Write Linear Equation from Situation': 92}"
      ]
     },
     "execution_count": 288,
     "metadata": {},
     "output_type": "execute_result"
    }
   ],
   "source": [
    "skill_dict"
   ]
  },
  {
   "cell_type": "code",
   "execution_count": 289,
   "metadata": {
    "collapsed": false
   },
   "outputs": [
    {
     "data": {
      "text/plain": [
       "{1: 'Box and Whisker',\n",
       " 2: 'Circle Graph',\n",
       " 3: 'Histogram as Table or Graph',\n",
       " 4: 'Number Line',\n",
       " 5: 'Scatter Plot',\n",
       " 6: 'Stem and Leaf Plot',\n",
       " 7: 'Table',\n",
       " 8: 'Venn Diagram',\n",
       " 9: 'Mean',\n",
       " 10: 'Median',\n",
       " 11: 'Mode',\n",
       " 12: 'Range',\n",
       " 13: 'Counting Methods',\n",
       " 14: 'Probability of Two Distinct Events',\n",
       " 15: 'Probability of a Single Event',\n",
       " 16: 'Interior Angles Figures with More than 3 Sides',\n",
       " 17: 'Interior Angles Triangle',\n",
       " 18: 'Congruence',\n",
       " 19: 'Complementary and Supplementary Angles',\n",
       " 20: 'Angles on Parallel Lines Cut by a Transversal',\n",
       " 21: 'Pythagorean Theorem',\n",
       " 22: 'Nets of 3D Figures',\n",
       " 23: 'Unit Conversion Within a System',\n",
       " 24: 'Effect of Changing Dimensions of a Shape Prportionally',\n",
       " 25: 'Area Circle',\n",
       " 26: 'Circumference ',\n",
       " 27: 'Perimeter of a Polygon',\n",
       " 28: 'Calculations with Similar Figures',\n",
       " 29: 'Conversion of Fraction Decimals Percents',\n",
       " 30: 'Equivalent Fractions',\n",
       " 31: 'Ordering Positive Decimals',\n",
       " 32: 'Ordering Fractions',\n",
       " 33: 'Ordering Integers',\n",
       " 34: 'Ordering Real Numbers',\n",
       " 35: 'Rounding',\n",
       " 36: 'Addition Whole Numbers',\n",
       " 37: 'Division Fractions',\n",
       " 38: 'Estimation',\n",
       " 39: 'Fraction Of',\n",
       " 40: 'Least Common Multiple',\n",
       " 41: 'Multiplication Fractions',\n",
       " 42: 'Multiplication Whole Numbers',\n",
       " 43: 'Percent Of',\n",
       " 44: 'Subtraction Whole Numbers',\n",
       " 45: 'Square Root',\n",
       " 46: 'Finding Percents',\n",
       " 47: 'Proportion',\n",
       " 48: 'Scale Factor',\n",
       " 49: 'Unit Rate',\n",
       " 50: 'Scientific Notation',\n",
       " 51: 'Divisibility Rules',\n",
       " 52: 'Prime Number',\n",
       " 53: 'Absolute Value',\n",
       " 54: 'Exponents',\n",
       " 55: 'Pattern Finding ',\n",
       " 56: 'D.4.8-understanding-concept-of-probabilities',\n",
       " 57: 'Algebraic Simplification',\n",
       " 58: 'Algebraic Solving',\n",
       " 59: 'Choose an Equation from Given Information',\n",
       " 60: 'Intercept',\n",
       " 61: 'Linear Equations',\n",
       " 62: 'Percent Discount',\n",
       " 63: 'Percents',\n",
       " 64: 'Rate',\n",
       " 65: 'Slope',\n",
       " 66: 'Multiplication and Division Positive Decimals',\n",
       " 67: 'Addition and Subtraction Integers',\n",
       " 68: 'Addition and Subtraction Positive Decimals',\n",
       " 69: 'Multiplication and Division Integers',\n",
       " 70: 'Addition and Subtraction Fractions',\n",
       " 71: 'Reflection',\n",
       " 72: 'Rotations',\n",
       " 73: 'Translations',\n",
       " 74: 'Area Irregular Figure',\n",
       " 75: 'Area Parallelogram',\n",
       " 76: 'Area Rectangle',\n",
       " 77: 'Area Trapezoid',\n",
       " 78: 'Area Triangle',\n",
       " 79: 'Surface Area Cylinder',\n",
       " 80: 'Surface Area Rectangular Prism',\n",
       " 81: 'Volume Cylinder',\n",
       " 82: 'Volume Rectangular Prism',\n",
       " 83: 'Volume Sphere',\n",
       " 84: 'Order of Operations +,-,/,* () positive reals',\n",
       " 85: 'Order of Operations All',\n",
       " 86: 'Equation Solving Two or Fewer Steps',\n",
       " 87: 'Equation Solving More Than Two Steps',\n",
       " 88: 'Angles - Obtuse, Acute, and Right',\n",
       " 89: 'Greatest Common Factor',\n",
       " 90: 'Computation with Real Numbers',\n",
       " 91: 'Write Linear Equation from Ordered Pairs',\n",
       " 92: 'Write Linear Equation from Situation',\n",
       " 93: 'Recognize Linear Pattern',\n",
       " 94: 'Write Linear Equation from Graph',\n",
       " 95: 'Finding Slope From Equation',\n",
       " 96: 'Distributive Property',\n",
       " 97: 'Midpoint',\n",
       " 98: 'Polynomial Factors',\n",
       " 99: 'Recognize Quadratic Pattern',\n",
       " 100: 'Solving Systems of Linear Equations',\n",
       " 101: 'Parts of a Polyomial, Terms, Coefficient, Monomial, Exponent, Variable',\n",
       " 102: 'Interpreting Coordinate Graphs ',\n",
       " 103: 'Solving for a variable',\n",
       " 104: 'Simplifying Expressions positive exponents',\n",
       " 105: 'Solving Inequalities',\n",
       " 106: 'Solving Systems of Linear Equations by Graphing'}"
      ]
     },
     "execution_count": 289,
     "metadata": {},
     "output_type": "execute_result"
    }
   ],
   "source": [
    "d2"
   ]
  },
  {
   "cell_type": "code",
   "execution_count": 290,
   "metadata": {
    "collapsed": false
   },
   "outputs": [
    {
     "data": {
      "text/plain": [
       "array(['Box and Whisker', 'Circle Graph', 'Histogram as Table or Graph',\n",
       "       'Number Line', 'Scatter Plot', 'Stem and Leaf Plot', 'Table',\n",
       "       'Venn Diagram', 'Mean', 'Median', 'Mode', 'Range',\n",
       "       'Counting Methods', 'Probability of Two Distinct Events',\n",
       "       'Probability of a Single Event',\n",
       "       'Interior Angles Figures with More than 3 Sides',\n",
       "       'Interior Angles Triangle', 'Congruence',\n",
       "       'Complementary and Supplementary Angles',\n",
       "       'Angles on Parallel Lines Cut by a Transversal',\n",
       "       'Pythagorean Theorem', 'Nets of 3D Figures',\n",
       "       'Unit Conversion Within a System',\n",
       "       'Effect of Changing Dimensions of a Shape Prportionally',\n",
       "       'Area Circle', 'Circumference ', 'Perimeter of a Polygon',\n",
       "       'Calculations with Similar Figures',\n",
       "       'Conversion of Fraction Decimals Percents', 'Equivalent Fractions',\n",
       "       'Ordering Positive Decimals', 'Ordering Fractions',\n",
       "       'Ordering Integers', 'Ordering Real Numbers', 'Rounding',\n",
       "       'Addition Whole Numbers', 'Division Fractions', 'Estimation',\n",
       "       'Fraction Of', 'Least Common Multiple', 'Multiplication Fractions',\n",
       "       'Multiplication Whole Numbers', 'Percent Of',\n",
       "       'Subtraction Whole Numbers', 'Square Root', 'Finding Percents',\n",
       "       'Proportion', 'Scale Factor', 'Unit Rate', 'Scientific Notation',\n",
       "       'Divisibility Rules', 'Prime Number', 'Absolute Value', 'Exponents',\n",
       "       'Pattern Finding ', 'D.4.8-understanding-concept-of-probabilities',\n",
       "       'Algebraic Simplification', 'Algebraic Solving',\n",
       "       'Choose an Equation from Given Information', 'Intercept',\n",
       "       'Linear Equations', 'Percent Discount', 'Percents', 'Rate', 'Slope',\n",
       "       'Multiplication and Division Positive Decimals',\n",
       "       'Addition and Subtraction Integers',\n",
       "       'Addition and Subtraction Positive Decimals',\n",
       "       'Multiplication and Division Integers',\n",
       "       'Addition and Subtraction Fractions', 'Reflection', 'Rotations',\n",
       "       'Translations', 'Area Irregular Figure', 'Area Parallelogram',\n",
       "       'Area Rectangle', 'Area Trapezoid', 'Area Triangle',\n",
       "       'Surface Area Cylinder', 'Surface Area Rectangular Prism',\n",
       "       'Volume Cylinder', 'Volume Rectangular Prism', 'Volume Sphere',\n",
       "       'Order of Operations +,-,/,* () positive reals',\n",
       "       'Order of Operations All', 'Equation Solving Two or Fewer Steps',\n",
       "       'Equation Solving More Than Two Steps',\n",
       "       'Angles - Obtuse, Acute, and Right', 'Greatest Common Factor',\n",
       "       'Computation with Real Numbers',\n",
       "       'Write Linear Equation from Ordered Pairs',\n",
       "       'Write Linear Equation from Situation', 'Recognize Linear Pattern',\n",
       "       'Write Linear Equation from Graph', 'Finding Slope From Equation',\n",
       "       'Distributive Property', 'Midpoint', 'Polynomial Factors',\n",
       "       'Recognize Quadratic Pattern',\n",
       "       'Solving Systems of Linear Equations',\n",
       "       'Parts of a Polyomial, Terms, Coefficient, Monomial, Exponent, Variable',\n",
       "       'Interpreting Coordinate Graphs ', 'Solving for a variable',\n",
       "       'Simplifying Expressions positive exponents',\n",
       "       'Solving Inequalities',\n",
       "       'Solving Systems of Linear Equations by Graphing', '106'],\n",
       "      dtype='<U70')"
      ]
     },
     "execution_count": 290,
     "metadata": {},
     "output_type": "execute_result"
    }
   ],
   "source": [
    "skill_list_dkt"
   ]
  },
  {
   "cell_type": "code",
   "execution_count": null,
   "metadata": {
    "collapsed": true
   },
   "outputs": [],
   "source": []
  }
 ],
 "metadata": {
  "anaconda-cloud": {},
  "kernelspec": {
   "display_name": "Python [pythonEnv]",
   "language": "python",
   "name": "Python [pythonEnv]"
  },
  "language_info": {
   "codemirror_mode": {
    "name": "ipython",
    "version": 3
   },
   "file_extension": ".py",
   "mimetype": "text/x-python",
   "name": "python",
   "nbconvert_exporter": "python",
   "pygments_lexer": "ipython3",
   "version": "3.5.3"
  }
 },
 "nbformat": 4,
 "nbformat_minor": 0
}
