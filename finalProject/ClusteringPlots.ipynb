{
 "cells": [
  {
   "cell_type": "code",
   "execution_count": 118,
   "metadata": {
    "collapsed": true
   },
   "outputs": [],
   "source": [
    "%matplotlib inline\n",
    "import numpy as np\n",
    "import pandas as pd\n",
    "import matplotlib.pyplot as plt\n",
    "from sklearn.cluster import KMeans\n",
    "from tqdm import *"
   ]
  },
  {
   "cell_type": "code",
   "execution_count": 119,
   "metadata": {
    "collapsed": false
   },
   "outputs": [],
   "source": [
    "# Load vector encodings\n",
    "data_auto = np.load('../../data/autoencoder_output.npz')\n",
    "xviz = data_auto['xviz']\n",
    "skillsa = data_auto['skills_viz']\n",
    "encodeda = data_auto['encoded']\n",
    "\n",
    "\n",
    "data_wv = np.load('../../data/word2vec_output.npz')\n",
    "skillswv = data_wv['assist_skill']\n",
    "encodedwv = data_wv['assist_vec']"
   ]
  },
  {
   "cell_type": "code",
   "execution_count": 121,
   "metadata": {
    "collapsed": true
   },
   "outputs": [],
   "source": [
    "NC = 32 # number of clusters\n",
    "\n",
    "kmeanswv = KMeans(n_clusters=NC).fit(encodedwv)\n",
    "labelswv = kmeanswv.labels_\n",
    "\n",
    "kmeansa = KMeans(n_clusters=NC).fit(encodeda)\n",
    "labelsa = kmeansa.labels_"
   ]
  },
  {
   "cell_type": "code",
   "execution_count": 133,
   "metadata": {
    "collapsed": true
   },
   "outputs": [],
   "source": [
    "# save clusters\n",
    "np.savez('../../data/autoencoder_clusters.npz', labelsa=labelsa)\n",
    "np.savez('../../data/word2vec_clusters.npz', labelswv=labelswv)"
   ]
  },
  {
   "cell_type": "markdown",
   "metadata": {},
   "source": [
    "# Load Pre-made clusters"
   ]
  },
  {
   "cell_type": "code",
   "execution_count": null,
   "metadata": {
    "collapsed": true
   },
   "outputs": [],
   "source": [
    "# Load vector encodings\n",
    "data_auto = np.load('../../data/autoencoder_output.npz')\n",
    "xviz = data_auto['xviz']\n",
    "skillsa = data_auto['skills_viz']\n",
    "encodeda = data_auto['encoded']\n",
    "\n",
    "\n",
    "data_wv = np.load('../../data/word2vec_output.npz')\n",
    "skillswv = data_wv['assist_skill']\n",
    "encodedwv = data_wv['assist_vec']\n",
    "\n",
    "data_wv = np.load('../../data/word2vec_clusters.npz')"
   ]
  },
  {
   "cell_type": "code",
   "execution_count": null,
   "metadata": {
    "collapsed": false
   },
   "outputs": [],
   "source": [
    "print(pd.Series(skillswv[np.where(labelswv==4)]).value_counts())\n",
    "data = (pd.Series(skillswv[np.where(labelswv==4)]).value_counts())\n",
    "labels = dict(data).keys()\n",
    "plt.pie(data.values, labels=labels)"
   ]
  },
  {
   "cell_type": "code",
   "execution_count": 131,
   "metadata": {
    "collapsed": false
   },
   "outputs": [
    {
     "name": "stderr",
     "output_type": "stream",
     "text": [
      "ERROR:root:Line magic function `%plt.pie` not found.\n"
     ]
    },
    {
     "name": "stdout",
     "output_type": "stream",
     "text": [
      "Table                 154\n",
      "Box and Whisker        97\n",
      "Stem and Leaf Plot     92\n",
      "Median                 69\n",
      "Range                  45\n",
      "Mean                   21\n",
      "Counting Methods        2\n",
      "Scatter Plot            1\n",
      "dtype: int64\n"
     ]
    }
   ],
   "source": [
    "print(pd.Series(skillswv[np.where(labelswv==21)]).value_counts())\n",
    "data = (pd.Series(skillswv[np.where(labelswv==21)]).value_counts())\n",
    "labels = data.index\n",
    "%plt.pie(data.values, labels=labels)"
   ]
  },
  {
   "cell_type": "code",
   "execution_count": 130,
   "metadata": {
    "collapsed": false
   },
   "outputs": [
    {
     "name": "stdout",
     "output_type": "stream",
     "text": [
      "21    45\n",
      "dtype: int64\n"
     ]
    }
   ],
   "source": [
    "# find all clusters with given skill\n",
    "print(pd.Series(labelswv[np.where(skillswv=='Range')]).value_counts())"
   ]
  },
  {
   "cell_type": "code",
   "execution_count": 129,
   "metadata": {
    "collapsed": false
   },
   "outputs": [
    {
     "name": "stdout",
     "output_type": "stream",
     "text": [
      "2    78\n",
      "dtype: int64\n"
     ]
    }
   ],
   "source": [
    "print(pd.Series(labelsa[np.where(skillsa=='Range')]).value_counts())"
   ]
  },
  {
   "cell_type": "code",
   "execution_count": 132,
   "metadata": {
    "collapsed": false
   },
   "outputs": [
    {
     "name": "stdout",
     "output_type": "stream",
     "text": [
      "Median                                                                    97\n",
      "Range                                                                     78\n",
      "Mean                                                                      38\n",
      "Multiplication and Division Integers                                      38\n",
      "Write Linear Equation from Ordered Pairs                                  30\n",
      "Unit Conversion Within a System                                           27\n",
      "Calculations with Similar Figures                                         20\n",
      "Addition Whole Numbers                                                    17\n",
      "Pattern Finding                                                           10\n",
      "Solving Systems of Linear Equations                                       10\n",
      "Number Line                                                                8\n",
      "Rate                                                                       8\n",
      "Pythagorean Theorem                                                        6\n",
      "Parts of a Polyomial, Terms, Coefficient, Monomial, Exponent, Variable     4\n",
      "Area Rectangle                                                             2\n",
      "Percents                                                                   2\n",
      "Ordering Integers                                                          1\n",
      "Order of Operations +,-,/,* () positive reals                              1\n",
      "Equation Solving Two or Fewer Steps                                        1\n",
      "Finding Percents                                                           1\n",
      "dtype: int64\n"
     ]
    }
   ],
   "source": [
    "print(pd.Series(skillsa[np.where(labelsa==2)]).value_counts())\n",
    "data = (pd.Series(skillsa[np.where(labelsa==2)]).value_counts())\n",
    "labels = data.index\n",
    "#plt.pie(data.values, labels=labels)"
   ]
  },
  {
   "cell_type": "code",
   "execution_count": 117,
   "metadata": {
    "collapsed": false
   },
   "outputs": [
    {
     "name": "stdout",
     "output_type": "stream",
     "text": [
      "Percent Of                              97\n",
      "Scientific Notation                     92\n",
      "Write Linear Equation from Situation    60\n",
      "Counting Methods                        51\n",
      "Translations                            29\n",
      "Polynomial Factors                      28\n",
      "Solving Systems of Linear Equations     23\n",
      "Exponents                               20\n",
      "Probability of a Single Event           14\n",
      "Algebraic Simplification                10\n",
      "Probability of Two Distinct Events       9\n",
      "Distributive Property                    8\n",
      "Prime Number                             7\n",
      "Finding Percents                         6\n",
      "Pattern Finding                          6\n",
      "Nets of 3D Figures                       3\n",
      "Divisibility Rules                       3\n",
      "Estimation                               2\n",
      "Reflection                               2\n",
      "Percents                                 2\n",
      "Perimeter of a Polygon                   2\n",
      "Percent Discount                         1\n",
      "Area Trapezoid                           1\n",
      "dtype: int64\n"
     ]
    }
   ],
   "source": [
    "print(pd.Series(skillsa[np.where(labelsa==3)]).value_counts())\n",
    "data = (pd.Series(skillsa[np.where(labelsa==3)]).value_counts())\n",
    "labels = data.index\n",
    "#plt.pie(data.values, labels=labels)"
   ]
  },
  {
   "cell_type": "code",
   "execution_count": 99,
   "metadata": {
    "collapsed": false
   },
   "outputs": [
    {
     "name": "stdout",
     "output_type": "stream",
     "text": [
      "Equation Solving More Than Two Steps    231\n",
      "Equation Solving Two or Fewer Steps     169\n",
      "Calculations with Similar Figures         1\n",
      "dtype: int64\n"
     ]
    }
   ],
   "source": [
    "print(pd.Series(skillsa[np.where(labelsa==1)]).value_counts())"
   ]
  },
  {
   "cell_type": "code",
   "execution_count": null,
   "metadata": {
    "collapsed": false
   },
   "outputs": [],
   "source": [
    "print(pd.Series(skillsa[np.where(labelsa==25)]).value_counts())"
   ]
  },
  {
   "cell_type": "code",
   "execution_count": null,
   "metadata": {
    "collapsed": false
   },
   "outputs": [],
   "source": [
    "data = (pd.Series(skillsa[np.where(labelsa==25)]).value_counts())\n",
    "labels = dict(data).keys()\n",
    "plt.pie(data.values, labels=labels)"
   ]
  },
  {
   "cell_type": "code",
   "execution_count": null,
   "metadata": {
    "collapsed": true
   },
   "outputs": [],
   "source": []
  }
 ],
 "metadata": {
  "kernelspec": {
   "display_name": "Python 3",
   "language": "python",
   "name": "python3"
  },
  "language_info": {
   "codemirror_mode": {
    "name": "ipython",
    "version": 3
   },
   "file_extension": ".py",
   "mimetype": "text/x-python",
   "name": "python",
   "nbconvert_exporter": "python",
   "pygments_lexer": "ipython3",
   "version": "3.5.2"
  }
 },
 "nbformat": 4,
 "nbformat_minor": 2
}
