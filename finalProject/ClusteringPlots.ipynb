{
 "cells": [
  {
   "cell_type": "code",
   "execution_count": null,
   "metadata": {
    "collapsed": true
   },
   "outputs": [],
   "source": [
    "%matplotlib inline\n",
    "import numpy as np\n",
    "import pandas as pd\n",
    "import matplotlib.pyplot as plt\n",
    "from sklearn.cluster import KMeans\n",
    "from tqdm import *"
   ]
  },
  {
   "cell_type": "code",
   "execution_count": null,
   "metadata": {
    "collapsed": false
   },
   "outputs": [],
   "source": [
    "# Load vector encodings\n",
    "data_auto = np.load('../../data/autoencoder_output.npz')\n",
    "xviz = data_auto['xviz']\n",
    "skillsa = data_auto['skills_viz']\n",
    "encodeda = data_auto['encoded']\n",
    "\n",
    "\n",
    "data_wv = np.load('../../data/word2vec_output.npz')\n",
    "skillswv = data_wv['assist_skill']\n",
    "encodedwv = data_wv['assist_vec']"
   ]
  },
  {
   "cell_type": "code",
   "execution_count": null,
   "metadata": {
    "collapsed": true
   },
   "outputs": [],
   "source": [
    "NC = 32 # number of clusters\n",
    "\n",
    "kmeanswv = KMeans(n_clusters=NC).fit(encodedwv)\n",
    "labelswv = kmeanswv.labels_\n",
    "\n",
    "kmeansa = KMeans(n_clusters=NC).fit(encodeda)\n",
    "labelsa = kmeansa.labels_"
   ]
  },
  {
   "cell_type": "code",
   "execution_count": null,
   "metadata": {
    "collapsed": true
   },
   "outputs": [],
   "source": [
    "# save clusters\n",
    "np.savez('../../data/autoencoder_clusters.npz', labelsa=labelsa)\n",
    "np.savez('../../data/word2vec_clusters.npz', labelswv=labelswv)"
   ]
  },
  {
   "cell_type": "markdown",
   "metadata": {},
   "source": [
    "# Load Pre-made clusters"
   ]
  },
  {
   "cell_type": "code",
   "execution_count": null,
   "metadata": {
    "collapsed": false
   },
   "outputs": [],
   "source": [
    "# Load vector encodings\n",
    "data_auto = np.load('../../data/autoencoder_output.npz')\n",
    "xviz = data_auto['xviz']\n",
    "skillsa = data_auto['skills_viz']\n",
    "encodeda = data_auto['encoded']\n",
    "\n",
    "\n",
    "data_wv = np.load('../../data/word2vec_output.npz')\n",
    "skillswv = data_wv['assist_skill']\n",
    "encodedwv = data_wv['assist_vec']\n",
    "\n",
    "data_auto = np.load('../../data/autoencoder_clusters.npz')\n",
    "labelsa = data_auto['labelsa']\n",
    "\n",
    "data_wv = np.load('../../data/word2vec_clusters.npz')\n",
    "labelswv = data_wv['labelswv']"
   ]
  },
  {
   "cell_type": "code",
   "execution_count": null,
   "metadata": {
    "collapsed": false
   },
   "outputs": [],
   "source": [
    "print(pd.Series(skillswv[np.where(labelswv==4)]).value_counts())\n",
    "data = (pd.Series(skillswv[np.where(labelswv==4)]).value_counts())\n",
    "labels = dict(data).keys()\n",
    "plt.pie(data.values, labels=labels)"
   ]
  },
  {
   "cell_type": "code",
   "execution_count": null,
   "metadata": {
    "collapsed": false
   },
   "outputs": [],
   "source": [
    "print(pd.Series(skillswv[np.where(labelswv==21)]).value_counts())\n",
    "data = (pd.Series(skillswv[np.where(labelswv==21)]).value_counts())\n",
    "labels = data.index\n",
    "%plt.pie(data.values, labels=labels)"
   ]
  },
  {
   "cell_type": "code",
   "execution_count": null,
   "metadata": {
    "collapsed": false
   },
   "outputs": [],
   "source": [
    "# find all clusters with given skill\n",
    "print(pd.Series(labelswv[np.where(skillswv=='Range')]).value_counts())"
   ]
  },
  {
   "cell_type": "code",
   "execution_count": null,
   "metadata": {
    "collapsed": false
   },
   "outputs": [],
   "source": [
    "print(pd.Series(labelsa[np.where(skillsa=='Range')]).value_counts())"
   ]
  },
  {
   "cell_type": "code",
   "execution_count": null,
   "metadata": {
    "collapsed": false
   },
   "outputs": [],
   "source": [
    "print(pd.Series(skillsa[np.where(labelsa==2)]).value_counts())\n",
    "data = (pd.Series(skillsa[np.where(labelsa==2)]).value_counts())\n",
    "labels = data.index\n",
    "#plt.pie(data.values, labels=labels)"
   ]
  },
  {
   "cell_type": "code",
   "execution_count": null,
   "metadata": {
    "collapsed": false
   },
   "outputs": [],
   "source": [
    "print(pd.Series(skillsa[np.where(labelsa==3)]).value_counts())\n",
    "data = (pd.Series(skillsa[np.where(labelsa==3)]).value_counts())\n",
    "labels = data.index\n",
    "#plt.pie(data.values, labels=labels)"
   ]
  },
  {
   "cell_type": "code",
   "execution_count": null,
   "metadata": {
    "collapsed": false
   },
   "outputs": [],
   "source": [
    "print(pd.Series(skillsa[np.where(labelsa==1)]).value_counts())"
   ]
  },
  {
   "cell_type": "code",
   "execution_count": null,
   "metadata": {
    "collapsed": false
   },
   "outputs": [],
   "source": [
    "print(pd.Series(skillsa[np.where(labelsa==25)]).value_counts())"
   ]
  },
  {
   "cell_type": "code",
   "execution_count": null,
   "metadata": {
    "collapsed": false
   },
   "outputs": [],
   "source": [
    "data = (pd.Series(skillsa[np.where(labelsa==25)]).value_counts())\n",
    "labels = dict(data).keys()\n",
    "plt.pie(data.values, labels=labels)"
   ]
  },
  {
   "cell_type": "code",
   "execution_count": null,
   "metadata": {
    "collapsed": true
   },
   "outputs": [],
   "source": []
  }
 ],
 "metadata": {
  "kernelspec": {
   "display_name": "Python 3",
   "language": "python",
   "name": "python3"
  },
  "language_info": {
   "codemirror_mode": {
    "name": "ipython",
    "version": 3
   },
   "file_extension": ".py",
   "mimetype": "text/x-python",
   "name": "python",
   "nbconvert_exporter": "python",
   "pygments_lexer": "ipython3",
   "version": "3.5.2"
  }
 },
 "nbformat": 4,
 "nbformat_minor": 2
}
