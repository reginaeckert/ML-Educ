{
 "cells": [
  {
   "cell_type": "code",
   "execution_count": 1,
   "metadata": {
    "collapsed": true
   },
   "outputs": [],
   "source": [
    "%matplotlib inline\n",
    "import numpy as np\n",
    "import pandas as pd"
   ]
  },
  {
   "cell_type": "code",
   "execution_count": 2,
   "metadata": {
    "collapsed": false
   },
   "outputs": [
    {
     "name": "stderr",
     "output_type": "stream",
     "text": [
      "/Users/gkuo/anaconda2/envs/py35/lib/python3.5/site-packages/IPython/core/interactiveshell.py:2717: DtypeWarning: Columns (18,30) have mixed types. Specify dtype option on import or set low_memory=False.\n",
      "  interactivity=interactivity, compiler=compiler, result=result)\n"
     ]
    }
   ],
   "source": [
    "# load pre-selected dataset\n",
    "df3 = pd.read_csv('../../data/df3.csv')"
   ]
  },
  {
   "cell_type": "code",
   "execution_count": 3,
   "metadata": {
    "collapsed": false
   },
   "outputs": [],
   "source": [
    "# get unique problem text\n",
    "body = df3['body']"
   ]
  },
  {
   "cell_type": "code",
   "execution_count": 37,
   "metadata": {
    "collapsed": false
   },
   "outputs": [],
   "source": [
    "dfsub = df3[['problem_id','body']].drop_duplicates(subset='problem_id')\n",
    "dfbody = dfsub.groupby('body').count()\n",
    "bodyarr = dfbody.as_matrix()\n",
    "bodymat = dfbody.axes"
   ]
  },
  {
   "cell_type": "code",
   "execution_count": 38,
   "metadata": {
    "collapsed": false
   },
   "outputs": [],
   "source": [
    "bodymat = np.array(bodymat[0])"
   ]
  },
  {
   "cell_type": "code",
   "execution_count": 110,
   "metadata": {
    "collapsed": false
   },
   "outputs": [
    {
     "name": "stdout",
     "output_type": "stream",
     "text": [
      "[ '<p><img src=\"/images/assistments/16455.jpg\" alt=\"\" /></p>\\n<p><span style=\"color: #000000;\">What is the y-intercept of the line?</span></p>'] \n",
      "\n",
      "Original\n",
      "\n",
      "<p><img src=\"/images/assistments/16455.jpg\" alt=\"\" /></p>\n",
      "<p><span style=\"color: #000000;\">What is the y-intercept of the line?</span></p>\n",
      "\n",
      "\n",
      "Modified\n",
      "\n",
      " What is the y-intercept of the line?\n"
     ]
    }
   ],
   "source": [
    "import re\n",
    "n = 500\n",
    "x = bodymat[np.where(bodyarr>1)[0]][n]\n",
    "print(bodymat[np.where(bodyarr>1)[0]][n:n+1],'\\n')\n",
    "print('Original\\n')\n",
    "print(x)\n",
    "print('\\n')\n",
    "print('Modified\\n')\n",
    "x = re.sub('<.*?>', '', x)\n",
    "x = re.sub('\\n', ' ', x)\n",
    "x = re.sub('&nbsp;', '', x)\n",
    "print(x)\n",
    "\n"
   ]
  },
  {
   "cell_type": "code",
   "execution_count": 54,
   "metadata": {
    "collapsed": false
   },
   "outputs": [
    {
     "data": {
      "text/plain": [
       "'<p id=\"cyt21\"><span style=\"color: #3366ff;\">You know that the <strong id=\"gh.s\">largest digit in the ones place</strong> is 9.&nbsp; Now try the original problem.<br id=\"cyt23\" /> </span></p>\\n<p id=\"cyt24\">&nbsp;</p>\\n<p id=\"fpww0\">From the list of <strong id=\"g3mr\" style=\"color: #45818e;\">decimals</strong> below, which <strong id=\"g3mr0\" style=\"color: #45818e;\">decimal</strong> is the largest?</p>\\n<p id=\"fpww1\"><br id=\"fpww2\" /></p>\\n<p>&nbsp;&nbsp;&nbsp;&nbsp;&nbsp;&nbsp;&nbsp;&nbsp;&nbsp;&nbsp;&nbsp;&nbsp;5.24 &nbsp;&nbsp; 0.13\\n&nbsp;&nbsp;&nbsp; 9&nbsp;&nbsp;&nbsp; 6.04<br id=\"uwka\" /></p>\\n<p>&nbsp;</p>'"
      ]
     },
     "execution_count": 54,
     "metadata": {},
     "output_type": "execute_result"
    }
   ],
   "source": [
    "bodymat[np.where(bodyarr>1)[0]][10]"
   ]
  },
  {
   "cell_type": "code",
   "execution_count": 36,
   "metadata": {
    "collapsed": false
   },
   "outputs": [
    {
     "data": {
      "text/plain": [
       "array([   15,    31,    32, ..., 20046, 20047, 20073])"
      ]
     },
     "execution_count": 36,
     "metadata": {},
     "output_type": "execute_result"
    }
   ],
   "source": [
    "np.where(bodyarr>1)[0]"
   ]
  },
  {
   "cell_type": "code",
   "execution_count": 111,
   "metadata": {
    "collapsed": false
   },
   "outputs": [],
   "source": [
    "subsub = df3[df3['body'] == '<p><img src=\"/images/assistments/16455.jpg\" alt=\"\" /></p>\\n<p><span style=\"color: #000000;\">What is the y-intercept of the line?</span></p>']"
   ]
  },
  {
   "cell_type": "code",
   "execution_count": 112,
   "metadata": {
    "collapsed": false
   },
   "outputs": [
    {
     "data": {
      "text/plain": [
       "array([59636, 59640])"
      ]
     },
     "execution_count": 112,
     "metadata": {},
     "output_type": "execute_result"
    }
   ],
   "source": [
    "subsub['problem_id'].unique()"
   ]
  },
  {
   "cell_type": "code",
   "execution_count": 114,
   "metadata": {
    "collapsed": false
   },
   "outputs": [
    {
     "data": {
      "text/plain": [
       "array(['Write Linear Equation from Graph'], dtype=object)"
      ]
     },
     "execution_count": 114,
     "metadata": {},
     "output_type": "execute_result"
    }
   ],
   "source": [
    "subsub['skill_name'].unique()"
   ]
  },
  {
   "cell_type": "code",
   "execution_count": null,
   "metadata": {
    "collapsed": true
   },
   "outputs": [],
   "source": []
  }
 ],
 "metadata": {
  "kernelspec": {
   "display_name": "Python 3",
   "language": "python",
   "name": "python3"
  },
  "language_info": {
   "codemirror_mode": {
    "name": "ipython",
    "version": 3
   },
   "file_extension": ".py",
   "mimetype": "text/x-python",
   "name": "python",
   "nbconvert_exporter": "python",
   "pygments_lexer": "ipython3",
   "version": "3.5.2"
  }
 },
 "nbformat": 4,
 "nbformat_minor": 2
}
