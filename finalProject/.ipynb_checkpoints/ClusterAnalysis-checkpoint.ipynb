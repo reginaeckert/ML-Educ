{
 "cells": [
  {
   "cell_type": "code",
   "execution_count": null,
   "metadata": {
    "collapsed": false
   },
   "outputs": [],
   "source": [
    "%matplotlib inline\n",
    "import pandas as pd\n",
    "import numpy as np\n",
    "import matplotlib.pyplot as plt\n",
    "import json\n",
    "from gensim.models import Word2Vec\n",
    "from sklearn.manifold import TSNE "
   ]
  },
  {
   "cell_type": "code",
   "execution_count": null,
   "metadata": {
    "collapsed": true
   },
   "outputs": [],
   "source": [
    "#Read in skill builder dataset\n",
    "filename = 'skill_builder_data_corrected.csv'\n",
    "df = pd.read_csv(filename, encoding='ISO-8859-1', low_memory=False)"
   ]
  },
  {
   "cell_type": "code",
   "execution_count": null,
   "metadata": {
    "collapsed": false
   },
   "outputs": [],
   "source": [
    "#Read in problem text dataset\n",
    "filename2='../data/problems.csv'\n",
    "problems=pd.read_csv(filename2, encoding='ISO-8859-1', low_memory=False)"
   ]
  },
  {
   "cell_type": "code",
   "execution_count": null,
   "metadata": {
    "collapsed": false
   },
   "outputs": [],
   "source": [
    "#Select students that have attempted more than n problems \n",
    "students_list=df.groupby('user_id').problem_id.count()\n",
    "students_id=students_list[students_list>50].index #Get the associated user_id\n",
    "df2=df[df['user_id'].isin(students_id)] #Select only the rows containing those students"
   ]
  },
  {
   "cell_type": "code",
   "execution_count": null,
   "metadata": {
    "collapsed": false
   },
   "outputs": [],
   "source": [
    "#Merge the two datasets based on the problem_id and assistment_id\n",
    "#Each assistment_id can have multiple problem_id's\n",
    "#But each problem_id appears to only be associated with 1 assistment_id\n",
    "df3=pd.merge(df2,problems,on=['assistment_id','problem_id'],how='left',indicator=True)\n",
    "#Will still include rows where there is no corresponding problem description for the problem_id\n",
    "df3.shape"
   ]
  },
  {
   "cell_type": "code",
   "execution_count": null,
   "metadata": {
    "collapsed": false
   },
   "outputs": [],
   "source": [
    "#Different way to merge\n",
    "df4=pd.merge(df2,problems,on=['assistment_id','problem_id'],how='inner')\n",
    "#Will cut out rows where there is no corresponding problem description for the problem_id\n",
    "#(This amounts to 120 rows and 23 unique problem_id's.)\n",
    "df4.shape"
   ]
  },
  {
   "cell_type": "code",
   "execution_count": null,
   "metadata": {
    "collapsed": false
   },
   "outputs": [],
   "source": [
    "#Count the ones without problem text\n",
    "nondescript=df3[df3['_merge']=='left_only']['problem_id']\n",
    "print('Number of rows without description: ', nondescript.size)\n",
    "print('Number of unique problems without description: ', nondescript.nunique())"
   ]
  },
  {
   "cell_type": "code",
   "execution_count": null,
   "metadata": {
    "collapsed": false
   },
   "outputs": [],
   "source": [
    "#Make sure each problem_id is only associated with 1 unique assistment_id\n",
    "any(df3.groupby('problem_id').assistment_id.nunique()>1)\n",
    "#Woo! No problem is associated with more than one assistment_id"
   ]
  },
  {
   "cell_type": "code",
   "execution_count": null,
   "metadata": {
    "collapsed": false
   },
   "outputs": [],
   "source": [
    "#Random queries\n",
    "df[df['problem_id']==58551]['assistment_id'].nunique()\n",
    "df[df['assistment_id']==76958]['problem_id'].nunique()"
   ]
  },
  {
   "cell_type": "code",
   "execution_count": null,
   "metadata": {
    "collapsed": false
   },
   "outputs": [],
   "source": [
    "#Number of unique labeled skills (107)\n",
    "df3.skill_name.nunique()"
   ]
  },
  {
   "cell_type": "code",
   "execution_count": null,
   "metadata": {
    "collapsed": false
   },
   "outputs": [],
   "source": [
    "problems.columns"
   ]
  },
  {
   "cell_type": "code",
   "execution_count": null,
   "metadata": {
    "collapsed": false
   },
   "outputs": [],
   "source": [
    "df.groupby(['user_id','problem_id'])['skill_id'].nunique()"
   ]
  },
  {
   "cell_type": "code",
   "execution_count": null,
   "metadata": {
    "collapsed": false
   },
   "outputs": [],
   "source": [
    "df[(df.problem_id==57647) & (df.user_id==14)]['position']\n",
    "#Multiple rows for a particular problem with multiple skills are the same (except for the skill info)"
   ]
  },
  {
   "cell_type": "code",
   "execution_count": null,
   "metadata": {
    "collapsed": false
   },
   "outputs": [],
   "source": [
    "df[df['original']==1].problem_id.nunique()"
   ]
  },
  {
   "cell_type": "code",
   "execution_count": null,
   "metadata": {
    "collapsed": false
   },
   "outputs": [],
   "source": [
    "df.groupby(['user_id','problem_id']).size()"
   ]
  },
  {
   "cell_type": "code",
   "execution_count": null,
   "metadata": {
    "collapsed": false
   },
   "outputs": [],
   "source": [
    "df.problem_id.nunique()"
   ]
  },
  {
   "cell_type": "code",
   "execution_count": null,
   "metadata": {
    "collapsed": true
   },
   "outputs": [],
   "source": []
  }
 ],
 "metadata": {
  "anaconda-cloud": {},
  "kernelspec": {
   "display_name": "Python [pythonEnv]",
   "language": "python",
   "name": "Python [pythonEnv]"
  },
  "language_info": {
   "codemirror_mode": {
    "name": "ipython",
    "version": 3
   },
   "file_extension": ".py",
   "mimetype": "text/x-python",
   "name": "python",
   "nbconvert_exporter": "python",
   "pygments_lexer": "ipython3",
   "version": "3.5.3"
  }
 },
 "nbformat": 4,
 "nbformat_minor": 0
}
