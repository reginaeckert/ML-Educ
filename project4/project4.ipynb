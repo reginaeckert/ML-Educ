{
 "cells": [
  {
   "cell_type": "code",
   "execution_count": 1,
   "metadata": {
    "collapsed": false
   },
   "outputs": [
    {
     "name": "stderr",
     "output_type": "stream",
     "text": [
      "Using TensorFlow backend.\n"
     ]
    }
   ],
   "source": [
    "%matplotlib inline\n",
    "import pandas as pd\n",
    "import numpy as np\n",
    "import matplotlib.pyplot as plt\n",
    "import json\n",
    "from gensim.models import Word2Vec\n",
    "from sklearn.manifold import TSNE \n"
   ]
  },
  {
   "cell_type": "markdown",
   "metadata": {},
   "source": [
    "# Visualizing Skills"
   ]
  },
  {
   "cell_type": "code",
   "execution_count": 2,
   "metadata": {
    "collapsed": false
   },
   "outputs": [],
   "source": [
    "#Load in skills dataframe\n",
    "skill_df = pd.read_csv('skill.tsv', sep='\\t').drop('Unnamed: 0', axis=1)\n",
    "#Load in dictionary associating skill numbers with skill names\n",
    "skill_dict = {}\n",
    "with open('skill_dict.json', 'r', encoding='utf-8') as f:\n",
    "    loaded = json.load(f)\n",
    "    for v, k in loaded.items():\n",
    "        skill_dict[k] = str(v) #Use number as key, string as value"
   ]
  },
  {
   "cell_type": "code",
   "execution_count": 3,
   "metadata": {
    "collapsed": false
   },
   "outputs": [],
   "source": [
    "#Read out the \"sentences\"\n",
    "sentences=skill_df.iloc[:,1:].values.astype(str)\n",
    "sentences=sentences.tolist()"
   ]
  },
  {
   "cell_type": "code",
   "execution_count": 5,
   "metadata": {
    "collapsed": true
   },
   "outputs": [],
   "source": [
    "#Each student is a \"sentence\", each skill is a \"word\"\n",
    "#size = dimensionality of feature vectors\n",
    "#window = max distance between current and predicted word within a sentence\n",
    "#min_count = minimum number of occurrences within dataset\n",
    "#workers = number of threads used\n",
    "#sg = 0 (CBOW, default); = 1 (skip-gram)\n",
    "model = Word2Vec(sentences, size=200, window=10, min_count=10, workers=4, sg=1, iter=100)"
   ]
  },
  {
   "cell_type": "code",
   "execution_count": 6,
   "metadata": {
    "collapsed": true
   },
   "outputs": [],
   "source": [
    "skill_num=model.wv.vocab; #Names of the words (numbers)\n",
    "skill_vec=model[skill_num] #Access the vectors\n",
    "\n",
    "skill_name=list()\n",
    "#Associate with readable words\n",
    "for k,v in skill_num.items(): #Iterate over the vocab from word2vec (k = key = number string)\n",
    "    skill_name.append(skill_dict.get(k)) #Get the value (tag) saved at that key in the other dict\n",
    "#print(skill_name)"
   ]
  },
  {
   "cell_type": "code",
   "execution_count": 7,
   "metadata": {
    "collapsed": false
   },
   "outputs": [],
   "source": [
    "tsne=TSNE(perplexity=30) #Instantiate the TSNE model (can change params here)\n",
    "skill_tsne=tsne.fit_transform(skill_vec.astype(float)) #Run tsne"
   ]
  },
  {
   "cell_type": "code",
   "execution_count": 8,
   "metadata": {
    "collapsed": true
   },
   "outputs": [],
   "source": [
    "#Save as a tsv file for d3-scatterplot\n",
    "# d={'x': skill_tsne[:,0],\n",
    "#   'y': skill_tsne[:,1],\n",
    "#   'skill' : skill_name}\n",
    "tsne_save=pd.DataFrame({'x': skill_tsne[:,0],\n",
    "  'y': skill_tsne[:,1],\n",
    "  'skill' : skill_name})\n",
    "tsne_save.to_csv('../d3-scatterplot/tsne_skills.tsv',sep='\\t',index=False,columns=['x','y','skill'])"
   ]
  },
  {
   "cell_type": "markdown",
   "metadata": {},
   "source": [
    "# Visualizing Assistments"
   ]
  },
  {
   "cell_type": "code",
   "execution_count": 75,
   "metadata": {
    "collapsed": false
   },
   "outputs": [],
   "source": [
    "# Load in Assistments ID dataframe\n",
    "assistment_df = pd.read_csv('assistment_id.tsv', sep='\\t').drop('Unnamed: 0', axis=1)\n",
    "sentences=assistment_df.iloc[:,1:].values.astype(str)\n",
    "sentences=sentences.tolist()"
   ]
  },
  {
   "cell_type": "code",
   "execution_count": 76,
   "metadata": {
    "collapsed": true
   },
   "outputs": [],
   "source": [
    "# Load entire Assistment dataframe to find the skills associated with each ID\n",
    "filename = 'skill_builder_data_corrected.csv'\n",
    "df = pd.read_csv(filename, encoding='ISO-8859-1', low_memory=False)\n",
    "df = df[(df['original'] == 1) & (df['attempt_count'] == 1) & ~(df['skill_name'].isnull())]"
   ]
  },
  {
   "cell_type": "code",
   "execution_count": 97,
   "metadata": {
    "collapsed": true
   },
   "outputs": [],
   "source": [
    "#Each student is a \"sentence\", each skill is a \"word\"\n",
    "#size = dimensionality of feature vectors\n",
    "#window = max distance between current and predicted word within a sentence\n",
    "#min_count = minimum number of occurrences within dataset\n",
    "#workers = number of threads used\n",
    "#sg = 0 (CBOW, default); = 1 (skip-gram)\n",
    "model = Word2Vec(sentences, size=200, window=10, min_count=10, workers=4, sg=1, iter=30)"
   ]
  },
  {
   "cell_type": "code",
   "execution_count": 98,
   "metadata": {
    "collapsed": false
   },
   "outputs": [],
   "source": [
    "assist_num=model.wv.vocab; #Names of the words (numbers)\n",
    "assist_vec=model[assist_num] #Access the vectors\n",
    "\n",
    "tsne=TSNE(perplexity=30) #Instantiate the TSNE model (can change params here)\n",
    "assist_tsne=tsne.fit_transform(assist_vec.astype(float)) #Run tsne"
   ]
  },
  {
   "cell_type": "code",
   "execution_count": 99,
   "metadata": {
    "collapsed": false
   },
   "outputs": [],
   "source": [
    "assist_skill=list()\n",
    "\n",
    "for k,v in assist_num.items():\n",
    "    skill = df[df['assistment_id'] == int(k)]['skill_name'].iloc[0] # get the first skill associated with the assistment\n",
    "    assist_skill.append(skill)\n"
   ]
  },
  {
   "cell_type": "code",
   "execution_count": 100,
   "metadata": {
    "collapsed": false
   },
   "outputs": [],
   "source": [
    "#Save as a tsv file for d3-scatterplot\n",
    "# d={'x': skill_tsne[:,0],\n",
    "#   'y': skill_tsne[:,1],\n",
    "#   'skill' : skill_name}\n",
    "tsne_save=pd.DataFrame({'x': assist_tsne[:,0],\n",
    "  'y': assist_tsne[:,1],\n",
    "  'skill' : assist_skill})\n",
    "tsne_save.to_csv('../d3-scatterplot/tsne_assist.tsv',sep='\\t',index=False,columns=['x','y','skill'])"
   ]
  },
  {
   "cell_type": "code",
   "execution_count": null,
   "metadata": {
    "collapsed": true
   },
   "outputs": [],
   "source": []
  }
 ],
 "metadata": {
  "anaconda-cloud": {},
  "kernelspec": {
   "display_name": "Python 3",
   "language": "python",
   "name": "python3"
  },
  "language_info": {
   "codemirror_mode": {
    "name": "ipython",
    "version": 3
   },
   "file_extension": ".py",
   "mimetype": "text/x-python",
   "name": "python",
   "nbconvert_exporter": "python",
   "pygments_lexer": "ipython3",
   "version": "3.5.2"
  }
 },
 "nbformat": 4,
 "nbformat_minor": 2
}
