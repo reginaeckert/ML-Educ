{
 "cells": [
  {
   "cell_type": "code",
   "execution_count": 2,
   "metadata": {
    "collapsed": false
   },
   "outputs": [
    {
     "name": "stderr",
     "output_type": "stream",
     "text": [
      "Using TensorFlow backend.\n"
     ]
    }
   ],
   "source": [
    "%matplotlib inline\n",
    "import pandas as pd\n",
    "import numpy as np\n",
    "import matplotlib.pyplot as plt\n",
    "import json\n",
    "from gensim.models import Word2Vec\n",
    "from sklearn.manifold import TSNE \n"
   ]
  },
  {
   "cell_type": "markdown",
   "metadata": {},
   "source": [
    "# Visualizing Skills"
   ]
  },
  {
   "cell_type": "code",
   "execution_count": 35,
   "metadata": {
    "collapsed": false
   },
   "outputs": [],
   "source": [
    "#Load in skills dataframe\n",
    "skill_df = pd.read_csv('skill.tsv', sep='\\t').drop('Unnamed: 0', axis=1)\n",
    "#Load in dictionary associating skill numbers with skill names\n",
    "skill_dict = {}\n",
    "with open('skill_dict.json', 'r', encoding='utf-8') as f:\n",
    "    loaded = json.load(f)\n",
    "    for v, k in loaded.items():\n",
    "        skill_dict[k] = str(v) #Use number as key, string as value"
   ]
  },
  {
   "cell_type": "code",
   "execution_count": 36,
   "metadata": {
    "collapsed": false
   },
   "outputs": [],
   "source": [
    "#Read out the \"sentences\"\n",
    "sentences=skill_df.iloc[:,1:].values.astype(str)\n",
    "sentences=sentences.tolist()"
   ]
  },
  {
   "cell_type": "code",
   "execution_count": 37,
   "metadata": {
    "collapsed": true
   },
   "outputs": [],
   "source": [
    "#Each student is a \"sentence\", each skill is a \"word\"\n",
    "#size = dimensionality of feature vectors\n",
    "#window = max distance between current and predicted word within a sentence\n",
    "#min_count = minimum number of occurrences within dataset\n",
    "#workers = number of threads used\n",
    "#sg = 0 (CBOW, default); = 1 (skip-gram)\n",
    "model = Word2Vec(sentences, size=200, window=10, min_count=10, workers=4, sg=1, iter=100)"
   ]
  },
  {
   "cell_type": "code",
   "execution_count": 38,
   "metadata": {
    "collapsed": true
   },
   "outputs": [],
   "source": [
    "skill_num=model.wv.vocab; #Names of the words (numbers)\n",
    "skill_vec=model[skill_num] #Access the vectors\n",
    "\n",
    "skill_name=list()\n",
    "#Associate with readable words\n",
    "for k,v in skill_num.items(): #Iterate over the vocab from word2vec (k = key = number string)\n",
    "    skill_name.append(skill_dict.get(k)) #Get the value (tag) saved at that key in the other dict\n",
    "#print(skill_name)"
   ]
  },
  {
   "cell_type": "code",
   "execution_count": 39,
   "metadata": {
    "collapsed": false
   },
   "outputs": [],
   "source": [
    "tsne=TSNE(perplexity=30) #Instantiate the TSNE model (can change params here)\n",
    "skill_tsne=tsne.fit_transform(skill_vec.astype(float)) #Run tsne"
   ]
  },
  {
   "cell_type": "code",
   "execution_count": 40,
   "metadata": {
    "collapsed": true
   },
   "outputs": [],
   "source": [
    "#Save as a tsv file for d3-scatterplot\n",
    "# d={'x': skill_tsne[:,0],\n",
    "#   'y': skill_tsne[:,1],\n",
    "#   'skill' : skill_name}\n",
    "tsne_save=pd.DataFrame({'x': skill_tsne[:,0],\n",
    "  'y': skill_tsne[:,1],\n",
    "  'skill' : skill_name})\n",
    "tsne_save.to_csv('../d3-scatterplot/tsne_skills.tsv',sep='\\t',index=False,columns=['x','y','skill'])"
   ]
  },
  {
   "cell_type": "markdown",
   "metadata": {},
   "source": [
    "# Visualizing Assistments"
   ]
  },
  {
   "cell_type": "code",
   "execution_count": 82,
   "metadata": {
    "collapsed": false
   },
   "outputs": [],
   "source": [
    "# Load in Assistments ID dataframe\n",
    "assistment_df = pd.read_csv('assistment_id.tsv', sep='\\t').drop('Unnamed: 0', axis=1)\n",
    "sentences=assistment_df.iloc[:,1:].values.astype(str)\n",
    "sentences=sentences.tolist()"
   ]
  },
  {
   "cell_type": "code",
   "execution_count": 83,
   "metadata": {
    "collapsed": true
   },
   "outputs": [],
   "source": [
    "# Load entire Assistment dataframe to find the skills associated with each ID\n",
    "filename = 'skill_builder_data_corrected.csv'\n",
    "df = pd.read_csv(filename, encoding='ISO-8859-1', low_memory=False)\n",
    "df = df[(df['original'] == 1) & (df['attempt_count'] == 1) & ~(df['skill_name'].isnull())]"
   ]
  },
  {
   "cell_type": "code",
   "execution_count": 84,
   "metadata": {
    "collapsed": true
   },
   "outputs": [],
   "source": [
    "#Each student is a \"sentence\", each skill is a \"word\"\n",
    "#size = dimensionality of feature vectors\n",
    "#window = max distance between current and predicted word within a sentence\n",
    "#min_count = minimum number of occurrences within dataset\n",
    "#workers = number of threads used\n",
    "#sg = 0 (CBOW, default); = 1 (skip-gram)\n",
    "model = Word2Vec(sentences, size=200, window=10, min_count=10, workers=4, sg=1, iter=30)"
   ]
  },
  {
   "cell_type": "code",
   "execution_count": 85,
   "metadata": {
    "collapsed": false
   },
   "outputs": [],
   "source": [
    "assist_num=model.wv.vocab; #Names of the words (numbers)\n",
    "assist_vec=model[assist_num] #Access the vectors\n",
    "\n",
    "tsne=TSNE(perplexity=30) #Instantiate the TSNE model (can change params here)\n",
    "assist_tsne=tsne.fit_transform(assist_vec.astype(float)) #Run tsne"
   ]
  },
  {
   "cell_type": "code",
   "execution_count": 89,
   "metadata": {
    "collapsed": false
   },
   "outputs": [],
   "source": [
    "assist_skill=list()\n",
    "\n",
    "for k,v in assist_num.items():\n",
    "    skill = df[df['assistment_id'] == int(k)]['skill_name'].iloc[0] # get the first skill associated with the assistment\n",
    "    assist_skill.append(skill)\n"
   ]
  },
  {
   "cell_type": "code",
   "execution_count": 93,
   "metadata": {
    "collapsed": false
   },
   "outputs": [],
   "source": [
    "#Save as a tsv file for d3-scatterplot\n",
    "# d={'x': skill_tsne[:,0],\n",
    "#   'y': skill_tsne[:,1],\n",
    "#   'skill' : skill_name}\n",
    "tsne_save=pd.DataFrame({'x': assist_tsne[:,0],\n",
    "  'y': assist_tsne[:,1],\n",
    "  'skill' : assist_skill})\n",
    "tsne_save.to_csv('../d3-scatterplot/tsne_assist.tsv',sep='\\t',index=False,columns=['x','y','skill'])"
   ]
  },
  {
   "cell_type": "code",
   "execution_count": 87,
   "metadata": {
    "collapsed": false
   },
   "outputs": [
    {
     "data": {
      "text/plain": [
       "(1870, 200)"
      ]
     },
     "execution_count": 87,
     "metadata": {},
     "output_type": "execute_result"
    }
   ],
   "source": [
    "assist_vec.shape"
   ]
  },
  {
   "cell_type": "code",
   "execution_count": 92,
   "metadata": {
    "collapsed": false
   },
   "outputs": [
    {
     "data": {
      "text/plain": [
       "34"
      ]
     },
     "execution_count": 92,
     "metadata": {},
     "output_type": "execute_result"
    }
   ],
   "source": [
    "dfskills = pd.DataFrame(np.array(assist_skill) )\n",
    "dfskills.iloc[:,0].nunique()"
   ]
  },
  {
   "cell_type": "code",
   "execution_count": 88,
   "metadata": {
    "collapsed": false
   },
   "outputs": [
    {
     "data": {
      "text/plain": [
       "(80, 200)"
      ]
     },
     "execution_count": 88,
     "metadata": {},
     "output_type": "execute_result"
    }
   ],
   "source": [
    "skill_vec.shape"
   ]
  },
  {
   "cell_type": "code",
   "execution_count": 51,
   "metadata": {
    "collapsed": false
   },
   "outputs": [
    {
     "data": {
      "text/plain": [
       "array([[33139, 33150, 52640, ..., 41094, 50138, 41095],\n",
       "       [33110, 33172, 33174, ..., 36872, 36949, 36858],\n",
       "       [33168, 33112, 31968, ..., 36537, 33168, 41674],\n",
       "       ..., \n",
       "       [55629, 55660, 55643, ..., 34348, 47967, 48057],\n",
       "       [55648, 55622, 55641, ..., 51042, 34516, 34413],\n",
       "       [34062, 34021, 34054, ..., 34735, 34654, 34721]])"
      ]
     },
     "execution_count": 51,
     "metadata": {},
     "output_type": "execute_result"
    }
   ],
   "source": [
    "assistment_df.values[:,1:]"
   ]
  },
  {
   "cell_type": "code",
   "execution_count": 100,
   "metadata": {
    "collapsed": false
   },
   "outputs": [
    {
     "data": {
      "text/plain": [
       "94"
      ]
     },
     "execution_count": 100,
     "metadata": {},
     "output_type": "execute_result"
    }
   ],
   "source": [
    "ar = np.reshape(skill_df.values[:,1:], (skill_df.values[:,1:].shape[0]*skill_df.values[:,1:].shape[1], 1))\n",
    "dfar = pd.DataFrame(ar )\n",
    "dfar.iloc[:,0].nunique()"
   ]
  },
  {
   "cell_type": "code",
   "execution_count": 91,
   "metadata": {
    "collapsed": false
   },
   "outputs": [],
   "source": [
    "skill_vals = skill_df.values[:,1:]\n",
    "assist_skill=list()\n",
    "for k,v in assist_num.items():\n",
    "    ind = np.where(assistment_df.values[:,1:] == int(k))\n",
    "    key = skill_vals[ind][0]\n",
    "    #skill = skill_df[skill_df['assistment_id'] == int(k)]['skill_name'].iloc[0] # get the first skill associated with the assistment\n",
    "    assist_skill.append(skill_dict.get(key.astype(str)))"
   ]
  },
  {
   "cell_type": "code",
   "execution_count": 68,
   "metadata": {
    "collapsed": false
   },
   "outputs": [
    {
     "name": "stdout",
     "output_type": "stream",
     "text": [
      "['Effect of Changing Dimensions of a Shape Prportionally', 'Ordering Fractions', 'Ordering Integers', 'Scatter Plot', 'Circle Graph', 'Circle Graph', 'Box and Whisker', 'Box and Whisker', 'Ordering Fractions', 'Stem and Leaf Plot', 'Box and Whisker', 'Stem and Leaf Plot', 'Conversion of Fraction Decimals Percents', 'Venn Diagram', 'Table', 'Ordering Positive Decimals', 'Table', 'Circle Graph', 'Square Root', 'Estimation', 'Conversion of Fraction Decimals Percents', 'Counting Methods', 'Circle Graph', 'Conversion of Fraction Decimals Percents', 'Stem and Leaf Plot', 'Ordering Fractions', 'Ordering Positive Decimals', 'Effect of Changing Dimensions of a Shape Prportionally', 'Addition and Subtraction Positive Decimals', 'Probability of Two Distinct Events', 'Conversion of Fraction Decimals Percents', 'Conversion of Fraction Decimals Percents', 'Circle Graph', 'Least Common Multiple', 'Table', 'Least Common Multiple', 'Ordering Positive Decimals', 'Conversion of Fraction Decimals Percents', 'Ordering Positive Decimals', 'Multiplication Fractions', 'Subtraction Whole Numbers', 'Box and Whisker', 'Scatter Plot', 'Probability of Two Distinct Events', 'Estimation', 'Circle Graph', 'Conversion of Fraction Decimals Percents', 'Circle Graph', 'Stem and Leaf Plot', 'Venn Diagram', 'Estimation', 'Ordering Positive Decimals', 'Finding Percents', 'Table', 'Venn Diagram', 'Circle Graph', 'Stem and Leaf Plot', 'Conversion of Fraction Decimals Percents', 'Ordering Integers', 'Conversion of Fraction Decimals Percents', 'Least Common Multiple', 'Table', 'Stem and Leaf Plot', 'Conversion of Fraction Decimals Percents', 'Addition Whole Numbers', 'Finding Percents', 'Conversion of Fraction Decimals Percents', 'Venn Diagram', 'Addition Whole Numbers', 'Stem and Leaf Plot', 'Box and Whisker', 'Stem and Leaf Plot', 'Stem and Leaf Plot', 'Circle Graph', 'Stem and Leaf Plot', 'Venn Diagram', 'Ordering Positive Decimals', 'Conversion of Fraction Decimals Percents', 'Venn Diagram', 'Stem and Leaf Plot', 'Table', 'Stem and Leaf Plot', 'Box and Whisker', 'Number Line', 'Stem and Leaf Plot', 'Scatter Plot', 'Box and Whisker', 'Table', 'Table', 'Stem and Leaf Plot', 'Estimation', 'Conversion of Fraction Decimals Percents', 'Scatter Plot', 'Table', 'Stem and Leaf Plot', 'Circle Graph', 'Least Common Multiple', 'Circle Graph', 'Table', 'Ordering Positive Decimals', 'Finding Percents', 'Ordering Positive Decimals', 'Box and Whisker', 'Table', 'Venn Diagram', 'Multiplication Fractions', 'Stem and Leaf Plot', 'Least Common Multiple', 'Table', 'Subtraction Whole Numbers', 'Table', 'Stem and Leaf Plot', 'Finding Percents', 'Effect of Changing Dimensions of a Shape Prportionally', 'Circle Graph', 'Conversion of Fraction Decimals Percents', 'Square Root', 'Stem and Leaf Plot', 'Ordering Integers', 'Table', 'Ordering Positive Decimals', 'Table', 'Scatter Plot', 'Stem and Leaf Plot', 'Ordering Integers', 'Scatter Plot', 'Circle Graph', 'Conversion of Fraction Decimals Percents', 'Number Line', 'Circle Graph', 'Addition Whole Numbers', 'Addition Whole Numbers', 'Conversion of Fraction Decimals Percents', 'Venn Diagram', 'Table', 'Circle Graph', 'Conversion of Fraction Decimals Percents', 'Circle Graph', 'Ordering Positive Decimals', 'Estimation', 'Table', 'Box and Whisker', 'Ordering Integers', 'Histogram as Table or Graph', 'Circle Graph', 'Table', 'Ordering Positive Decimals', 'Ordering Positive Decimals', 'Stem and Leaf Plot', 'Conversion of Fraction Decimals Percents', 'Box and Whisker', 'Addition Whole Numbers', 'Addition Whole Numbers', 'Conversion of Fraction Decimals Percents', 'Circle Graph', 'Ordering Positive Decimals', 'Circle Graph', 'Square Root', 'Table', 'Addition Whole Numbers', 'Box and Whisker', 'Venn Diagram', 'Probability of Two Distinct Events', 'Circle Graph', 'Square Root', 'Venn Diagram', 'Addition and Subtraction Integers', 'Division Fractions', 'Ordering Positive Decimals', 'Estimation', 'Conversion of Fraction Decimals Percents', 'Addition and Subtraction Integers', 'Addition Whole Numbers', 'Circle Graph', 'Ordering Fractions', 'Stem and Leaf Plot', 'Stem and Leaf Plot', 'Stem and Leaf Plot', 'Scatter Plot', 'Circle Graph', 'Scatter Plot', 'Scatter Plot', 'Ordering Positive Decimals', 'Conversion of Fraction Decimals Percents', 'Circle Graph', 'Conversion of Fraction Decimals Percents', 'Scatter Plot', 'Addition Whole Numbers', 'Addition Whole Numbers', 'Probability of Two Distinct Events', 'Conversion of Fraction Decimals Percents', 'Counting Methods', 'Finding Percents', 'Table', 'Table', 'Venn Diagram', 'Stem and Leaf Plot', 'Ordering Positive Decimals', 'Venn Diagram', 'Histogram as Table or Graph', 'Venn Diagram', 'Conversion of Fraction Decimals Percents', 'Least Common Multiple', 'Multiplication Fractions', 'Ordering Positive Decimals', 'Ordering Fractions', 'Venn Diagram', 'Box and Whisker', 'Ordering Positive Decimals', 'Table', 'Venn Diagram', 'Ordering Fractions', 'Table', 'Circle Graph', 'Subtraction Whole Numbers', 'Least Common Multiple', 'Box and Whisker', 'Square Root', 'Scatter Plot', 'Table', 'Stem and Leaf Plot', 'Counting Methods', 'Ordering Positive Decimals', 'Table', 'Conversion of Fraction Decimals Percents', 'Estimation', 'Ordering Integers', 'Table', 'Ordering Integers', 'Venn Diagram', 'Conversion of Fraction Decimals Percents', 'Effect of Changing Dimensions of a Shape Prportionally', 'Table', 'Scatter Plot', 'Table', 'Table', 'Table', 'Square Root', 'Conversion of Fraction Decimals Percents', 'Conversion of Fraction Decimals Percents', 'Circle Graph', 'Conversion of Fraction Decimals Percents', 'Box and Whisker', 'Least Common Multiple', 'Stem and Leaf Plot', 'Conversion of Fraction Decimals Percents', 'Least Common Multiple', 'Histogram as Table or Graph', 'Addition Whole Numbers', 'Venn Diagram', 'Estimation', 'Ordering Positive Decimals', 'Ordering Fractions', 'Conversion of Fraction Decimals Percents', 'Venn Diagram', 'Stem and Leaf Plot', 'Conversion of Fraction Decimals Percents', 'Stem and Leaf Plot', 'Stem and Leaf Plot', 'Ordering Positive Decimals', 'Stem and Leaf Plot', 'Histogram as Table or Graph', 'Ordering Integers', 'Table', 'Table', 'Addition Whole Numbers', 'Addition Whole Numbers', 'Addition Whole Numbers', 'Conversion of Fraction Decimals Percents', 'Ordering Fractions', 'Venn Diagram', 'Addition Whole Numbers', 'Stem and Leaf Plot', 'Venn Diagram', 'Probability of a Single Event', 'Stem and Leaf Plot', 'Conversion of Fraction Decimals Percents', 'Probability of Two Distinct Events', 'Circle Graph', 'Conversion of Fraction Decimals Percents', 'Venn Diagram', 'Ordering Fractions', 'Ordering Positive Decimals', 'Probability of a Single Event', 'Ordering Positive Decimals', 'Conversion of Fraction Decimals Percents', 'Table', 'Estimation', 'Scatter Plot', 'Scatter Plot', 'Venn Diagram', 'Table', 'Subtraction Whole Numbers', 'Conversion of Fraction Decimals Percents', 'Ordering Integers', 'Subtraction Whole Numbers', 'Venn Diagram', 'Box and Whisker', 'Addition and Subtraction Integers', 'Table', 'Stem and Leaf Plot', 'Histogram as Table or Graph', 'Effect of Changing Dimensions of a Shape Prportionally', 'Ordering Positive Decimals', 'Subtraction Whole Numbers', 'Venn Diagram', 'Subtraction Whole Numbers', 'Ordering Integers', 'Estimation', 'Conversion of Fraction Decimals Percents', 'Circle Graph', 'Table', 'Conversion of Fraction Decimals Percents', 'Finding Percents', 'Stem and Leaf Plot', 'Addition Whole Numbers', 'Conversion of Fraction Decimals Percents', 'Table', 'Ordering Positive Decimals', 'Table', 'Circle Graph', 'Stem and Leaf Plot', 'Table', 'Venn Diagram', 'Histogram as Table or Graph', 'Estimation', 'Stem and Leaf Plot', 'Subtraction Whole Numbers', 'Finding Percents', 'Ordering Positive Decimals', 'Ordering Positive Decimals', 'Scatter Plot', 'Finding Percents', 'Conversion of Fraction Decimals Percents', 'Circle Graph', 'Box and Whisker', 'Stem and Leaf Plot', 'Circle Graph', 'Ordering Integers', 'Conversion of Fraction Decimals Percents', 'Circle Graph', 'Box and Whisker', 'Conversion of Fraction Decimals Percents', 'Stem and Leaf Plot', 'Ordering Positive Decimals', 'Multiplication Fractions', 'Ordering Integers', 'Circle Graph', 'Circle Graph', 'Ordering Integers', 'Ordering Integers', 'Stem and Leaf Plot', 'Table', 'Venn Diagram', 'Subtraction Whole Numbers', 'Addition and Subtraction Positive Decimals', 'Box and Whisker', 'Counting Methods', 'Ordering Fractions', 'Subtraction Whole Numbers', 'Ordering Positive Decimals', 'Multiplication Fractions', 'Probability of a Single Event', 'Stem and Leaf Plot', 'Conversion of Fraction Decimals Percents', 'Conversion of Fraction Decimals Percents', 'Finding Percents', 'Finding Percents', 'Box and Whisker', 'Ordering Positive Decimals', 'Stem and Leaf Plot', 'Conversion of Fraction Decimals Percents', 'Conversion of Fraction Decimals Percents', 'Table', 'Estimation', 'Circle Graph', 'Circle Graph', 'Effect of Changing Dimensions of a Shape Prportionally', 'Box and Whisker', 'Table', 'Subtraction Whole Numbers', 'Conversion of Fraction Decimals Percents', 'Table', 'Subtraction Whole Numbers', 'Venn Diagram', 'Venn Diagram', 'Ordering Positive Decimals', 'Conversion of Fraction Decimals Percents', 'Table', 'Conversion of Fraction Decimals Percents', 'Ordering Positive Decimals', 'Conversion of Fraction Decimals Percents', 'Stem and Leaf Plot', 'Counting Methods', 'Conversion of Fraction Decimals Percents', 'Estimation', 'Estimation', 'Square Root', 'Circle Graph', 'Circle Graph', 'Venn Diagram', 'Venn Diagram', 'Probability of a Single Event', 'Ordering Positive Decimals', 'Box and Whisker', 'Conversion of Fraction Decimals Percents', 'Table', 'Circle Graph', 'Rounding', 'Table', 'Box and Whisker', 'Ordering Fractions', 'Ordering Integers', 'Stem and Leaf Plot', 'Probability of Two Distinct Events', 'Circle Graph', 'Addition Whole Numbers', 'Stem and Leaf Plot', 'Histogram as Table or Graph', 'Conversion of Fraction Decimals Percents', 'Scatter Plot', 'Conversion of Fraction Decimals Percents', 'Stem and Leaf Plot', 'Table', 'Ordering Integers', 'Conversion of Fraction Decimals Percents', 'Ordering Positive Decimals', 'Counting Methods', 'Table', 'Conversion of Fraction Decimals Percents', 'Table', 'Ordering Fractions', 'Table', 'Ordering Fractions', 'Table', 'Conversion of Fraction Decimals Percents', 'Conversion of Fraction Decimals Percents', 'Conversion of Fraction Decimals Percents', 'Addition Whole Numbers', 'Conversion of Fraction Decimals Percents', 'Addition and Subtraction Integers', 'Box and Whisker', 'Scatter Plot', 'Stem and Leaf Plot', 'Addition Whole Numbers', 'Finding Percents', 'Circle Graph', 'Counting Methods', 'Venn Diagram', 'Ordering Positive Decimals', 'Addition Whole Numbers', 'Square Root', 'Stem and Leaf Plot', 'Box and Whisker', 'Subtraction Whole Numbers', 'Box and Whisker', 'Circle Graph', 'Table', 'Ordering Fractions', 'Subtraction Whole Numbers', 'Conversion of Fraction Decimals Percents', 'Venn Diagram', 'Table', 'Venn Diagram', 'Histogram as Table or Graph', 'Probability of a Single Event', 'Table', 'Addition Whole Numbers', 'Ordering Integers', 'Box and Whisker', 'Subtraction Whole Numbers', 'Subtraction Whole Numbers', 'Circle Graph', 'Counting Methods', 'Conversion of Fraction Decimals Percents', 'Counting Methods', 'Conversion of Fraction Decimals Percents', 'Estimation', 'Table', 'Square Root', 'Venn Diagram', 'Ordering Integers', 'Circle Graph', 'Estimation', 'Scatter Plot', 'Addition Whole Numbers', 'Ordering Fractions', 'Venn Diagram', 'Conversion of Fraction Decimals Percents', 'Table', 'Mean', 'Conversion of Fraction Decimals Percents', 'Box and Whisker', 'Conversion of Fraction Decimals Percents', 'Estimation', 'Box and Whisker', 'Ordering Fractions', 'Conversion of Fraction Decimals Percents', 'Conversion of Fraction Decimals Percents', 'Effect of Changing Dimensions of a Shape Prportionally', 'Scatter Plot', 'Estimation', 'Addition Whole Numbers', 'Counting Methods', 'Stem and Leaf Plot', 'Addition Whole Numbers', 'Table', 'Least Common Multiple', 'Circle Graph', 'Conversion of Fraction Decimals Percents', 'Venn Diagram', 'Table', 'Box and Whisker', 'Square Root', 'Table', 'Stem and Leaf Plot', 'Box and Whisker', 'Histogram as Table or Graph', 'Scatter Plot', 'Box and Whisker', 'Percent Of', 'Table', 'Circle Graph', 'Table', 'Table', 'Stem and Leaf Plot', 'Stem and Leaf Plot', 'Conversion of Fraction Decimals Percents', 'Circle Graph', 'Circle Graph', 'Addition Whole Numbers', 'Scatter Plot', 'Venn Diagram', 'Multiplication Fractions', 'Box and Whisker', 'Venn Diagram', 'Stem and Leaf Plot', 'Stem and Leaf Plot', 'Counting Methods', 'Probability of Two Distinct Events', 'Conversion of Fraction Decimals Percents', 'Circle Graph', 'Conversion of Fraction Decimals Percents', 'Table', 'Scatter Plot', 'Box and Whisker', 'Stem and Leaf Plot', 'Circle Graph', 'Ordering Integers', 'Least Common Multiple', 'Multiplication Fractions', 'Stem and Leaf Plot', 'Subtraction Whole Numbers', 'Ordering Positive Decimals', 'Table', 'Scatter Plot', 'Scatter Plot', 'Ordering Fractions', 'Pythagorean Theorem', 'Stem and Leaf Plot', 'Ordering Positive Decimals', 'Addition Whole Numbers', 'Table', 'Ordering Positive Decimals', 'Finding Percents', 'Box and Whisker', 'Venn Diagram', 'Least Common Multiple', 'Estimation', 'Stem and Leaf Plot', 'Circle Graph', 'Venn Diagram', 'Stem and Leaf Plot', 'Table', 'Conversion of Fraction Decimals Percents', 'Circle Graph', 'Circle Graph', 'Ordering Fractions', 'Table', 'Addition Whole Numbers', 'Counting Methods', 'Circle Graph', 'Addition Whole Numbers', 'Table', 'Conversion of Fraction Decimals Percents', 'Conversion of Fraction Decimals Percents', 'Ordering Positive Decimals', 'Ordering Integers', 'Table', 'Table', 'Scatter Plot', 'Ordering Integers', 'Table', 'Table', 'Equivalent Fractions', 'Conversion of Fraction Decimals Percents', 'Multiplication Fractions', 'Circle Graph', 'Ordering Fractions', 'Box and Whisker', 'Stem and Leaf Plot', 'Stem and Leaf Plot', 'Histogram as Table or Graph', 'Subtraction Whole Numbers', 'Counting Methods', 'Circle Graph', 'Histogram as Table or Graph', 'Box and Whisker', 'Stem and Leaf Plot', 'Stem and Leaf Plot', 'Box and Whisker', 'Estimation', 'Subtraction Whole Numbers', 'Table', 'Circle Graph', 'Table', 'Stem and Leaf Plot', 'Box and Whisker', 'Ordering Positive Decimals', 'Ordering Integers', 'Histogram as Table or Graph', 'Circle Graph', 'Conversion of Fraction Decimals Percents', 'Least Common Multiple', 'Stem and Leaf Plot', 'Table', 'Probability of Two Distinct Events', 'Table', 'Ordering Fractions', 'Stem and Leaf Plot', 'Venn Diagram', 'Conversion of Fraction Decimals Percents', 'Estimation', 'Addition Whole Numbers', 'Box and Whisker', 'Scatter Plot', 'Addition Whole Numbers', 'Conversion of Fraction Decimals Percents', 'Estimation', 'Probability of a Single Event', 'Table', 'Conversion of Fraction Decimals Percents', 'Circle Graph', 'Estimation', 'Table', 'Table', 'Circle Graph', 'Table', 'Table', 'Conversion of Fraction Decimals Percents', 'Venn Diagram', 'Table', 'Box and Whisker', 'Ordering Integers', 'Table', 'Subtraction Whole Numbers', 'Venn Diagram', 'Addition and Subtraction Positive Decimals', 'Finding Percents', 'Addition Whole Numbers', 'Addition Whole Numbers', 'Circle Graph', 'Stem and Leaf Plot', 'Ordering Positive Decimals', 'Conversion of Fraction Decimals Percents', 'Estimation', 'Ordering Fractions', 'Conversion of Fraction Decimals Percents', 'Stem and Leaf Plot', 'Box and Whisker', 'Table', 'Stem and Leaf Plot', 'Venn Diagram', 'Estimation', 'Table', 'Conversion of Fraction Decimals Percents', 'Ordering Integers', 'Stem and Leaf Plot', 'Estimation', 'Ordering Integers', 'Circle Graph', 'Counting Methods', 'Venn Diagram', 'Scatter Plot', 'Box and Whisker', 'Venn Diagram', 'Table', 'Histogram as Table or Graph', 'Box and Whisker', 'Circle Graph', 'Circle Graph', 'Conversion of Fraction Decimals Percents', 'Ordering Positive Decimals', 'Addition Whole Numbers', 'Circle Graph', 'Table', 'Conversion of Fraction Decimals Percents', 'Circle Graph', 'Number Line', 'Stem and Leaf Plot', 'Finding Percents', 'Stem and Leaf Plot', 'Ordering Positive Decimals', 'Stem and Leaf Plot', 'Circle Graph', 'Addition and Subtraction Positive Decimals', 'Box and Whisker', 'Circle Graph', 'Ordering Integers', 'Conversion of Fraction Decimals Percents', 'Stem and Leaf Plot', 'Table', 'Box and Whisker', 'Stem and Leaf Plot', 'Circle Graph', 'Ordering Integers', 'Stem and Leaf Plot', 'Conversion of Fraction Decimals Percents', 'Stem and Leaf Plot', 'Histogram as Table or Graph', 'Circle Graph', 'Stem and Leaf Plot', 'Circle Graph', 'Table', 'Table', 'Venn Diagram', 'Stem and Leaf Plot', 'Conversion of Fraction Decimals Percents', 'Box and Whisker', 'Estimation', 'Conversion of Fraction Decimals Percents', 'Stem and Leaf Plot', 'Effect of Changing Dimensions of a Shape Prportionally', 'Scatter Plot', 'Table', 'Conversion of Fraction Decimals Percents', 'Ordering Positive Decimals', 'Histogram as Table or Graph', 'Finding Percents', 'Box and Whisker', 'Box and Whisker', 'Venn Diagram', 'Conversion of Fraction Decimals Percents', 'Table', 'Probability of Two Distinct Events', 'Venn Diagram', 'Stem and Leaf Plot', 'Addition Whole Numbers', 'Conversion of Fraction Decimals Percents', 'Ordering Fractions', 'Estimation', 'Subtraction Whole Numbers', 'Circle Graph', 'Stem and Leaf Plot', 'Box and Whisker', 'Histogram as Table or Graph', 'Box and Whisker', 'Estimation', 'Ordering Positive Decimals', 'Venn Diagram', 'Circle Graph', 'Estimation', 'Ordering Positive Decimals', 'Least Common Multiple', 'Ordering Positive Decimals', 'Conversion of Fraction Decimals Percents', 'Circle Graph', 'Estimation', 'Box and Whisker', 'Circle Graph', 'Counting Methods', 'Table', 'Ordering Fractions', 'Conversion of Fraction Decimals Percents', 'Stem and Leaf Plot', 'Table', 'Circle Graph', 'Addition and Subtraction Integers', 'Stem and Leaf Plot', 'Estimation', 'Stem and Leaf Plot', 'Conversion of Fraction Decimals Percents', 'Table', 'Ordering Positive Decimals', 'Venn Diagram', 'Box and Whisker', 'Ordering Integers', 'Table', 'Conversion of Fraction Decimals Percents', 'Table', 'Histogram as Table or Graph', 'Estimation', 'Ordering Positive Decimals', 'Square Root', 'Circle Graph', 'Stem and Leaf Plot', 'Conversion of Fraction Decimals Percents', 'Conversion of Fraction Decimals Percents', 'Stem and Leaf Plot', 'Multiplication Fractions', 'Circle Graph', 'Box and Whisker', 'Stem and Leaf Plot', 'Circle Graph', 'Ordering Positive Decimals', 'Scatter Plot', 'Box and Whisker', 'Stem and Leaf Plot', 'Probability of Two Distinct Events', 'Box and Whisker', 'Venn Diagram', 'Histogram as Table or Graph', 'Ordering Fractions', 'Table', 'Conversion of Fraction Decimals Percents', 'Multiplication Fractions', 'Circle Graph', 'Venn Diagram', 'Conversion of Fraction Decimals Percents', 'Ordering Positive Decimals', 'Stem and Leaf Plot', 'Stem and Leaf Plot', 'Venn Diagram', 'Circle Graph', 'Circle Graph', 'Finding Percents', 'Estimation', 'Scatter Plot', 'Finding Percents', 'Stem and Leaf Plot', 'Circle Graph', 'Stem and Leaf Plot', 'Conversion of Fraction Decimals Percents', 'Stem and Leaf Plot', 'Stem and Leaf Plot', 'Subtraction Whole Numbers', 'Conversion of Fraction Decimals Percents', 'Circle Graph', 'Circle Graph', 'Stem and Leaf Plot', 'Stem and Leaf Plot', 'Stem and Leaf Plot', 'Estimation', 'Venn Diagram', 'Addition Whole Numbers', 'Circle Graph', 'Circle Graph', 'Stem and Leaf Plot', 'Circle Graph', 'Ordering Positive Decimals', 'Table', 'Addition Whole Numbers', 'Effect of Changing Dimensions of a Shape Prportionally', 'Ordering Integers', 'Conversion of Fraction Decimals Percents', 'Circle Graph', 'Scatter Plot', 'Table', 'Estimation', 'Table', 'Ordering Positive Decimals', 'Stem and Leaf Plot', 'Table', 'Estimation', 'Circle Graph', 'Box and Whisker', 'Ordering Fractions', 'Circle Graph', 'Table', 'Circle Graph', 'Ordering Integers', 'Conversion of Fraction Decimals Percents', 'Counting Methods', 'Conversion of Fraction Decimals Percents', 'Stem and Leaf Plot', 'Ordering Positive Decimals', 'Subtraction Whole Numbers', 'Conversion of Fraction Decimals Percents', 'Addition Whole Numbers', 'Venn Diagram', 'Estimation', 'Stem and Leaf Plot', 'Stem and Leaf Plot', 'Circle Graph', 'Estimation', 'Stem and Leaf Plot', 'Estimation', 'Scatter Plot', 'Square Root', 'Finding Percents', 'Venn Diagram', 'Venn Diagram', 'Circle Graph', 'Ordering Positive Decimals', 'Addition and Subtraction Integers', 'Table', 'Probability of a Single Event', 'Subtraction Whole Numbers', 'Counting Methods', 'Ordering Fractions', 'Estimation', 'Finding Percents', 'Table', 'Ordering Positive Decimals', 'Stem and Leaf Plot', 'Circle Graph', 'Ordering Positive Decimals', 'Venn Diagram', 'Subtraction Whole Numbers', 'Circle Graph', 'Table', 'Circle Graph', 'Conversion of Fraction Decimals Percents', 'Ordering Positive Decimals', 'Table', 'Addition Whole Numbers', 'Table', 'Table', 'Stem and Leaf Plot', 'Circle Graph', 'Conversion of Fraction Decimals Percents', 'Ordering Integers', 'Venn Diagram', 'Subtraction Whole Numbers', 'Scatter Plot', 'Histogram as Table or Graph', 'Circle Graph', 'Ordering Fractions', 'Scatter Plot', 'Ordering Positive Decimals', 'Circle Graph', 'Table', 'Multiplication Fractions', 'Conversion of Fraction Decimals Percents', 'Scatter Plot', 'Division Fractions', 'Ordering Fractions', 'Stem and Leaf Plot', 'Circle Graph', 'Addition Whole Numbers', 'Venn Diagram', 'Conversion of Fraction Decimals Percents', 'Venn Diagram', 'Circle Graph', 'Circle Graph', 'Conversion of Fraction Decimals Percents', 'Stem and Leaf Plot', 'Stem and Leaf Plot', 'Box and Whisker', 'Probability of Two Distinct Events', 'Circle Graph', 'Table', 'Stem and Leaf Plot', 'Venn Diagram', 'Ordering Positive Decimals', 'Box and Whisker', 'Table', 'Venn Diagram', 'Addition and Subtraction Integers', 'Conversion of Fraction Decimals Percents', 'Conversion of Fraction Decimals Percents', 'Conversion of Fraction Decimals Percents', 'Conversion of Fraction Decimals Percents', 'Box and Whisker', 'Addition Whole Numbers', 'Circle Graph', 'Histogram as Table or Graph', 'Probability of Two Distinct Events', 'Table', 'Counting Methods', 'Table', 'Absolute Value', 'Histogram as Table or Graph', 'Estimation', 'Addition Whole Numbers', 'Histogram as Table or Graph', 'Stem and Leaf Plot', 'Subtraction Whole Numbers', 'Ordering Integers', 'Scatter Plot', 'Stem and Leaf Plot', 'Addition Whole Numbers', 'Ordering Integers', 'Estimation', 'Circle Graph', 'Conversion of Fraction Decimals Percents', 'Scatter Plot', 'Table', 'Table', 'Conversion of Fraction Decimals Percents', 'Circle Graph', 'Stem and Leaf Plot', 'Circle Graph', 'Table', 'Effect of Changing Dimensions of a Shape Prportionally', 'Effect of Changing Dimensions of a Shape Prportionally', 'Circle Graph', 'Circle Graph', 'Ordering Integers', 'Stem and Leaf Plot', 'Addition Whole Numbers', 'Stem and Leaf Plot', 'Addition and Subtraction Integers', 'Table', 'Box and Whisker', 'Conversion of Fraction Decimals Percents', 'Table', 'Finding Percents', 'Histogram as Table or Graph', 'Percent Of', 'Scatter Plot', 'Stem and Leaf Plot', 'Ordering Positive Decimals', 'Table', 'Ordering Integers', 'Finding Percents', 'Stem and Leaf Plot', 'Venn Diagram', 'Ordering Positive Decimals', 'Estimation', 'Conversion of Fraction Decimals Percents', 'Box and Whisker', 'Ordering Fractions', 'Circle Graph', 'Box and Whisker', 'Stem and Leaf Plot', 'Stem and Leaf Plot', 'Absolute Value', 'Conversion of Fraction Decimals Percents', 'Venn Diagram', 'Addition and Subtraction Positive Decimals', 'Stem and Leaf Plot', 'Circle Graph', 'Conversion of Fraction Decimals Percents', 'Ordering Integers', 'Addition Whole Numbers', 'Conversion of Fraction Decimals Percents', 'Circle Graph', 'Stem and Leaf Plot', 'Venn Diagram', 'Box and Whisker', 'Stem and Leaf Plot', 'Counting Methods', 'Box and Whisker', 'Division Fractions', 'Addition and Subtraction Positive Decimals', 'Stem and Leaf Plot', 'Conversion of Fraction Decimals Percents', 'Ordering Positive Decimals', 'Scatter Plot', 'Ordering Fractions', 'Ordering Positive Decimals', 'Conversion of Fraction Decimals Percents', 'Circle Graph', 'Ordering Positive Decimals', 'Conversion of Fraction Decimals Percents', 'Table', 'Multiplication Fractions', 'Addition and Subtraction Integers', 'Ordering Fractions', 'Table', 'Box and Whisker', 'Conversion of Fraction Decimals Percents', 'Conversion of Fraction Decimals Percents', 'Probability of a Single Event', 'Box and Whisker', 'Circle Graph', 'Square Root', 'Stem and Leaf Plot', 'Ordering Fractions', 'Addition Whole Numbers', 'Table', 'Addition Whole Numbers', 'Conversion of Fraction Decimals Percents', 'Ordering Integers', 'Ordering Integers', 'Stem and Leaf Plot', 'Table', 'Venn Diagram', 'Table', 'Circle Graph', 'Circle Graph', 'Table', 'Stem and Leaf Plot', 'Table', 'Stem and Leaf Plot', 'Conversion of Fraction Decimals Percents', 'Circle Graph', 'Subtraction Whole Numbers', 'Venn Diagram', 'Box and Whisker', 'Table', 'Ordering Positive Decimals', 'Circle Graph', 'Circle Graph', 'Finding Percents', 'Finding Percents', 'Ordering Positive Decimals', 'Conversion of Fraction Decimals Percents', 'Stem and Leaf Plot', 'Box and Whisker', 'Conversion of Fraction Decimals Percents', 'Conversion of Fraction Decimals Percents', 'Scatter Plot', 'Table', 'Division Fractions', 'Venn Diagram', 'Table', 'Stem and Leaf Plot', 'Venn Diagram', 'Table', 'Table', 'Table', 'Scatter Plot', 'Conversion of Fraction Decimals Percents', 'Least Common Multiple', 'Circle Graph', 'Ordering Positive Decimals', 'Stem and Leaf Plot', 'Box and Whisker', 'Circle Graph', 'Stem and Leaf Plot', 'Venn Diagram', 'Circle Graph', 'Ordering Integers', 'Circle Graph', 'Subtraction Whole Numbers', 'Table', 'Probability of Two Distinct Events', 'Circle Graph', 'Ordering Positive Decimals', 'Ordering Positive Decimals', 'Histogram as Table or Graph', 'Table', 'Circle Graph', 'Stem and Leaf Plot', 'Table', 'Table', 'Addition Whole Numbers', 'Table', 'Box and Whisker', 'Table', 'Circle Graph', 'Venn Diagram', 'Ordering Fractions', 'Ordering Integers', 'Least Common Multiple', 'Circle Graph', 'Circle Graph', 'Circle Graph', 'Table', 'Conversion of Fraction Decimals Percents', 'Ordering Positive Decimals', 'Circle Graph', 'Stem and Leaf Plot', 'Ordering Fractions', 'Absolute Value', 'Stem and Leaf Plot', 'Stem and Leaf Plot', 'Subtraction Whole Numbers', 'Table', 'Stem and Leaf Plot', 'Finding Percents', 'Circle Graph', 'Table', 'Histogram as Table or Graph', 'Counting Methods', 'Least Common Multiple', 'Circle Graph', 'Circle Graph', 'Table', 'Scatter Plot', 'Venn Diagram', 'Box and Whisker', 'Box and Whisker', 'Circle Graph', 'Circle Graph', 'Table', 'Least Common Multiple', 'Venn Diagram', 'Conversion of Fraction Decimals Percents', 'Addition Whole Numbers', 'Ordering Integers', 'Histogram as Table or Graph', 'Conversion of Fraction Decimals Percents', 'Addition Whole Numbers', 'Stem and Leaf Plot', 'Ordering Positive Decimals', 'Conversion of Fraction Decimals Percents', 'Stem and Leaf Plot', 'Histogram as Table or Graph', 'Ordering Positive Decimals', 'Circle Graph', 'Counting Methods', 'Ordering Positive Decimals', 'Conversion of Fraction Decimals Percents', 'Square Root', 'Subtraction Whole Numbers', 'Conversion of Fraction Decimals Percents', 'Histogram as Table or Graph', 'Table', 'Conversion of Fraction Decimals Percents', 'Ordering Positive Decimals', 'Table', 'Scatter Plot', 'Table', 'Number Line', 'Table', 'Box and Whisker', 'Scatter Plot', 'Table', 'Scatter Plot', 'Stem and Leaf Plot', 'Stem and Leaf Plot', 'Box and Whisker', 'Addition and Subtraction Integers', 'Addition Whole Numbers', 'Circle Graph', 'Ordering Positive Decimals', 'Stem and Leaf Plot', 'Circle Graph', 'Scatter Plot', 'Probability of a Single Event', 'Table', 'Histogram as Table or Graph', 'Circle Graph', 'Subtraction Whole Numbers', 'Histogram as Table or Graph', 'Circle Graph', 'Table', 'Ordering Positive Decimals', 'Ordering Positive Decimals', 'Addition and Subtraction Integers', 'Box and Whisker', 'Histogram as Table or Graph', 'Circle Graph', 'Circle Graph', 'Conversion of Fraction Decimals Percents', 'Conversion of Fraction Decimals Percents', 'Conversion of Fraction Decimals Percents', 'Ordering Integers', 'Scatter Plot', 'Venn Diagram', 'Conversion of Fraction Decimals Percents', 'Venn Diagram', 'Least Common Multiple', 'Ordering Integers', 'Conversion of Fraction Decimals Percents', 'Table', 'Conversion of Fraction Decimals Percents', 'Conversion of Fraction Decimals Percents', 'Ordering Positive Decimals', 'Box and Whisker', 'Conversion of Fraction Decimals Percents', 'Stem and Leaf Plot', 'Circle Graph', 'Circle Graph', 'Probability of Two Distinct Events', 'Circle Graph', 'Least Common Multiple', 'Box and Whisker', 'Circle Graph', 'Circle Graph', 'Addition Whole Numbers', 'Subtraction Whole Numbers', 'Addition Whole Numbers', 'Venn Diagram', 'Stem and Leaf Plot', 'Table', 'Table', 'Estimation', 'Circle Graph', 'Ordering Fractions', 'Ordering Integers', 'Addition Whole Numbers', 'Ordering Positive Decimals', 'Box and Whisker', 'Table', 'Histogram as Table or Graph', 'Conversion of Fraction Decimals Percents', 'Stem and Leaf Plot', 'Histogram as Table or Graph', 'Venn Diagram', 'Least Common Multiple', 'Box and Whisker', 'Ordering Positive Decimals', 'Subtraction Whole Numbers', 'Circle Graph', 'Histogram as Table or Graph', 'Venn Diagram', 'Venn Diagram', 'Addition and Subtraction Integers', 'Box and Whisker', 'Counting Methods', 'Stem and Leaf Plot', 'Stem and Leaf Plot', 'Box and Whisker', 'Ordering Positive Decimals', 'Table', 'Table', 'Square Root', 'Circle Graph', 'Circle Graph', 'Estimation', 'Stem and Leaf Plot', 'Table', 'Addition Whole Numbers', 'Box and Whisker', 'Conversion of Fraction Decimals Percents', 'Conversion of Fraction Decimals Percents', 'Conversion of Fraction Decimals Percents', 'Circle Graph', 'Ordering Integers', 'Scatter Plot', 'Conversion of Fraction Decimals Percents', 'Addition and Subtraction Integers', 'Addition Whole Numbers', 'Ordering Positive Decimals', 'Box and Whisker', 'Ordering Positive Decimals', 'Stem and Leaf Plot', 'Subtraction Whole Numbers', 'Ordering Positive Decimals', 'Estimation', 'Stem and Leaf Plot', 'Scatter Plot', 'Stem and Leaf Plot', 'Stem and Leaf Plot', 'Stem and Leaf Plot', 'Finding Percents', 'Table', 'Circle Graph', 'Stem and Leaf Plot', 'Ordering Positive Decimals', 'Multiplication Fractions', 'Conversion of Fraction Decimals Percents', 'Conversion of Fraction Decimals Percents', 'Conversion of Fraction Decimals Percents', 'Multiplication Fractions', 'Stem and Leaf Plot', 'Square Root', 'Finding Percents', 'Ordering Fractions', 'Finding Percents', 'Box and Whisker', 'Conversion of Fraction Decimals Percents', 'Venn Diagram', 'Stem and Leaf Plot', 'Estimation', 'Subtraction Whole Numbers', 'Conversion of Fraction Decimals Percents', 'Box and Whisker', 'Box and Whisker', 'Subtraction Whole Numbers', 'Box and Whisker', 'Square Root', 'Conversion of Fraction Decimals Percents', 'Circle Graph', 'Addition Whole Numbers', 'Circle Graph', 'Box and Whisker', 'Addition Whole Numbers', 'Venn Diagram', 'Order of Operations All', 'Ordering Positive Decimals', 'Addition Whole Numbers', 'Stem and Leaf Plot', 'Box and Whisker', 'Circle Graph', 'Ordering Positive Decimals', 'Table', 'Circle Graph', 'Ordering Integers', 'Table', 'Subtraction Whole Numbers', 'Ordering Integers', 'Least Common Multiple', 'Table', 'Ordering Fractions', 'Stem and Leaf Plot', 'Circle Graph', 'Box and Whisker', 'Table', 'Conversion of Fraction Decimals Percents', 'Subtraction Whole Numbers', 'Counting Methods', 'Ordering Positive Decimals', 'Addition Whole Numbers', 'Conversion of Fraction Decimals Percents', 'Ordering Integers', 'Box and Whisker', 'Least Common Multiple', 'Histogram as Table or Graph', 'Stem and Leaf Plot', 'Ordering Integers', 'Stem and Leaf Plot', 'Square Root', 'Division Fractions', 'Circle Graph', 'Circle Graph', 'Venn Diagram', 'Addition and Subtraction Positive Decimals', 'Addition and Subtraction Positive Decimals', 'Box and Whisker', 'Circle Graph', 'Scatter Plot', 'Ordering Fractions', 'Box and Whisker', 'Histogram as Table or Graph', 'Stem and Leaf Plot', 'Ordering Fractions', 'Least Common Multiple', 'Addition and Subtraction Integers', 'Circle Graph', 'Table', 'Addition Whole Numbers', 'Histogram as Table or Graph', 'Table', 'Scatter Plot', 'Estimation', 'Table', 'Conversion of Fraction Decimals Percents', 'Table', 'Table', 'Circle Graph', 'Venn Diagram', 'Scatter Plot', 'Counting Methods', 'Addition and Subtraction Integers', 'Least Common Multiple', 'Scatter Plot', 'Probability of Two Distinct Events', 'Addition Whole Numbers', 'Table', 'Circle Graph', 'Conversion of Fraction Decimals Percents', 'Ordering Integers', 'Conversion of Fraction Decimals Percents', 'Addition and Subtraction Positive Decimals', 'Ordering Integers', 'Stem and Leaf Plot', 'Circle Graph', 'Box and Whisker', 'Stem and Leaf Plot', 'Circle Graph', 'Stem and Leaf Plot', 'Stem and Leaf Plot', 'Table', 'Histogram as Table or Graph', 'Ordering Positive Decimals', 'Table', 'Venn Diagram', 'Stem and Leaf Plot', 'Venn Diagram', 'Ordering Integers', 'Effect of Changing Dimensions of a Shape Prportionally', 'Effect of Changing Dimensions of a Shape Prportionally', 'Subtraction Whole Numbers', 'Stem and Leaf Plot', 'Circle Graph', 'Table', 'Estimation', 'Stem and Leaf Plot', 'Ordering Positive Decimals', 'Conversion of Fraction Decimals Percents', 'Table', 'Counting Methods', 'Table', 'Box and Whisker', 'Counting Methods', 'Stem and Leaf Plot', 'Conversion of Fraction Decimals Percents', 'Conversion of Fraction Decimals Percents', 'Subtraction Whole Numbers', 'Histogram as Table or Graph', 'Box and Whisker', 'Venn Diagram', 'Conversion of Fraction Decimals Percents', 'Scatter Plot', 'Circle Graph', 'Ordering Positive Decimals', 'Table', 'Conversion of Fraction Decimals Percents', 'Probability of Two Distinct Events', 'Box and Whisker', 'Conversion of Fraction Decimals Percents', 'Probability of a Single Event', 'Conversion of Fraction Decimals Percents', 'Stem and Leaf Plot', 'Circle Graph', 'Conversion of Fraction Decimals Percents', 'Ordering Integers', 'Ordering Integers', 'Circle Graph', 'Box and Whisker', 'Table', 'Addition Whole Numbers', 'Stem and Leaf Plot', 'Conversion of Fraction Decimals Percents', 'Circle Graph', 'Conversion of Fraction Decimals Percents', 'Multiplication Fractions', 'Conversion of Fraction Decimals Percents', 'Circle Graph', 'Addition Whole Numbers', 'Table', 'Addition Whole Numbers', 'Conversion of Fraction Decimals Percents', 'Addition and Subtraction Integers', 'Histogram as Table or Graph', 'Table', 'Addition Whole Numbers', 'Box and Whisker', 'Stem and Leaf Plot', 'Venn Diagram', 'Venn Diagram', 'Addition and Subtraction Integers', 'Table', 'Box and Whisker', 'Conversion of Fraction Decimals Percents', 'Venn Diagram', 'Stem and Leaf Plot', 'Finding Percents', 'Ordering Positive Decimals', 'Histogram as Table or Graph', 'Scatter Plot', 'Ordering Fractions', 'Estimation', 'Circle Graph', 'Conversion of Fraction Decimals Percents', 'Scatter Plot', 'Circle Graph', 'Box and Whisker', 'Conversion of Fraction Decimals Percents', 'Subtraction Whole Numbers', 'Ordering Positive Decimals', 'Stem and Leaf Plot', 'Addition Whole Numbers', 'Number Line', 'Table', 'Stem and Leaf Plot', 'Finding Percents', 'Probability of Two Distinct Events', 'Stem and Leaf Plot', 'Table', 'Box and Whisker', 'Table', 'Addition Whole Numbers', 'Stem and Leaf Plot', 'Ordering Integers', 'Ordering Positive Decimals', 'Ordering Positive Decimals', 'Venn Diagram', 'Scatter Plot', 'Estimation', 'Ordering Fractions', 'Conversion of Fraction Decimals Percents', 'Finding Percents', 'Stem and Leaf Plot', 'Histogram as Table or Graph', 'Subtraction Whole Numbers', 'Scatter Plot', 'Circle Graph', 'Circle Graph', 'Addition and Subtraction Integers', 'Conversion of Fraction Decimals Percents', 'Effect of Changing Dimensions of a Shape Prportionally', 'Ordering Integers', 'Probability of a Single Event', 'Stem and Leaf Plot', 'Circle Graph', 'Stem and Leaf Plot', 'Addition Whole Numbers', 'Circle Graph', 'Venn Diagram', 'Ordering Fractions', 'Addition Whole Numbers', 'Circle Graph', 'Circle Graph', 'Conversion of Fraction Decimals Percents', 'Circle Graph', 'Least Common Multiple', 'Scatter Plot', 'Conversion of Fraction Decimals Percents', 'Table', 'Stem and Leaf Plot', 'Finding Percents', 'Subtraction Whole Numbers', 'Box and Whisker', 'Division Fractions', 'Venn Diagram', 'Ordering Fractions', 'Addition Whole Numbers', 'Square Root', 'Table', 'Venn Diagram', 'Venn Diagram', 'Addition Whole Numbers', 'Ordering Positive Decimals', 'Conversion of Fraction Decimals Percents', 'Subtraction Whole Numbers', 'Addition and Subtraction Integers', 'Table', 'Ordering Integers', 'Conversion of Fraction Decimals Percents', 'Table', 'Box and Whisker', 'Table', 'Circle Graph', 'Box and Whisker', 'Box and Whisker', 'Stem and Leaf Plot', 'Ordering Positive Decimals', 'Stem and Leaf Plot', 'Table', 'Stem and Leaf Plot', 'Scatter Plot', 'Circle Graph', 'Square Root', 'Circle Graph', 'Circle Graph', 'Conversion of Fraction Decimals Percents', 'Stem and Leaf Plot', 'Stem and Leaf Plot', 'Ordering Positive Decimals', 'Circle Graph', 'Conversion of Fraction Decimals Percents', 'Table', 'Stem and Leaf Plot', 'Table', 'Table', 'Scatter Plot', 'Venn Diagram', 'Histogram as Table or Graph', 'Conversion of Fraction Decimals Percents', 'Venn Diagram', 'Histogram as Table or Graph', 'Stem and Leaf Plot', 'Conversion of Fraction Decimals Percents', 'Circle Graph', 'Ordering Positive Decimals', 'Box and Whisker', 'Ordering Positive Decimals', 'Square Root', 'Estimation', 'Stem and Leaf Plot', 'Table', 'Venn Diagram', 'Table', 'Stem and Leaf Plot', 'Effect of Changing Dimensions of a Shape Prportionally', 'Table', 'Venn Diagram', 'Multiplication Fractions', 'Table', 'Finding Percents', 'Conversion of Fraction Decimals Percents', 'Scatter Plot', 'Box and Whisker', 'Addition and Subtraction Integers', 'Stem and Leaf Plot', 'Number Line', 'Venn Diagram', 'Finding Percents', 'Multiplication Fractions', 'Stem and Leaf Plot', 'Scatter Plot', 'Stem and Leaf Plot', 'Stem and Leaf Plot', 'Addition and Subtraction Integers', 'Box and Whisker', 'Conversion of Fraction Decimals Percents', 'Conversion of Fraction Decimals Percents', 'Venn Diagram', 'Square Root', 'Square Root', 'Stem and Leaf Plot', 'Stem and Leaf Plot', 'Scatter Plot', 'Stem and Leaf Plot', 'Stem and Leaf Plot', 'Circle Graph', 'Conversion of Fraction Decimals Percents', 'Venn Diagram', 'Counting Methods', 'Conversion of Fraction Decimals Percents', 'Ordering Positive Decimals', 'Circle Graph', 'Venn Diagram', 'Table', 'Counting Methods', 'Addition Whole Numbers', 'Stem and Leaf Plot', 'Histogram as Table or Graph', 'Effect of Changing Dimensions of a Shape Prportionally', 'Effect of Changing Dimensions of a Shape Prportionally', 'Circle Graph', 'Ordering Integers', 'Effect of Changing Dimensions of a Shape Prportionally', 'Circle Graph', 'Counting Methods', 'Stem and Leaf Plot', 'Ordering Integers', 'Conversion of Fraction Decimals Percents', 'Histogram as Table or Graph', 'Ordering Integers', 'Square Root', 'Stem and Leaf Plot', 'Addition and Subtraction Integers', 'Table', 'Box and Whisker', 'Circle Graph', 'Ordering Positive Decimals', 'Table', 'Addition and Subtraction Integers', 'Ordering Fractions', 'Circle Graph', 'Venn Diagram', 'Table', 'Table', 'Addition and Subtraction Positive Decimals', 'Estimation', 'Box and Whisker', 'Table', 'Table', 'Estimation', 'Table', 'Stem and Leaf Plot', 'Ordering Integers', 'Table', 'Addition Whole Numbers', 'Circle Graph', 'Addition Whole Numbers', 'Circle Graph', 'Ordering Positive Decimals', 'Circle Graph', 'Table', 'Ordering Integers', 'Multiplication Fractions', 'Ordering Positive Decimals', 'Scatter Plot', 'Conversion of Fraction Decimals Percents', 'Circle Graph', 'Conversion of Fraction Decimals Percents', 'Conversion of Fraction Decimals Percents', 'Histogram as Table or Graph', 'Addition and Subtraction Positive Decimals', 'Histogram as Table or Graph', 'Counting Methods', 'Table', 'Table', 'Conversion of Fraction Decimals Percents', 'Ordering Integers', 'Table', 'Scatter Plot', 'Circle Graph', 'Estimation', 'Stem and Leaf Plot', 'Venn Diagram', 'Circle Graph', 'Addition and Subtraction Positive Decimals', 'Ordering Integers', 'Stem and Leaf Plot', 'Box and Whisker', 'Ordering Positive Decimals', 'Venn Diagram', 'Estimation', 'Table', 'Multiplication Fractions', 'Table', 'Circle Graph', 'Ordering Positive Decimals', 'Addition Whole Numbers', 'Circle Graph', 'Stem and Leaf Plot', 'Circle Graph', 'Scatter Plot', 'Conversion of Fraction Decimals Percents', 'Stem and Leaf Plot', 'Stem and Leaf Plot', 'Circle Graph', 'Ordering Positive Decimals', 'Conversion of Fraction Decimals Percents', 'Table', 'Stem and Leaf Plot', 'Stem and Leaf Plot', 'Conversion of Fraction Decimals Percents', 'Stem and Leaf Plot', 'Probability of Two Distinct Events', 'Table', 'Ordering Positive Decimals', 'Conversion of Fraction Decimals Percents', 'Circle Graph', 'Circle Graph', 'Scatter Plot', 'Histogram as Table or Graph', 'Addition Whole Numbers', 'Circle Graph', 'Conversion of Fraction Decimals Percents', 'Circle Graph', 'Box and Whisker', 'Table', 'Ordering Positive Decimals', 'Conversion of Fraction Decimals Percents', 'Probability of a Single Event', 'Venn Diagram', 'Conversion of Fraction Decimals Percents', 'Box and Whisker', 'Probability of Two Distinct Events', 'Conversion of Fraction Decimals Percents', 'Conversion of Fraction Decimals Percents', 'Ordering Positive Decimals', 'Conversion of Fraction Decimals Percents', 'Stem and Leaf Plot', 'Square Root', 'Stem and Leaf Plot', 'Box and Whisker', 'Effect of Changing Dimensions of a Shape Prportionally', 'Estimation', 'Least Common Multiple', 'Stem and Leaf Plot', 'Finding Percents', 'Circle Graph', 'Estimation', 'Table', 'Counting Methods', 'Table', 'Table', 'Histogram as Table or Graph', 'Circle Graph', 'Estimation', 'Circle Graph', 'Ordering Positive Decimals', 'Ordering Positive Decimals', 'Conversion of Fraction Decimals Percents', 'Circle Graph', 'Multiplication Fractions', 'Box and Whisker', 'Circle Graph', 'Conversion of Fraction Decimals Percents', 'Box and Whisker', 'Choose an Equation from Given Information', 'Counting Methods', 'Conversion of Fraction Decimals Percents', 'Stem and Leaf Plot', 'Ordering Positive Decimals', 'Conversion of Fraction Decimals Percents', 'Stem and Leaf Plot', 'Table', 'Effect of Changing Dimensions of a Shape Prportionally', 'Box and Whisker', 'Addition Whole Numbers', 'Circle Graph', 'Stem and Leaf Plot', 'Stem and Leaf Plot', 'Choose an Equation from Given Information', 'Venn Diagram', 'Box and Whisker', 'Stem and Leaf Plot', 'Scatter Plot', 'Order of Operations All', 'Histogram as Table or Graph', 'Table', 'Venn Diagram', 'Ordering Positive Decimals', 'Circle Graph', 'Counting Methods', 'Equivalent Fractions', 'Circle Graph', 'Addition Whole Numbers']\n"
     ]
    }
   ],
   "source": [
    "print(assist_skill)"
   ]
  },
  {
   "cell_type": "code",
   "execution_count": null,
   "metadata": {
    "collapsed": true
   },
   "outputs": [],
   "source": []
  }
 ],
 "metadata": {
  "anaconda-cloud": {},
  "kernelspec": {
   "display_name": "Python [pythonEnv]",
   "language": "python",
   "name": "Python [pythonEnv]"
  },
  "language_info": {
   "codemirror_mode": {
    "name": "ipython",
    "version": 3
   },
   "file_extension": ".py",
   "mimetype": "text/x-python",
   "name": "python",
   "nbconvert_exporter": "python",
   "pygments_lexer": "ipython3",
   "version": "3.5.3"
  }
 },
 "nbformat": 4,
 "nbformat_minor": 2
}
